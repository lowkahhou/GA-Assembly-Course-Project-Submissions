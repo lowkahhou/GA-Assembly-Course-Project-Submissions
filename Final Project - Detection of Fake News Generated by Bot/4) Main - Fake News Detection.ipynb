{
 "cells": [
  {
   "cell_type": "code",
   "execution_count": 1,
   "metadata": {},
   "outputs": [],
   "source": [
    "import pandas as pd\n",
    "import numpy as np\n",
    "import matplotlib.pyplot as plt\n",
    "import seaborn as sns\n",
    "import random\n",
    "from sklearn.preprocessing import StandardScaler\n",
    "from sklearn.linear_model import LogisticRegression, SGDClassifier\n",
    "from sklearn.naive_bayes import MultinomialNB, BernoulliNB, GaussianNB\n",
    "from sklearn.svm import SVC\n",
    "from sklearn.ensemble import RandomForestClassifier\n",
    "from xgboost import XGBClassifier\n",
    "from sklearn.pipeline import Pipeline\n",
    "import pickle\n",
    "from sklearn.base import TransformerMixin,BaseEstimator\n",
    "from sklearn.model_selection import cross_val_score, StratifiedKFold, train_test_split\n",
    "from sklearn.feature_extraction.text import CountVectorizer\n",
    "from sklearn.feature_extraction.text import TfidfVectorizer, TfidfTransformer\n",
    "from sklearn.metrics import roc_auc_score, roc_curve, auc, confusion_matrix, classification_report, accuracy_score, precision_recall_fscore_support\n",
    "\n",
    "pd.options.display.max_columns = 400"
   ]
  },
  {
   "cell_type": "code",
   "execution_count": 2,
   "metadata": {},
   "outputs": [
    {
     "data": {
      "text/html": [
       "<div>\n",
       "<style scoped>\n",
       "    .dataframe tbody tr th:only-of-type {\n",
       "        vertical-align: middle;\n",
       "    }\n",
       "\n",
       "    .dataframe tbody tr th {\n",
       "        vertical-align: top;\n",
       "    }\n",
       "\n",
       "    .dataframe thead th {\n",
       "        text-align: right;\n",
       "    }\n",
       "</style>\n",
       "<table border=\"1\" class=\"dataframe\">\n",
       "  <thead>\n",
       "    <tr style=\"text-align: right;\">\n",
       "      <th></th>\n",
       "      <th>titles</th>\n",
       "      <th>authors</th>\n",
       "      <th>url</th>\n",
       "      <th>source</th>\n",
       "      <th>dates</th>\n",
       "      <th>category</th>\n",
       "      <th>gpt2_inputs</th>\n",
       "      <th>news</th>\n",
       "      <th>is_fake</th>\n",
       "    </tr>\n",
       "  </thead>\n",
       "  <tbody>\n",
       "    <tr>\n",
       "      <th>0</th>\n",
       "      <td>2 Nigerians charged over alleged roles in tran...</td>\n",
       "      <td>Shaffiq Alkhatib</td>\n",
       "      <td>https://www.straitstimes.com/singapore/courts-...</td>\n",
       "      <td>The Straits Times</td>\n",
       "      <td>May 14, 2019</td>\n",
       "      <td>courts-crime</td>\n",
       "      <td>NaN</td>\n",
       "      <td>SINGAPORE - Two men were taken to court on Tue...</td>\n",
       "      <td>0</td>\n",
       "    </tr>\n",
       "    <tr>\n",
       "      <th>1</th>\n",
       "      <td>Nigerians caught in KL to face charges here ov...</td>\n",
       "      <td>Goh Yan Han</td>\n",
       "      <td>https://www.straitstimes.com/singapore/courts-...</td>\n",
       "      <td>The Straits Times</td>\n",
       "      <td>May 14, 2019</td>\n",
       "      <td>courts-crime</td>\n",
       "      <td>NaN</td>\n",
       "      <td>Two Nigerian nationals are expected to be char...</td>\n",
       "      <td>0</td>\n",
       "    </tr>\n",
       "    <tr>\n",
       "      <th>2</th>\n",
       "      <td>Data centre operator loses $24m suit</td>\n",
       "      <td>K.C. Vijayan</td>\n",
       "      <td>https://www.straitstimes.com/singapore/courts-...</td>\n",
       "      <td>The Straits Times</td>\n",
       "      <td>May 14, 2019</td>\n",
       "      <td>courts-crime</td>\n",
       "      <td>NaN</td>\n",
       "      <td>A data centre operator that could not maintain...</td>\n",
       "      <td>0</td>\n",
       "    </tr>\n",
       "    <tr>\n",
       "      <th>3</th>\n",
       "      <td>Man jailed 12½ years for sexually abusing daug...</td>\n",
       "      <td>Selina Lum</td>\n",
       "      <td>https://www.straitstimes.com/singapore/courts-...</td>\n",
       "      <td>The Straits Times</td>\n",
       "      <td>May 14, 2019</td>\n",
       "      <td>courts-crime</td>\n",
       "      <td>NaN</td>\n",
       "      <td>A Primary 2 girl who asked her father for help...</td>\n",
       "      <td>0</td>\n",
       "    </tr>\n",
       "    <tr>\n",
       "      <th>4</th>\n",
       "      <td>Probation for man who groped boy in church toilet</td>\n",
       "      <td>Shaffiq Alkhatib</td>\n",
       "      <td>https://www.straitstimes.com/singapore/courts-...</td>\n",
       "      <td>The Straits Times</td>\n",
       "      <td>May 14, 2019</td>\n",
       "      <td>courts-crime</td>\n",
       "      <td>NaN</td>\n",
       "      <td>A volunteer at a church student-care centre lu...</td>\n",
       "      <td>0</td>\n",
       "    </tr>\n",
       "    <tr>\n",
       "      <th>5</th>\n",
       "      <td>NUS student charged over latest voyeurism inci...</td>\n",
       "      <td>Shaffiq Alkhatib</td>\n",
       "      <td>https://www.straitstimes.com/singapore/courts-...</td>\n",
       "      <td>The Straits Times</td>\n",
       "      <td>May 14, 2019</td>\n",
       "      <td>courts-crime</td>\n",
       "      <td>NaN</td>\n",
       "      <td>Even with the National University of Singapore...</td>\n",
       "      <td>0</td>\n",
       "    </tr>\n",
       "    <tr>\n",
       "      <th>6</th>\n",
       "      <td>S'porean man and Filipino woman arrested for a...</td>\n",
       "      <td>Goh Yan Han</td>\n",
       "      <td>https://www.straitstimes.com/singapore/courts-...</td>\n",
       "      <td>The Straits Times</td>\n",
       "      <td>May 13, 2019, 11:16 pm</td>\n",
       "      <td>courts-crime</td>\n",
       "      <td>NaN</td>\n",
       "      <td>SINGAPORE - A Singaporean man and a Filipino w...</td>\n",
       "      <td>0</td>\n",
       "    </tr>\n",
       "    <tr>\n",
       "      <th>7</th>\n",
       "      <td>Two Nigerians to be charged for alleged involv...</td>\n",
       "      <td>Goh Yan Han</td>\n",
       "      <td>https://www.straitstimes.com/singapore/courts-...</td>\n",
       "      <td>The Straits Times</td>\n",
       "      <td>May 13, 2019, 9:47 pm</td>\n",
       "      <td>courts-crime</td>\n",
       "      <td>NaN</td>\n",
       "      <td>SINGAPORE - Two Nigerian nationals are expecte...</td>\n",
       "      <td>0</td>\n",
       "    </tr>\n",
       "    <tr>\n",
       "      <th>8</th>\n",
       "      <td>Sales supervisor, 53, jailed 12.5 years for se...</td>\n",
       "      <td>Selina Lum</td>\n",
       "      <td>https://www.straitstimes.com/singapore/courts-...</td>\n",
       "      <td>The Straits Times</td>\n",
       "      <td>May 13, 2019, 8:46 pm</td>\n",
       "      <td>courts-crime</td>\n",
       "      <td>NaN</td>\n",
       "      <td>SINGAPORE - A Primary 2 girl approached her fa...</td>\n",
       "      <td>0</td>\n",
       "    </tr>\n",
       "    <tr>\n",
       "      <th>9</th>\n",
       "      <td>Probation for volunteer who committed indecent...</td>\n",
       "      <td>Shaffiq Alkhatib</td>\n",
       "      <td>https://www.straitstimes.com/singapore/courts-...</td>\n",
       "      <td>The Straits Times</td>\n",
       "      <td>May 13, 2019, 12:55 pm</td>\n",
       "      <td>courts-crime</td>\n",
       "      <td>NaN</td>\n",
       "      <td>SINGAPORE - A volunteer at a church student ca...</td>\n",
       "      <td>0</td>\n",
       "    </tr>\n",
       "    <tr>\n",
       "      <th>10</th>\n",
       "      <td>NUS student taken to court after allegedly fil...</td>\n",
       "      <td>Shaffiq Alkhatib</td>\n",
       "      <td>https://www.straitstimes.com/singapore/courts-...</td>\n",
       "      <td>The Straits Times</td>\n",
       "      <td>May 13, 2019, 10:16 am</td>\n",
       "      <td>courts-crime</td>\n",
       "      <td>NaN</td>\n",
       "      <td>SINGAPORE - Even with the National University ...</td>\n",
       "      <td>0</td>\n",
       "    </tr>\n",
       "    <tr>\n",
       "      <th>11</th>\n",
       "      <td>NUS student who allegedly filmed female studen...</td>\n",
       "      <td>Ng Huiwen</td>\n",
       "      <td>https://www.straitstimes.com/singapore/courts-...</td>\n",
       "      <td>The Straits Times</td>\n",
       "      <td>May 13, 2019, 8:28 am</td>\n",
       "      <td>courts-crime</td>\n",
       "      <td>NaN</td>\n",
       "      <td>SINGAPORE - A 26-year-old National University ...</td>\n",
       "      <td>0</td>\n",
       "    </tr>\n",
       "    <tr>\n",
       "      <th>12</th>\n",
       "      <td>Man suspected of stealing cash cards, valuable...</td>\n",
       "      <td>Tee Zhuo</td>\n",
       "      <td>https://www.straitstimes.com/singapore/courts-...</td>\n",
       "      <td>The Straits Times</td>\n",
       "      <td>May 12, 2019, 11:22 pm</td>\n",
       "      <td>courts-crime</td>\n",
       "      <td>NaN</td>\n",
       "      <td>SINGAPORE - A man, who is suspected to have st...</td>\n",
       "      <td>0</td>\n",
       "    </tr>\n",
       "    <tr>\n",
       "      <th>13</th>\n",
       "      <td>84 scammers, money mules under investigation f...</td>\n",
       "      <td>Choo Yun Ting</td>\n",
       "      <td>https://www.straitstimes.com/singapore/courts-...</td>\n",
       "      <td>The Straits Times</td>\n",
       "      <td>May 11, 2019, 11:53 am</td>\n",
       "      <td>courts-crime</td>\n",
       "      <td>NaN</td>\n",
       "      <td>SINGAPORE -More than 80 people are assisting w...</td>\n",
       "      <td>0</td>\n",
       "    </tr>\n",
       "    <tr>\n",
       "      <th>14</th>\n",
       "      <td>13-year-olds among 5 investigated for cheating...</td>\n",
       "      <td>Choo Yun Ting</td>\n",
       "      <td>https://www.straitstimes.com/singapore/courts-...</td>\n",
       "      <td>The Straits Times</td>\n",
       "      <td>May 11, 2019, 9:09 am</td>\n",
       "      <td>courts-crime</td>\n",
       "      <td>NaN</td>\n",
       "      <td>SINGAPORE - Four teenagers and a 20-year-old m...</td>\n",
       "      <td>0</td>\n",
       "    </tr>\n",
       "    <tr>\n",
       "      <th>15</th>\n",
       "      <td>Motorcyclist hit by stray tyre: Death ruled a ...</td>\n",
       "      <td>Cara Wong</td>\n",
       "      <td>https://www.straitstimes.com/singapore/courts-...</td>\n",
       "      <td>The Straits Times</td>\n",
       "      <td>May 11, 2019, 5:00 am</td>\n",
       "      <td>courts-crime</td>\n",
       "      <td>NaN</td>\n",
       "      <td>Former national rugby player Slemat Rakisan wa...</td>\n",
       "      <td>0</td>\n",
       "    </tr>\n",
       "    <tr>\n",
       "      <th>16</th>\n",
       "      <td>Toddler hit by mum suffers cerebral palsy</td>\n",
       "      <td>Cara Wong</td>\n",
       "      <td>https://www.straitstimes.com/singapore/courts-...</td>\n",
       "      <td>The Straits Times</td>\n",
       "      <td>May 11, 2019, 5:00 am</td>\n",
       "      <td>courts-crime</td>\n",
       "      <td>NaN</td>\n",
       "      <td>A mother who was frustrated with her 23-month-...</td>\n",
       "      <td>0</td>\n",
       "    </tr>\n",
       "    <tr>\n",
       "      <th>17</th>\n",
       "      <td>Man arrested for allegedly molesting 10-year-o...</td>\n",
       "      <td>Goh Yan Han</td>\n",
       "      <td>https://www.straitstimes.com/singapore/courts-...</td>\n",
       "      <td>The Straits Times</td>\n",
       "      <td>May 10, 2019, 11:29 pm</td>\n",
       "      <td>courts-crime</td>\n",
       "      <td>NaN</td>\n",
       "      <td>SINGAPORE - A 68-year-old man has been arreste...</td>\n",
       "      <td>0</td>\n",
       "    </tr>\n",
       "    <tr>\n",
       "      <th>18</th>\n",
       "      <td>Death of rugby star Slemat Rakisan an unfortun...</td>\n",
       "      <td>Cara Wong</td>\n",
       "      <td>https://www.straitstimes.com/singapore/courts-...</td>\n",
       "      <td>The Straits Times</td>\n",
       "      <td>May 10, 2019, 9:05 pm</td>\n",
       "      <td>courts-crime</td>\n",
       "      <td>NaN</td>\n",
       "      <td>SINGAPORE - Former national rugby player Slema...</td>\n",
       "      <td>0</td>\n",
       "    </tr>\n",
       "    <tr>\n",
       "      <th>19</th>\n",
       "      <td>More than 9,000 cartons of contraband cigarett...</td>\n",
       "      <td>Goh Yan Han</td>\n",
       "      <td>https://www.straitstimes.com/singapore/courts-...</td>\n",
       "      <td>The Straits Times</td>\n",
       "      <td>May 10, 2019, 6:32 pm</td>\n",
       "      <td>courts-crime</td>\n",
       "      <td>NaN</td>\n",
       "      <td>SINGAPORE - In its largest haul of contraband ...</td>\n",
       "      <td>0</td>\n",
       "    </tr>\n",
       "    <tr>\n",
       "      <th>20</th>\n",
       "      <td>Mother pleads guilty to slapping 23-month-old ...</td>\n",
       "      <td>Cara Wong</td>\n",
       "      <td>https://www.straitstimes.com/singapore/courts-...</td>\n",
       "      <td>The Straits Times</td>\n",
       "      <td>May 10, 2019, 5:18 pm</td>\n",
       "      <td>courts-crime</td>\n",
       "      <td>NaN</td>\n",
       "      <td>SINGAPORE - A mother who was frustrated with h...</td>\n",
       "      <td>0</td>\n",
       "    </tr>\n",
       "    <tr>\n",
       "      <th>21</th>\n",
       "      <td>Punched, slapped, kicked in the groin: Girl an...</td>\n",
       "      <td>NaN</td>\n",
       "      <td>https://www.straitstimes.com/singapore/courts-...</td>\n",
       "      <td>The Straits Times</td>\n",
       "      <td>May 10, 2019, 9:37 am</td>\n",
       "      <td>courts-crime</td>\n",
       "      <td>NaN</td>\n",
       "      <td>SINGAPORE (THE NEW PAPER) - A girl and her fri...</td>\n",
       "      <td>0</td>\n",
       "    </tr>\n",
       "    <tr>\n",
       "      <th>22</th>\n",
       "      <td>Woman nabbed for allegedly stealing from blind...</td>\n",
       "      <td>Timothy Goh</td>\n",
       "      <td>https://www.straitstimes.com/singapore/courts-...</td>\n",
       "      <td>The Straits Times</td>\n",
       "      <td>May 10, 2019, 5:00 am</td>\n",
       "      <td>courts-crime</td>\n",
       "      <td>NaN</td>\n",
       "      <td>The police have arrested a 64-year-old woman w...</td>\n",
       "      <td>0</td>\n",
       "    </tr>\n",
       "    <tr>\n",
       "      <th>23</th>\n",
       "      <td>Maid found with cash inside body during prison...</td>\n",
       "      <td>Shaffiq Alkhatib</td>\n",
       "      <td>https://www.straitstimes.com/singapore/courts-...</td>\n",
       "      <td>The Straits Times</td>\n",
       "      <td>May 10, 2019, 5:00 am</td>\n",
       "      <td>courts-crime</td>\n",
       "      <td>NaN</td>\n",
       "      <td>A domestic helper, who stole more than $5,000 ...</td>\n",
       "      <td>0</td>\n",
       "    </tr>\n",
       "    <tr>\n",
       "      <th>24</th>\n",
       "      <td>PR charged after allegedly defaulting on NS fo...</td>\n",
       "      <td>Shaffiq Alkhatib</td>\n",
       "      <td>https://www.straitstimes.com/singapore/courts-...</td>\n",
       "      <td>The Straits Times</td>\n",
       "      <td>May 10, 2019, 5:00 am</td>\n",
       "      <td>courts-crime</td>\n",
       "      <td>NaN</td>\n",
       "      <td>An Indian national, who is a Singapore permane...</td>\n",
       "      <td>0</td>\n",
       "    </tr>\n",
       "    <tr>\n",
       "      <th>25</th>\n",
       "      <td>Maid who stole $5,002 found with money hidden ...</td>\n",
       "      <td>Shaffiq Alkhatib</td>\n",
       "      <td>https://www.straitstimes.com/singapore/courts-...</td>\n",
       "      <td>The Straits Times</td>\n",
       "      <td>May 9, 2019, 2:38 pm</td>\n",
       "      <td>courts-crime</td>\n",
       "      <td>NaN</td>\n",
       "      <td>SINGAPORE - A domestic helper, who stole more ...</td>\n",
       "      <td>0</td>\n",
       "    </tr>\n",
       "    <tr>\n",
       "      <th>26</th>\n",
       "      <td>Singapore PR charged after allegedly defaultin...</td>\n",
       "      <td>Shaffiq Alkhatib</td>\n",
       "      <td>https://www.straitstimes.com/singapore/courts-...</td>\n",
       "      <td>The Straits Times</td>\n",
       "      <td>May 9, 2019, 2:03 pm</td>\n",
       "      <td>courts-crime</td>\n",
       "      <td>NaN</td>\n",
       "      <td>SINGAPORE - An Indian national, who is a Singa...</td>\n",
       "      <td>0</td>\n",
       "    </tr>\n",
       "    <tr>\n",
       "      <th>27</th>\n",
       "      <td>Woman arrested after viral post about Yishun b...</td>\n",
       "      <td>Timothy Goh</td>\n",
       "      <td>https://www.straitstimes.com/singapore/courts-...</td>\n",
       "      <td>The Straits Times</td>\n",
       "      <td>May 9, 2019, 9:41 am</td>\n",
       "      <td>courts-crime</td>\n",
       "      <td>NaN</td>\n",
       "      <td>SINGAPORE - The police have arrested a 64-year...</td>\n",
       "      <td>0</td>\n",
       "    </tr>\n",
       "    <tr>\n",
       "      <th>28</th>\n",
       "      <td>Jail term extended for man who beat wife</td>\n",
       "      <td>Selina Lum</td>\n",
       "      <td>https://www.straitstimes.com/singapore/courts-...</td>\n",
       "      <td>The Straits Times</td>\n",
       "      <td>May 9, 2019, 5:00 am</td>\n",
       "      <td>courts-crime</td>\n",
       "      <td>NaN</td>\n",
       "      <td>Deterrence remains the key sentencing principl...</td>\n",
       "      <td>0</td>\n",
       "    </tr>\n",
       "    <tr>\n",
       "      <th>29</th>\n",
       "      <td>Jail, caning for music teacher who molested st...</td>\n",
       "      <td>Shaffiq Alkhatib</td>\n",
       "      <td>https://www.straitstimes.com/singapore/courts-...</td>\n",
       "      <td>The Straits Times</td>\n",
       "      <td>May 9, 2019, 5:00 am</td>\n",
       "      <td>courts-crime</td>\n",
       "      <td>NaN</td>\n",
       "      <td>A music teacher who molested an 18-year-old st...</td>\n",
       "      <td>0</td>\n",
       "    </tr>\n",
       "    <tr>\n",
       "      <th>...</th>\n",
       "      <td>...</td>\n",
       "      <td>...</td>\n",
       "      <td>...</td>\n",
       "      <td>...</td>\n",
       "      <td>...</td>\n",
       "      <td>...</td>\n",
       "      <td>...</td>\n",
       "      <td>...</td>\n",
       "      <td>...</td>\n",
       "    </tr>\n",
       "    <tr>\n",
       "      <th>15436</th>\n",
       "      <td>Unemployment rates continue falling, fewer lay...</td>\n",
       "      <td>Louisa Tang</td>\n",
       "      <td>https://www.todayonline.com/singapore/unemploy...</td>\n",
       "      <td>TodayOnline</td>\n",
       "      <td>27-Apr-18</td>\n",
       "      <td>NaN</td>\n",
       "      <td>SINGAPORE — Supported by the sustained expansi...</td>\n",
       "      <td>SINGAPORE — Supported by the sustained expansi...</td>\n",
       "      <td>1</td>\n",
       "    </tr>\n",
       "    <tr>\n",
       "      <th>15437</th>\n",
       "      <td>S'pore's economic growth on track despite US-C...</td>\n",
       "      <td>Angela Teng</td>\n",
       "      <td>https://www.todayonline.com/singapore/spores-e...</td>\n",
       "      <td>TodayOnline</td>\n",
       "      <td>27-Apr-18</td>\n",
       "      <td>NaN</td>\n",
       "      <td>SINGAPORE — The outlook for the Republic's eco...</td>\n",
       "      <td>SINGAPORE — The outlook for the Republic's eco...</td>\n",
       "      <td>1</td>\n",
       "    </tr>\n",
       "    <tr>\n",
       "      <th>15438</th>\n",
       "      <td>New ride-hailing app promises zero commission ...</td>\n",
       "      <td>Cynthia Choo and Kenneth Cheng</td>\n",
       "      <td>https://www.todayonline.com/singapore/new-ride...</td>\n",
       "      <td>TodayOnline</td>\n",
       "      <td>26-Apr-18</td>\n",
       "      <td>NaN</td>\n",
       "      <td>SINGAPORE – A mobile application that aims to ...</td>\n",
       "      <td>SINGAPORE – A mobile application that aims to ...</td>\n",
       "      <td>1</td>\n",
       "    </tr>\n",
       "    <tr>\n",
       "      <th>15439</th>\n",
       "      <td>Cuscaden Road site sees record psf price offer...</td>\n",
       "      <td>Angela Teng</td>\n",
       "      <td>https://www.todayonline.com/singapore/silat-av...</td>\n",
       "      <td>TodayOnline</td>\n",
       "      <td>26-Apr-18</td>\n",
       "      <td>NaN</td>\n",
       "      <td>SINGAPORE – A residential Government Land Sale...</td>\n",
       "      <td>SINGAPORE – A residential Government Land Sale...</td>\n",
       "      <td>1</td>\n",
       "    </tr>\n",
       "    <tr>\n",
       "      <th>15440</th>\n",
       "      <td>Motorists to turn right only at green arrows a...</td>\n",
       "      <td>Faris Mokhtar</td>\n",
       "      <td>https://www.todayonline.com/singapore/motorist...</td>\n",
       "      <td>TodayOnline</td>\n",
       "      <td>26-Apr-18</td>\n",
       "      <td>NaN</td>\n",
       "      <td>SINGAPORE – The Land Transport Authority (LTA)...</td>\n",
       "      <td>SINGAPORE – The Land Transport Authority (LTA)...</td>\n",
       "      <td>1</td>\n",
       "    </tr>\n",
       "    <tr>\n",
       "      <th>15441</th>\n",
       "      <td>All road users have to be responsible for the ...</td>\n",
       "      <td>Kok Mei Hui</td>\n",
       "      <td>https://www.todayonline.com/singapore/all-road...</td>\n",
       "      <td>TodayOnline</td>\n",
       "      <td>26-Apr-18</td>\n",
       "      <td>NaN</td>\n",
       "      <td>I read the report, “Petition calling for remov...</td>\n",
       "      <td>I read the report, “Petition calling for remov...</td>\n",
       "      <td>1</td>\n",
       "    </tr>\n",
       "    <tr>\n",
       "      <th>15442</th>\n",
       "      <td>Homegrown player Ryde to take on Grab in new r...</td>\n",
       "      <td>Kenneth Cheng</td>\n",
       "      <td>https://www.todayonline.com/singapore/homegrow...</td>\n",
       "      <td>TodayOnline</td>\n",
       "      <td>26-Apr-18</td>\n",
       "      <td>NaN</td>\n",
       "      <td>SINGAPORE — Firing a fresh salvo in the battle...</td>\n",
       "      <td>SINGAPORE — Firing a fresh salvo in the battle...</td>\n",
       "      <td>1</td>\n",
       "    </tr>\n",
       "    <tr>\n",
       "      <th>15443</th>\n",
       "      <td>Petition calling for removal of ‘discretionary...</td>\n",
       "      <td>Faris Mokhtar</td>\n",
       "      <td>https://www.todayonline.com/singapore/petition...</td>\n",
       "      <td>TodayOnline</td>\n",
       "      <td>26-Apr-18</td>\n",
       "      <td>NaN</td>\n",
       "      <td>SINGAPORE — Following two recent fatal traffic...</td>\n",
       "      <td>SINGAPORE — Following two recent fatal traffic...</td>\n",
       "      <td>1</td>\n",
       "    </tr>\n",
       "    <tr>\n",
       "      <th>15444</th>\n",
       "      <td>Singapore’s manufacturing growth off to ‘healt...</td>\n",
       "      <td>Angela Teng</td>\n",
       "      <td>https://www.todayonline.com/singapore/singapor...</td>\n",
       "      <td>TodayOnline</td>\n",
       "      <td>26-Apr-18</td>\n",
       "      <td>NaN</td>\n",
       "      <td>SINGAPORE – The Republic’s manufacturing growt...</td>\n",
       "      <td>SINGAPORE – The Republic’s manufacturing growt...</td>\n",
       "      <td>1</td>\n",
       "    </tr>\n",
       "    <tr>\n",
       "      <th>15445</th>\n",
       "      <td>Cabby in Clementi crash arrested; number of fa...</td>\n",
       "      <td>Alfred Chua</td>\n",
       "      <td>https://www.todayonline.com/singapore/cabby-cl...</td>\n",
       "      <td>TodayOnline</td>\n",
       "      <td>26-Apr-18</td>\n",
       "      <td>NaN</td>\n",
       "      <td>SINGAPORE — A 54-year-old taxi driver has been...</td>\n",
       "      <td>SINGAPORE — A 54-year-old taxi driver has been...</td>\n",
       "      <td>1</td>\n",
       "    </tr>\n",
       "    <tr>\n",
       "      <th>15446</th>\n",
       "      <td>PUB issues stop-work notice for company that i...</td>\n",
       "      <td>NaN</td>\n",
       "      <td>https://www.todayonline.com/singapore/pub-issu...</td>\n",
       "      <td>TodayOnline</td>\n",
       "      <td>25-Apr-18</td>\n",
       "      <td>NaN</td>\n",
       "      <td>SINGAPORE — A toxic industrial waste collectio...</td>\n",
       "      <td>SINGAPORE — A toxic industrial waste collectio...</td>\n",
       "      <td>1</td>\n",
       "    </tr>\n",
       "    <tr>\n",
       "      <th>15447</th>\n",
       "      <td>Maid picked up items Liew Mun Leong’s family h...</td>\n",
       "      <td>Wong Pei Ting</td>\n",
       "      <td>https://www.todayonline.com/singapore/maid-pic...</td>\n",
       "      <td>TodayOnline</td>\n",
       "      <td>25-Apr-18</td>\n",
       "      <td>NaN</td>\n",
       "      <td>SINGAPORE — Some valuables allegedly stolen by...</td>\n",
       "      <td>SINGAPORE — Some valuables allegedly stolen by...</td>\n",
       "      <td>1</td>\n",
       "    </tr>\n",
       "    <tr>\n",
       "      <th>15448</th>\n",
       "      <td>Host of factors to tackle to get more private-...</td>\n",
       "      <td>Siau Ming En</td>\n",
       "      <td>https://www.todayonline.com/singapore/host-fac...</td>\n",
       "      <td>TodayOnline</td>\n",
       "      <td>26-Apr-18</td>\n",
       "      <td>NaN</td>\n",
       "      <td>SINGAPORE – When former Minister of State Teo ...</td>\n",
       "      <td>SINGAPORE – When former Minister of State Teo ...</td>\n",
       "      <td>1</td>\n",
       "    </tr>\n",
       "    <tr>\n",
       "      <th>15449</th>\n",
       "      <td>Family members of Yio Chu Kang accident victim...</td>\n",
       "      <td>Low Youjin</td>\n",
       "      <td>https://www.todayonline.com/singapore/family-m...</td>\n",
       "      <td>TodayOnline</td>\n",
       "      <td>25-Apr-18</td>\n",
       "      <td>NaN</td>\n",
       "      <td>SINGAPORE – Days after the fatal crash near Yi...</td>\n",
       "      <td>SINGAPORE – Days after the fatal crash near Yi...</td>\n",
       "      <td>1</td>\n",
       "    </tr>\n",
       "    <tr>\n",
       "      <th>15450</th>\n",
       "      <td>Former England captain Tony Adams in line for ...</td>\n",
       "      <td>Stanley Ho</td>\n",
       "      <td>https://www.todayonline.com/singapore/former-e...</td>\n",
       "      <td>TodayOnline</td>\n",
       "      <td>25-Apr-18</td>\n",
       "      <td>NaN</td>\n",
       "      <td>SINGAPORE – Former England and Arsenal footbal...</td>\n",
       "      <td>SINGAPORE – Former England and Arsenal footbal...</td>\n",
       "      <td>1</td>\n",
       "    </tr>\n",
       "    <tr>\n",
       "      <th>15451</th>\n",
       "      <td>S’pore could lead the push for para sports in ...</td>\n",
       "      <td>Louisa Tang</td>\n",
       "      <td>https://www.todayonline.com/singapore/spore-co...</td>\n",
       "      <td>TodayOnline</td>\n",
       "      <td>26-Apr-18</td>\n",
       "      <td>NaN</td>\n",
       "      <td>SINGAPORE — Two years ago, the Asean Para Game...</td>\n",
       "      <td>SINGAPORE — Two years ago, the Asean Para Game...</td>\n",
       "      <td>1</td>\n",
       "    </tr>\n",
       "    <tr>\n",
       "      <th>15452</th>\n",
       "      <td>Back in the cage in S’pore, UFC sets its sight...</td>\n",
       "      <td>Low Lin Fhoong</td>\n",
       "      <td>https://www.todayonline.com/singapore/back-cag...</td>\n",
       "      <td>TodayOnline</td>\n",
       "      <td>25-Apr-18</td>\n",
       "      <td>NaN</td>\n",
       "      <td>SINGAPORE — As mixed martial arts (MMA) contin...</td>\n",
       "      <td>SINGAPORE — As mixed martial arts (MMA) contin...</td>\n",
       "      <td>1</td>\n",
       "    </tr>\n",
       "    <tr>\n",
       "      <th>15453</th>\n",
       "      <td>Faces on the Subway: Dating, solving complex p...</td>\n",
       "      <td>Kelly Ng</td>\n",
       "      <td>https://www.todayonline.com/singapore/faces-su...</td>\n",
       "      <td>TodayOnline</td>\n",
       "      <td>25-Apr-18</td>\n",
       "      <td>NaN</td>\n",
       "      <td>Every day, hundreds of thousands of passengers...</td>\n",
       "      <td>Every day, hundreds of thousands of passengers...</td>\n",
       "      <td>1</td>\n",
       "    </tr>\n",
       "    <tr>\n",
       "      <th>15454</th>\n",
       "      <td>Dentist suspended, fined S$25,000 for making f...</td>\n",
       "      <td>Cynthia Choo</td>\n",
       "      <td>https://www.todayonline.com/singapore/dentist-...</td>\n",
       "      <td>TodayOnline</td>\n",
       "      <td>25-Apr-18</td>\n",
       "      <td>NaN</td>\n",
       "      <td>SINGAPORE — To help his female patient cover t...</td>\n",
       "      <td>SINGAPORE — To help his female patient cover t...</td>\n",
       "      <td>1</td>\n",
       "    </tr>\n",
       "    <tr>\n",
       "      <th>15455</th>\n",
       "      <td>Indranee staying on temporarily to ensure smoo...</td>\n",
       "      <td>NaN</td>\n",
       "      <td>https://www.todayonline.com/singapore/indranee...</td>\n",
       "      <td>TodayOnline</td>\n",
       "      <td>25-Apr-18</td>\n",
       "      <td>NaN</td>\n",
       "      <td>SINGAPORE — The considerable workload at the M...</td>\n",
       "      <td>SINGAPORE — The considerable workload at the M...</td>\n",
       "      <td>1</td>\n",
       "    </tr>\n",
       "    <tr>\n",
       "      <th>15456</th>\n",
       "      <td>NUS’ public policy and medical schools get new...</td>\n",
       "      <td>Faris Mokhtar</td>\n",
       "      <td>https://www.todayonline.com/singapore/nus-publ...</td>\n",
       "      <td>TodayOnline</td>\n",
       "      <td>25-Apr-18</td>\n",
       "      <td>NaN</td>\n",
       "      <td>SINGAPORE – New deans will helm the Lee Kuan Y...</td>\n",
       "      <td>SINGAPORE – New deans will helm the Lee Kuan Y...</td>\n",
       "      <td>1</td>\n",
       "    </tr>\n",
       "    <tr>\n",
       "      <th>15457</th>\n",
       "      <td>S'pore shipbuilder Keppel Corp to deliver Sout...</td>\n",
       "      <td>NaN</td>\n",
       "      <td>https://www.todayonline.com/singapore/singapor...</td>\n",
       "      <td>TodayOnline</td>\n",
       "      <td>25-Apr-18</td>\n",
       "      <td>NaN</td>\n",
       "      <td>SINGAPORE — Singapore-based Keppel Corp said o...</td>\n",
       "      <td>SINGAPORE — Singapore-based Keppel Corp said o...</td>\n",
       "      <td>1</td>\n",
       "    </tr>\n",
       "    <tr>\n",
       "      <th>15458</th>\n",
       "      <td>Cabinet reshuffle aimed at strengthening 4G co...</td>\n",
       "      <td>Kelly Ng, Siau Ming En, Faris Mokhtar</td>\n",
       "      <td>https://www.todayonline.com/singapore/cabinet-...</td>\n",
       "      <td>TodayOnline</td>\n",
       "      <td>25-Apr-18</td>\n",
       "      <td>NaN</td>\n",
       "      <td>SINGAPORE — The latest round of Cabinet change...</td>\n",
       "      <td>SINGAPORE — The latest round of Cabinet change...</td>\n",
       "      <td>1</td>\n",
       "    </tr>\n",
       "    <tr>\n",
       "      <th>15459</th>\n",
       "      <td>Is S’pore an inclusive society? Only 11 per ce...</td>\n",
       "      <td>Toh Ee Ming</td>\n",
       "      <td>https://www.todayonline.com/singapore/spore-in...</td>\n",
       "      <td>TodayOnline</td>\n",
       "      <td>24-Apr-18</td>\n",
       "      <td>NaN</td>\n",
       "      <td>SINGAPORE — Despite the considerable progress ...</td>\n",
       "      <td>SINGAPORE — Despite the considerable progress ...</td>\n",
       "      <td>1</td>\n",
       "    </tr>\n",
       "    <tr>\n",
       "      <th>15460</th>\n",
       "      <td>Yio Chu Kang accident: Lorry driver charged in...</td>\n",
       "      <td>Wong Pei Ting</td>\n",
       "      <td>https://www.todayonline.com/singapore/fatal-yi...</td>\n",
       "      <td>TodayOnline</td>\n",
       "      <td>24-Apr-18</td>\n",
       "      <td>NaN</td>\n",
       "      <td>SINGAPORE — A 25-year-old lorry driver who all...</td>\n",
       "      <td>SINGAPORE — A 25-year-old lorry driver who all...</td>\n",
       "      <td>1</td>\n",
       "    </tr>\n",
       "    <tr>\n",
       "      <th>15461</th>\n",
       "      <td>Leaving legal practice, loss of privacy top co...</td>\n",
       "      <td>Siau Ming En and Kenneth Cheng</td>\n",
       "      <td>https://www.todayonline.com/singapore/leaving-...</td>\n",
       "      <td>TodayOnline</td>\n",
       "      <td>24-Apr-18</td>\n",
       "      <td>NaN</td>\n",
       "      <td>SINGAPORE – Backbencher Edwin Tong, who will j...</td>\n",
       "      <td>SINGAPORE – Backbencher Edwin Tong, who will j...</td>\n",
       "      <td>1</td>\n",
       "    </tr>\n",
       "    <tr>\n",
       "      <th>15462</th>\n",
       "      <td>Leadership transition ‘well underway’ after ex...</td>\n",
       "      <td>Kenneth Cheng</td>\n",
       "      <td>https://www.todayonline.com/singapore/leadersh...</td>\n",
       "      <td>TodayOnline</td>\n",
       "      <td>24-Apr-18</td>\n",
       "      <td>NaN</td>\n",
       "      <td>SINGAPORE — The leadership transition spanning...</td>\n",
       "      <td>SINGAPORE — The leadership transition spanning...</td>\n",
       "      <td>1</td>\n",
       "    </tr>\n",
       "    <tr>\n",
       "      <th>15463</th>\n",
       "      <td>Muis files police report over false claims tha...</td>\n",
       "      <td>NaN</td>\n",
       "      <td>https://www.todayonline.com/singapore/muis-fil...</td>\n",
       "      <td>TodayOnline</td>\n",
       "      <td>24-Apr-18</td>\n",
       "      <td>NaN</td>\n",
       "      <td>SINGAPORE — The Islamic Religious Council of S...</td>\n",
       "      <td>SINGAPORE — The Islamic Religious Council of S...</td>\n",
       "      <td>1</td>\n",
       "    </tr>\n",
       "    <tr>\n",
       "      <th>15464</th>\n",
       "      <td>In full: PMO announces changes to the Cabinet ...</td>\n",
       "      <td>NaN</td>\n",
       "      <td>https://www.todayonline.com/singapore/full-pmo...</td>\n",
       "      <td>TodayOnline</td>\n",
       "      <td>24-Apr-18</td>\n",
       "      <td>NaN</td>\n",
       "      <td>Several 4G leaders have been given new respons...</td>\n",
       "      <td>Several 4G leaders have been given new respons...</td>\n",
       "      <td>1</td>\n",
       "    </tr>\n",
       "    <tr>\n",
       "      <th>15465</th>\n",
       "      <td>Marina Bay Sands gets Singapore’s first 6-star...</td>\n",
       "      <td>Low Youjin</td>\n",
       "      <td>https://www.todayonline.com/singapore/marina-b...</td>\n",
       "      <td>TodayOnline</td>\n",
       "      <td>24-Apr-18</td>\n",
       "      <td>NaN</td>\n",
       "      <td>SINGAPORE – No bad smell, always stocked with ...</td>\n",
       "      <td>SINGAPORE – No bad smell, always stocked with ...</td>\n",
       "      <td>1</td>\n",
       "    </tr>\n",
       "  </tbody>\n",
       "</table>\n",
       "<p>15466 rows × 9 columns</p>\n",
       "</div>"
      ],
      "text/plain": [
       "                                                  titles  \\\n",
       "0      2 Nigerians charged over alleged roles in tran...   \n",
       "1      Nigerians caught in KL to face charges here ov...   \n",
       "2                   Data centre operator loses $24m suit   \n",
       "3      Man jailed 12½ years for sexually abusing daug...   \n",
       "4      Probation for man who groped boy in church toilet   \n",
       "5      NUS student charged over latest voyeurism inci...   \n",
       "6      S'porean man and Filipino woman arrested for a...   \n",
       "7      Two Nigerians to be charged for alleged involv...   \n",
       "8      Sales supervisor, 53, jailed 12.5 years for se...   \n",
       "9      Probation for volunteer who committed indecent...   \n",
       "10     NUS student taken to court after allegedly fil...   \n",
       "11     NUS student who allegedly filmed female studen...   \n",
       "12     Man suspected of stealing cash cards, valuable...   \n",
       "13     84 scammers, money mules under investigation f...   \n",
       "14     13-year-olds among 5 investigated for cheating...   \n",
       "15     Motorcyclist hit by stray tyre: Death ruled a ...   \n",
       "16             Toddler hit by mum suffers cerebral palsy   \n",
       "17     Man arrested for allegedly molesting 10-year-o...   \n",
       "18     Death of rugby star Slemat Rakisan an unfortun...   \n",
       "19     More than 9,000 cartons of contraband cigarett...   \n",
       "20     Mother pleads guilty to slapping 23-month-old ...   \n",
       "21     Punched, slapped, kicked in the groin: Girl an...   \n",
       "22     Woman nabbed for allegedly stealing from blind...   \n",
       "23     Maid found with cash inside body during prison...   \n",
       "24     PR charged after allegedly defaulting on NS fo...   \n",
       "25     Maid who stole $5,002 found with money hidden ...   \n",
       "26     Singapore PR charged after allegedly defaultin...   \n",
       "27     Woman arrested after viral post about Yishun b...   \n",
       "28              Jail term extended for man who beat wife   \n",
       "29     Jail, caning for music teacher who molested st...   \n",
       "...                                                  ...   \n",
       "15436  Unemployment rates continue falling, fewer lay...   \n",
       "15437  S'pore's economic growth on track despite US-C...   \n",
       "15438  New ride-hailing app promises zero commission ...   \n",
       "15439  Cuscaden Road site sees record psf price offer...   \n",
       "15440  Motorists to turn right only at green arrows a...   \n",
       "15441  All road users have to be responsible for the ...   \n",
       "15442  Homegrown player Ryde to take on Grab in new r...   \n",
       "15443  Petition calling for removal of ‘discretionary...   \n",
       "15444  Singapore’s manufacturing growth off to ‘healt...   \n",
       "15445  Cabby in Clementi crash arrested; number of fa...   \n",
       "15446  PUB issues stop-work notice for company that i...   \n",
       "15447  Maid picked up items Liew Mun Leong’s family h...   \n",
       "15448  Host of factors to tackle to get more private-...   \n",
       "15449  Family members of Yio Chu Kang accident victim...   \n",
       "15450  Former England captain Tony Adams in line for ...   \n",
       "15451  S’pore could lead the push for para sports in ...   \n",
       "15452  Back in the cage in S’pore, UFC sets its sight...   \n",
       "15453  Faces on the Subway: Dating, solving complex p...   \n",
       "15454  Dentist suspended, fined S$25,000 for making f...   \n",
       "15455  Indranee staying on temporarily to ensure smoo...   \n",
       "15456  NUS’ public policy and medical schools get new...   \n",
       "15457  S'pore shipbuilder Keppel Corp to deliver Sout...   \n",
       "15458  Cabinet reshuffle aimed at strengthening 4G co...   \n",
       "15459  Is S’pore an inclusive society? Only 11 per ce...   \n",
       "15460  Yio Chu Kang accident: Lorry driver charged in...   \n",
       "15461  Leaving legal practice, loss of privacy top co...   \n",
       "15462  Leadership transition ‘well underway’ after ex...   \n",
       "15463  Muis files police report over false claims tha...   \n",
       "15464  In full: PMO announces changes to the Cabinet ...   \n",
       "15465  Marina Bay Sands gets Singapore’s first 6-star...   \n",
       "\n",
       "                                     authors  \\\n",
       "0                           Shaffiq Alkhatib   \n",
       "1                                Goh Yan Han   \n",
       "2                               K.C. Vijayan   \n",
       "3                                 Selina Lum   \n",
       "4                           Shaffiq Alkhatib   \n",
       "5                           Shaffiq Alkhatib   \n",
       "6                                Goh Yan Han   \n",
       "7                                Goh Yan Han   \n",
       "8                                 Selina Lum   \n",
       "9                           Shaffiq Alkhatib   \n",
       "10                          Shaffiq Alkhatib   \n",
       "11                                 Ng Huiwen   \n",
       "12                                  Tee Zhuo   \n",
       "13                             Choo Yun Ting   \n",
       "14                             Choo Yun Ting   \n",
       "15                                 Cara Wong   \n",
       "16                                 Cara Wong   \n",
       "17                               Goh Yan Han   \n",
       "18                                 Cara Wong   \n",
       "19                               Goh Yan Han   \n",
       "20                                 Cara Wong   \n",
       "21                                       NaN   \n",
       "22                               Timothy Goh   \n",
       "23                          Shaffiq Alkhatib   \n",
       "24                          Shaffiq Alkhatib   \n",
       "25                          Shaffiq Alkhatib   \n",
       "26                          Shaffiq Alkhatib   \n",
       "27                               Timothy Goh   \n",
       "28                                Selina Lum   \n",
       "29                          Shaffiq Alkhatib   \n",
       "...                                      ...   \n",
       "15436                            Louisa Tang   \n",
       "15437                            Angela Teng   \n",
       "15438         Cynthia Choo and Kenneth Cheng   \n",
       "15439                            Angela Teng   \n",
       "15440                          Faris Mokhtar   \n",
       "15441                            Kok Mei Hui   \n",
       "15442                          Kenneth Cheng   \n",
       "15443                          Faris Mokhtar   \n",
       "15444                            Angela Teng   \n",
       "15445                            Alfred Chua   \n",
       "15446                                    NaN   \n",
       "15447                          Wong Pei Ting   \n",
       "15448                           Siau Ming En   \n",
       "15449                             Low Youjin   \n",
       "15450                             Stanley Ho   \n",
       "15451                            Louisa Tang   \n",
       "15452                         Low Lin Fhoong   \n",
       "15453                               Kelly Ng   \n",
       "15454                           Cynthia Choo   \n",
       "15455                                    NaN   \n",
       "15456                          Faris Mokhtar   \n",
       "15457                                    NaN   \n",
       "15458  Kelly Ng, Siau Ming En, Faris Mokhtar   \n",
       "15459                            Toh Ee Ming   \n",
       "15460                          Wong Pei Ting   \n",
       "15461         Siau Ming En and Kenneth Cheng   \n",
       "15462                          Kenneth Cheng   \n",
       "15463                                    NaN   \n",
       "15464                                    NaN   \n",
       "15465                             Low Youjin   \n",
       "\n",
       "                                                     url             source  \\\n",
       "0      https://www.straitstimes.com/singapore/courts-...  The Straits Times   \n",
       "1      https://www.straitstimes.com/singapore/courts-...  The Straits Times   \n",
       "2      https://www.straitstimes.com/singapore/courts-...  The Straits Times   \n",
       "3      https://www.straitstimes.com/singapore/courts-...  The Straits Times   \n",
       "4      https://www.straitstimes.com/singapore/courts-...  The Straits Times   \n",
       "5      https://www.straitstimes.com/singapore/courts-...  The Straits Times   \n",
       "6      https://www.straitstimes.com/singapore/courts-...  The Straits Times   \n",
       "7      https://www.straitstimes.com/singapore/courts-...  The Straits Times   \n",
       "8      https://www.straitstimes.com/singapore/courts-...  The Straits Times   \n",
       "9      https://www.straitstimes.com/singapore/courts-...  The Straits Times   \n",
       "10     https://www.straitstimes.com/singapore/courts-...  The Straits Times   \n",
       "11     https://www.straitstimes.com/singapore/courts-...  The Straits Times   \n",
       "12     https://www.straitstimes.com/singapore/courts-...  The Straits Times   \n",
       "13     https://www.straitstimes.com/singapore/courts-...  The Straits Times   \n",
       "14     https://www.straitstimes.com/singapore/courts-...  The Straits Times   \n",
       "15     https://www.straitstimes.com/singapore/courts-...  The Straits Times   \n",
       "16     https://www.straitstimes.com/singapore/courts-...  The Straits Times   \n",
       "17     https://www.straitstimes.com/singapore/courts-...  The Straits Times   \n",
       "18     https://www.straitstimes.com/singapore/courts-...  The Straits Times   \n",
       "19     https://www.straitstimes.com/singapore/courts-...  The Straits Times   \n",
       "20     https://www.straitstimes.com/singapore/courts-...  The Straits Times   \n",
       "21     https://www.straitstimes.com/singapore/courts-...  The Straits Times   \n",
       "22     https://www.straitstimes.com/singapore/courts-...  The Straits Times   \n",
       "23     https://www.straitstimes.com/singapore/courts-...  The Straits Times   \n",
       "24     https://www.straitstimes.com/singapore/courts-...  The Straits Times   \n",
       "25     https://www.straitstimes.com/singapore/courts-...  The Straits Times   \n",
       "26     https://www.straitstimes.com/singapore/courts-...  The Straits Times   \n",
       "27     https://www.straitstimes.com/singapore/courts-...  The Straits Times   \n",
       "28     https://www.straitstimes.com/singapore/courts-...  The Straits Times   \n",
       "29     https://www.straitstimes.com/singapore/courts-...  The Straits Times   \n",
       "...                                                  ...                ...   \n",
       "15436  https://www.todayonline.com/singapore/unemploy...        TodayOnline   \n",
       "15437  https://www.todayonline.com/singapore/spores-e...        TodayOnline   \n",
       "15438  https://www.todayonline.com/singapore/new-ride...        TodayOnline   \n",
       "15439  https://www.todayonline.com/singapore/silat-av...        TodayOnline   \n",
       "15440  https://www.todayonline.com/singapore/motorist...        TodayOnline   \n",
       "15441  https://www.todayonline.com/singapore/all-road...        TodayOnline   \n",
       "15442  https://www.todayonline.com/singapore/homegrow...        TodayOnline   \n",
       "15443  https://www.todayonline.com/singapore/petition...        TodayOnline   \n",
       "15444  https://www.todayonline.com/singapore/singapor...        TodayOnline   \n",
       "15445  https://www.todayonline.com/singapore/cabby-cl...        TodayOnline   \n",
       "15446  https://www.todayonline.com/singapore/pub-issu...        TodayOnline   \n",
       "15447  https://www.todayonline.com/singapore/maid-pic...        TodayOnline   \n",
       "15448  https://www.todayonline.com/singapore/host-fac...        TodayOnline   \n",
       "15449  https://www.todayonline.com/singapore/family-m...        TodayOnline   \n",
       "15450  https://www.todayonline.com/singapore/former-e...        TodayOnline   \n",
       "15451  https://www.todayonline.com/singapore/spore-co...        TodayOnline   \n",
       "15452  https://www.todayonline.com/singapore/back-cag...        TodayOnline   \n",
       "15453  https://www.todayonline.com/singapore/faces-su...        TodayOnline   \n",
       "15454  https://www.todayonline.com/singapore/dentist-...        TodayOnline   \n",
       "15455  https://www.todayonline.com/singapore/indranee...        TodayOnline   \n",
       "15456  https://www.todayonline.com/singapore/nus-publ...        TodayOnline   \n",
       "15457  https://www.todayonline.com/singapore/singapor...        TodayOnline   \n",
       "15458  https://www.todayonline.com/singapore/cabinet-...        TodayOnline   \n",
       "15459  https://www.todayonline.com/singapore/spore-in...        TodayOnline   \n",
       "15460  https://www.todayonline.com/singapore/fatal-yi...        TodayOnline   \n",
       "15461  https://www.todayonline.com/singapore/leaving-...        TodayOnline   \n",
       "15462  https://www.todayonline.com/singapore/leadersh...        TodayOnline   \n",
       "15463  https://www.todayonline.com/singapore/muis-fil...        TodayOnline   \n",
       "15464  https://www.todayonline.com/singapore/full-pmo...        TodayOnline   \n",
       "15465  https://www.todayonline.com/singapore/marina-b...        TodayOnline   \n",
       "\n",
       "                        dates      category  \\\n",
       "0                May 14, 2019  courts-crime   \n",
       "1                May 14, 2019  courts-crime   \n",
       "2                May 14, 2019  courts-crime   \n",
       "3                May 14, 2019  courts-crime   \n",
       "4                May 14, 2019  courts-crime   \n",
       "5                May 14, 2019  courts-crime   \n",
       "6      May 13, 2019, 11:16 pm  courts-crime   \n",
       "7       May 13, 2019, 9:47 pm  courts-crime   \n",
       "8       May 13, 2019, 8:46 pm  courts-crime   \n",
       "9      May 13, 2019, 12:55 pm  courts-crime   \n",
       "10     May 13, 2019, 10:16 am  courts-crime   \n",
       "11      May 13, 2019, 8:28 am  courts-crime   \n",
       "12     May 12, 2019, 11:22 pm  courts-crime   \n",
       "13     May 11, 2019, 11:53 am  courts-crime   \n",
       "14      May 11, 2019, 9:09 am  courts-crime   \n",
       "15      May 11, 2019, 5:00 am  courts-crime   \n",
       "16      May 11, 2019, 5:00 am  courts-crime   \n",
       "17     May 10, 2019, 11:29 pm  courts-crime   \n",
       "18      May 10, 2019, 9:05 pm  courts-crime   \n",
       "19      May 10, 2019, 6:32 pm  courts-crime   \n",
       "20      May 10, 2019, 5:18 pm  courts-crime   \n",
       "21      May 10, 2019, 9:37 am  courts-crime   \n",
       "22      May 10, 2019, 5:00 am  courts-crime   \n",
       "23      May 10, 2019, 5:00 am  courts-crime   \n",
       "24      May 10, 2019, 5:00 am  courts-crime   \n",
       "25       May 9, 2019, 2:38 pm  courts-crime   \n",
       "26       May 9, 2019, 2:03 pm  courts-crime   \n",
       "27       May 9, 2019, 9:41 am  courts-crime   \n",
       "28       May 9, 2019, 5:00 am  courts-crime   \n",
       "29       May 9, 2019, 5:00 am  courts-crime   \n",
       "...                       ...           ...   \n",
       "15436               27-Apr-18           NaN   \n",
       "15437               27-Apr-18           NaN   \n",
       "15438               26-Apr-18           NaN   \n",
       "15439               26-Apr-18           NaN   \n",
       "15440               26-Apr-18           NaN   \n",
       "15441               26-Apr-18           NaN   \n",
       "15442               26-Apr-18           NaN   \n",
       "15443               26-Apr-18           NaN   \n",
       "15444               26-Apr-18           NaN   \n",
       "15445               26-Apr-18           NaN   \n",
       "15446               25-Apr-18           NaN   \n",
       "15447               25-Apr-18           NaN   \n",
       "15448               26-Apr-18           NaN   \n",
       "15449               25-Apr-18           NaN   \n",
       "15450               25-Apr-18           NaN   \n",
       "15451               26-Apr-18           NaN   \n",
       "15452               25-Apr-18           NaN   \n",
       "15453               25-Apr-18           NaN   \n",
       "15454               25-Apr-18           NaN   \n",
       "15455               25-Apr-18           NaN   \n",
       "15456               25-Apr-18           NaN   \n",
       "15457               25-Apr-18           NaN   \n",
       "15458               25-Apr-18           NaN   \n",
       "15459               24-Apr-18           NaN   \n",
       "15460               24-Apr-18           NaN   \n",
       "15461               24-Apr-18           NaN   \n",
       "15462               24-Apr-18           NaN   \n",
       "15463               24-Apr-18           NaN   \n",
       "15464               24-Apr-18           NaN   \n",
       "15465               24-Apr-18           NaN   \n",
       "\n",
       "                                             gpt2_inputs  \\\n",
       "0                                                    NaN   \n",
       "1                                                    NaN   \n",
       "2                                                    NaN   \n",
       "3                                                    NaN   \n",
       "4                                                    NaN   \n",
       "5                                                    NaN   \n",
       "6                                                    NaN   \n",
       "7                                                    NaN   \n",
       "8                                                    NaN   \n",
       "9                                                    NaN   \n",
       "10                                                   NaN   \n",
       "11                                                   NaN   \n",
       "12                                                   NaN   \n",
       "13                                                   NaN   \n",
       "14                                                   NaN   \n",
       "15                                                   NaN   \n",
       "16                                                   NaN   \n",
       "17                                                   NaN   \n",
       "18                                                   NaN   \n",
       "19                                                   NaN   \n",
       "20                                                   NaN   \n",
       "21                                                   NaN   \n",
       "22                                                   NaN   \n",
       "23                                                   NaN   \n",
       "24                                                   NaN   \n",
       "25                                                   NaN   \n",
       "26                                                   NaN   \n",
       "27                                                   NaN   \n",
       "28                                                   NaN   \n",
       "29                                                   NaN   \n",
       "...                                                  ...   \n",
       "15436  SINGAPORE — Supported by the sustained expansi...   \n",
       "15437  SINGAPORE — The outlook for the Republic's eco...   \n",
       "15438  SINGAPORE – A mobile application that aims to ...   \n",
       "15439  SINGAPORE – A residential Government Land Sale...   \n",
       "15440  SINGAPORE – The Land Transport Authority (LTA)...   \n",
       "15441  I read the report, “Petition calling for remov...   \n",
       "15442  SINGAPORE — Firing a fresh salvo in the battle...   \n",
       "15443  SINGAPORE — Following two recent fatal traffic...   \n",
       "15444  SINGAPORE – The Republic’s manufacturing growt...   \n",
       "15445  SINGAPORE — A 54-year-old taxi driver has been...   \n",
       "15446  SINGAPORE — A toxic industrial waste collectio...   \n",
       "15447  SINGAPORE — Some valuables allegedly stolen by...   \n",
       "15448  SINGAPORE – When former Minister of State Teo ...   \n",
       "15449  SINGAPORE – Days after the fatal crash near Yi...   \n",
       "15450  SINGAPORE – Former England and Arsenal footbal...   \n",
       "15451  SINGAPORE — Two years ago, the Asean Para Game...   \n",
       "15452  SINGAPORE — As mixed martial arts (MMA) contin...   \n",
       "15453  Every day, hundreds of thousands of passengers...   \n",
       "15454  SINGAPORE — To help his female patient cover t...   \n",
       "15455  SINGAPORE — The considerable workload at the M...   \n",
       "15456  SINGAPORE – New deans will helm the Lee Kuan Y...   \n",
       "15457  SINGAPORE — Singapore-based Keppel Corp said o...   \n",
       "15458  SINGAPORE — The latest round of Cabinet change...   \n",
       "15459  SINGAPORE — Despite the considerable progress ...   \n",
       "15460  SINGAPORE — A 25-year-old lorry driver who all...   \n",
       "15461  SINGAPORE – Backbencher Edwin Tong, who will j...   \n",
       "15462  SINGAPORE — The leadership transition spanning...   \n",
       "15463  SINGAPORE — The Islamic Religious Council of S...   \n",
       "15464  Several 4G leaders have been given new respons...   \n",
       "15465  SINGAPORE – No bad smell, always stocked with ...   \n",
       "\n",
       "                                                    news  is_fake  \n",
       "0      SINGAPORE - Two men were taken to court on Tue...        0  \n",
       "1      Two Nigerian nationals are expected to be char...        0  \n",
       "2      A data centre operator that could not maintain...        0  \n",
       "3      A Primary 2 girl who asked her father for help...        0  \n",
       "4      A volunteer at a church student-care centre lu...        0  \n",
       "5      Even with the National University of Singapore...        0  \n",
       "6      SINGAPORE - A Singaporean man and a Filipino w...        0  \n",
       "7      SINGAPORE - Two Nigerian nationals are expecte...        0  \n",
       "8      SINGAPORE - A Primary 2 girl approached her fa...        0  \n",
       "9      SINGAPORE - A volunteer at a church student ca...        0  \n",
       "10     SINGAPORE - Even with the National University ...        0  \n",
       "11     SINGAPORE - A 26-year-old National University ...        0  \n",
       "12     SINGAPORE - A man, who is suspected to have st...        0  \n",
       "13     SINGAPORE -More than 80 people are assisting w...        0  \n",
       "14     SINGAPORE - Four teenagers and a 20-year-old m...        0  \n",
       "15     Former national rugby player Slemat Rakisan wa...        0  \n",
       "16     A mother who was frustrated with her 23-month-...        0  \n",
       "17     SINGAPORE - A 68-year-old man has been arreste...        0  \n",
       "18     SINGAPORE - Former national rugby player Slema...        0  \n",
       "19     SINGAPORE - In its largest haul of contraband ...        0  \n",
       "20     SINGAPORE - A mother who was frustrated with h...        0  \n",
       "21     SINGAPORE (THE NEW PAPER) - A girl and her fri...        0  \n",
       "22     The police have arrested a 64-year-old woman w...        0  \n",
       "23     A domestic helper, who stole more than $5,000 ...        0  \n",
       "24     An Indian national, who is a Singapore permane...        0  \n",
       "25     SINGAPORE - A domestic helper, who stole more ...        0  \n",
       "26     SINGAPORE - An Indian national, who is a Singa...        0  \n",
       "27     SINGAPORE - The police have arrested a 64-year...        0  \n",
       "28     Deterrence remains the key sentencing principl...        0  \n",
       "29     A music teacher who molested an 18-year-old st...        0  \n",
       "...                                                  ...      ...  \n",
       "15436  SINGAPORE — Supported by the sustained expansi...        1  \n",
       "15437  SINGAPORE — The outlook for the Republic's eco...        1  \n",
       "15438  SINGAPORE – A mobile application that aims to ...        1  \n",
       "15439  SINGAPORE – A residential Government Land Sale...        1  \n",
       "15440  SINGAPORE – The Land Transport Authority (LTA)...        1  \n",
       "15441  I read the report, “Petition calling for remov...        1  \n",
       "15442  SINGAPORE — Firing a fresh salvo in the battle...        1  \n",
       "15443  SINGAPORE — Following two recent fatal traffic...        1  \n",
       "15444  SINGAPORE – The Republic’s manufacturing growt...        1  \n",
       "15445  SINGAPORE — A 54-year-old taxi driver has been...        1  \n",
       "15446  SINGAPORE — A toxic industrial waste collectio...        1  \n",
       "15447  SINGAPORE — Some valuables allegedly stolen by...        1  \n",
       "15448  SINGAPORE – When former Minister of State Teo ...        1  \n",
       "15449  SINGAPORE – Days after the fatal crash near Yi...        1  \n",
       "15450  SINGAPORE – Former England and Arsenal footbal...        1  \n",
       "15451  SINGAPORE — Two years ago, the Asean Para Game...        1  \n",
       "15452  SINGAPORE — As mixed martial arts (MMA) contin...        1  \n",
       "15453  Every day, hundreds of thousands of passengers...        1  \n",
       "15454  SINGAPORE — To help his female patient cover t...        1  \n",
       "15455  SINGAPORE — The considerable workload at the M...        1  \n",
       "15456  SINGAPORE – New deans will helm the Lee Kuan Y...        1  \n",
       "15457  SINGAPORE — Singapore-based Keppel Corp said o...        1  \n",
       "15458  SINGAPORE — The latest round of Cabinet change...        1  \n",
       "15459  SINGAPORE — Despite the considerable progress ...        1  \n",
       "15460  SINGAPORE — A 25-year-old lorry driver who all...        1  \n",
       "15461  SINGAPORE – Backbencher Edwin Tong, who will j...        1  \n",
       "15462  SINGAPORE — The leadership transition spanning...        1  \n",
       "15463  SINGAPORE — The Islamic Religious Council of S...        1  \n",
       "15464  Several 4G leaders have been given new respons...        1  \n",
       "15465  SINGAPORE – No bad smell, always stocked with ...        1  \n",
       "\n",
       "[15466 rows x 9 columns]"
      ]
     },
     "execution_count": 2,
     "metadata": {},
     "output_type": "execute_result"
    }
   ],
   "source": [
    "data = pd.read_csv('data_cleaned_50words.csv')\n",
    "data"
   ]
  },
  {
   "cell_type": "markdown",
   "metadata": {},
   "source": [
    "# Imputing Missing Topics for TODAYOnline News Based on Straits Times Labels"
   ]
  },
  {
   "cell_type": "markdown",
   "metadata": {},
   "source": [
    "**Classification Model Selection**"
   ]
  },
  {
   "cell_type": "code",
   "execution_count": 3,
   "metadata": {},
   "outputs": [
    {
     "data": {
      "text/plain": [
       "companies-markets    3228\n",
       "courts-crime         1962\n",
       "transport             938\n",
       "politics              868\n",
       "health                582\n",
       "economy               546\n",
       "education             496\n",
       "property              362\n",
       "banking               348\n",
       "environment           240\n",
       "manpower              146\n",
       "housing               100\n",
       "invest                 62\n",
       "Name: category, dtype: int64"
      ]
     },
     "execution_count": 3,
     "metadata": {},
     "output_type": "execute_result"
    }
   ],
   "source": [
    "data['category'].value_counts()"
   ]
  },
  {
   "cell_type": "code",
   "execution_count": 4,
   "metadata": {},
   "outputs": [],
   "source": [
    "# Group these categories to be under Business\n",
    "\n",
    "data['category'] = ['business' if i in ['companies-markets', 'economy', 'banking', 'property', 'invest'] \\\n",
    "                    else i for i in data['category']]"
   ]
  },
  {
   "cell_type": "code",
   "execution_count": 5,
   "metadata": {},
   "outputs": [
    {
     "data": {
      "text/plain": [
       "business        4546\n",
       "courts-crime    1962\n",
       "transport        938\n",
       "politics         868\n",
       "health           582\n",
       "education        496\n",
       "environment      240\n",
       "manpower         146\n",
       "housing          100\n",
       "Name: category, dtype: int64"
      ]
     },
     "execution_count": 5,
     "metadata": {},
     "output_type": "execute_result"
    }
   ],
   "source": [
    "data['category'].value_counts()"
   ]
  },
  {
   "cell_type": "code",
   "execution_count": 6,
   "metadata": {},
   "outputs": [
    {
     "data": {
      "text/plain": [
       "5588"
      ]
     },
     "execution_count": 6,
     "metadata": {},
     "output_type": "execute_result"
    }
   ],
   "source": [
    "data['category'].isna().sum()"
   ]
  },
  {
   "cell_type": "code",
   "execution_count": 7,
   "metadata": {},
   "outputs": [
    {
     "data": {
      "text/plain": [
       "0"
      ]
     },
     "execution_count": 7,
     "metadata": {},
     "output_type": "execute_result"
    }
   ],
   "source": [
    "data_st = data[data['source'] == 'The Straits Times']\n",
    "data_st['category'].isna().sum()"
   ]
  },
  {
   "cell_type": "code",
   "execution_count": 8,
   "metadata": {},
   "outputs": [
    {
     "name": "stdout",
     "output_type": "stream",
     "text": [
      "(9878,)\n",
      "(9878,)\n"
     ]
    }
   ],
   "source": [
    "Xcat = data_st['news']\n",
    "ycat = data_st['category']\n",
    "\n",
    "print(Xcat.shape)\n",
    "print(ycat.shape)"
   ]
  },
  {
   "cell_type": "markdown",
   "metadata": {},
   "source": [
    "**Models have been trained and saved as pickle**"
   ]
  },
  {
   "cell_type": "code",
   "execution_count": 9,
   "metadata": {},
   "outputs": [],
   "source": [
    "# Xcat_train, Xcat_test, ycat_train, ycat_test = train_test_split(Xcat, ycat, test_size=0.33, \n",
    "#                                                                 random_state=42, stratify = ycat)"
   ]
  },
  {
   "cell_type": "code",
   "execution_count": 10,
   "metadata": {},
   "outputs": [],
   "source": [
    "# def fit_score_print_cat(model_name, model, X_train = Xcat_train, y_train = ycat_train, X_test = Xcat_test, \n",
    "#                         y_test = ycat_test, n_jobs = -1):\n",
    "\n",
    "#     model.fit(X_train, y_train)\n",
    "#     model_name['predict'] = model.predict(X_test)\n",
    "#     model_name['clf_report'] = classification_report(y_test, model_name['predict'])"
   ]
  },
  {
   "cell_type": "code",
   "execution_count": 11,
   "metadata": {},
   "outputs": [],
   "source": [
    "# logr_tf = Pipeline([('cvec', CountVectorizer(encoding= 'utf-8', stop_words= 'english', strip_accents= 'unicode', \n",
    "#                                                lowercase= True, ngram_range= (1,2), min_df = 0.001, max_df = 0.8)), \n",
    "#                       ('tf', TfidfTransformer()), \n",
    "#                       ('logr', LogisticRegression(penalty = 'l2', random_state = 42))])\n",
    "\n",
    "# # scores = cross_val_score(logr_tf, Xcat, ycat, verbose = 1, cv = 10, n_jobs= -1)\n",
    "# # print(np.mean(scores))\n",
    "\n",
    "# dict_logr_tf = {}\n",
    "# fit_score_print_cat(model_name= dict_logr_tf, model= logr_tf)"
   ]
  },
  {
   "cell_type": "code",
   "execution_count": 12,
   "metadata": {},
   "outputs": [],
   "source": [
    "# logr_cvec = Pipeline([('cvec', CountVectorizer(encoding= 'utf-8', stop_words= 'english', strip_accents= 'unicode', \n",
    "#                                                lowercase= True, ngram_range= (1,2), min_df = 0.001, max_df = 0.8)),\n",
    "#                       ('logr', LogisticRegression(penalty = 'l2', random_state = 42))])\n",
    "\n",
    "# dict_logr_cvec = {}\n",
    "# fit_score_print_cat(model_name= dict_logr_cvec, model= logr_cvec)"
   ]
  },
  {
   "cell_type": "code",
   "execution_count": 13,
   "metadata": {},
   "outputs": [],
   "source": [
    "# nb_tf = Pipeline([('cvec', CountVectorizer(encoding= 'utf-8', stop_words= 'english', strip_accents= 'unicode', \n",
    "#                                                lowercase= True, ngram_range= (1,2), min_df = 0.001, max_df = 0.8)), \n",
    "#                     ('tf', TfidfTransformer()), \n",
    "#                     ('nb', MultinomialNB())])\n",
    "\n",
    "# dict_nb_tf = {}\n",
    "# fit_score_print_cat(model_name= dict_nb_tf, model= nb_tf)"
   ]
  },
  {
   "cell_type": "code",
   "execution_count": 14,
   "metadata": {},
   "outputs": [],
   "source": [
    "# nb_cvec = Pipeline([('cvec', CountVectorizer(encoding= 'utf-8', stop_words= 'english', strip_accents= 'unicode', \n",
    "#                                                lowercase= True, ngram_range= (1,2), min_df = 0.001, max_df = 0.8)), \n",
    "#                     ('nb', MultinomialNB())])\n",
    "\n",
    "# dict_nb_cvec = {}\n",
    "# fit_score_print_cat(model_name= dict_nb_cvec, model= nb_cvec)"
   ]
  },
  {
   "cell_type": "code",
   "execution_count": 15,
   "metadata": {},
   "outputs": [],
   "source": [
    "# svm_tf = Pipeline([('cvec', CountVectorizer(encoding= 'utf-8', stop_words= 'english', strip_accents= 'unicode', \n",
    "#                                                lowercase= True, ngram_range= (1,2), min_df = 0.001, max_df = 0.8)), \n",
    "#                       ('tf', TfidfTransformer()), \n",
    "#                       ('svm', SVC(kernel = 'linear', probability= True, random_state = 42))])\n",
    "\n",
    "# dict_svm_tf = {}\n",
    "# fit_score_print_cat(model_name= dict_svm_tf, model= svm_tf)"
   ]
  },
  {
   "cell_type": "code",
   "execution_count": 16,
   "metadata": {},
   "outputs": [],
   "source": [
    "# svm_cvec = Pipeline([('cvec', CountVectorizer(encoding= 'utf-8', stop_words= 'english', strip_accents= 'unicode', \n",
    "#                                                lowercase= True, ngram_range= (1,2), min_df = 0.001, max_df = 0.8)),\n",
    "#                       ('svm', SVC(kernel= 'linear', probability= True, random_state = 42))])\n",
    "\n",
    "# dict_svm_cvec = {}\n",
    "# fit_score_print_cat(model_name= dict_svm_cvec, model= svm_cvec)"
   ]
  },
  {
   "cell_type": "code",
   "execution_count": 17,
   "metadata": {},
   "outputs": [],
   "source": [
    "# rf_tf = Pipeline([('cvec', CountVectorizer(encoding= 'utf-8', stop_words= 'english', strip_accents= 'unicode', \n",
    "#                                                lowercase= True, ngram_range= (1,2), min_df = 0.001, max_df = 0.8)), \n",
    "#                       ('tf', TfidfTransformer()), \n",
    "#                       ('rf', RandomForestClassifier(n_estimators = 800, criterion = 'entropy', \n",
    "#                                                     max_depth = None, random_state = 42))])\n",
    "\n",
    "# dict_rf_tf = {}\n",
    "# fit_score_print_cat(model_name= dict_rf_tf, model= rf_tf)"
   ]
  },
  {
   "cell_type": "code",
   "execution_count": 18,
   "metadata": {},
   "outputs": [],
   "source": [
    "# rf_cvec = Pipeline([('cvec', CountVectorizer(encoding= 'utf-8', stop_words= 'english', strip_accents= 'unicode', \n",
    "#                                                lowercase= True, ngram_range= (1,2), min_df = 0.001, max_df = 0.8)),\n",
    "#                       ('rf', RandomForestClassifier(n_estimators = 800, criterion = 'entropy', max_depth = None))])\n",
    "\n",
    "# dict_rf_cvec = {}\n",
    "# fit_score_print_cat(model_name= dict_rf_cvec, model= rf_cvec)"
   ]
  },
  {
   "cell_type": "code",
   "execution_count": 19,
   "metadata": {},
   "outputs": [],
   "source": [
    "# xgb_tf = Pipeline([('cvec', CountVectorizer(encoding= 'utf-8', stop_words= 'english', strip_accents= 'unicode', \n",
    "#                                                lowercase= True, ngram_range= (1,2), min_df = 0.001, max_df = 0.8)), \n",
    "#                       ('tf', TfidfTransformer()), \n",
    "#                       ('xgb', XGBClassifier(max_depth= 1, learning_rate= 0.5, n_estimators= 1000, \n",
    "#                                             early_stopping_rounds = 5, random_state= 42))])\n",
    "\n",
    "# dict_xgb_tf = {}\n",
    "# fit_score_print_cat(model_name= dict_xgb_tf, model= xgb_tf)"
   ]
  },
  {
   "cell_type": "code",
   "execution_count": 20,
   "metadata": {},
   "outputs": [],
   "source": [
    "# xgb_cvec = Pipeline([('cvec', CountVectorizer(encoding= 'utf-8', stop_words= 'english', strip_accents= 'unicode', \n",
    "#                                                lowercase= True, ngram_range= (1,2), min_df = 0.001, max_df = 0.8)),\n",
    "#                       ('xgb', XGBClassifier(max_depth= 1, learning_rate= 0.5, n_estimators= 1000, \n",
    "#                                             early_stopping_rounds = 5, random_state= 42))])\n",
    "\n",
    "# dict_xgb_cvec = {}\n",
    "# fit_score_print_cat(model_name= dict_xgb_cvec, model= xgb_cvec)"
   ]
  },
  {
   "cell_type": "code",
   "execution_count": 21,
   "metadata": {},
   "outputs": [],
   "source": [
    "# # Save models and results with pickle\n",
    "\n",
    "# with open(\"topics_ml_models.pckl\", \"wb\") as f:\n",
    "#     for model in [logr_tf, logr_cvec, nb_tf, nb_cvec, svm_tf, svm_cvec, rf_tf, rf_cvec, xgb_tf, xgb_cvec]:\n",
    "#          pickle.dump(model, f)\n",
    "\n",
    "# with open(\"topics_ml_models_results.pckl\", \"wb\") as f:\n",
    "#     for dictionary in [dict_logr_tf, dict_logr_cvec, dict_nb_tf, dict_nb_cvec, dict_svm_tf, dict_svm_cvec, dict_rf_tf, \n",
    "#                       dict_rf_cvec, dict_xgb_tf, dict_xgb_cvec]:\n",
    "#          pickle.dump(dictionary, f)"
   ]
  },
  {
   "cell_type": "code",
   "execution_count": 22,
   "metadata": {},
   "outputs": [
    {
     "name": "stderr",
     "output_type": "stream",
     "text": [
      "/home/lowkahhou/.local/lib/python3.5/site-packages/sklearn/base.py:306: UserWarning: Trying to unpickle estimator CountVectorizer from version 0.21.0 when using version 0.21.1. This might lead to breaking code or invalid results. Use at your own risk.\n",
      "  UserWarning)\n",
      "/home/lowkahhou/.local/lib/python3.5/site-packages/sklearn/base.py:306: UserWarning: Trying to unpickle estimator TfidfTransformer from version 0.21.0 when using version 0.21.1. This might lead to breaking code or invalid results. Use at your own risk.\n",
      "  UserWarning)\n",
      "/home/lowkahhou/.local/lib/python3.5/site-packages/sklearn/base.py:306: UserWarning: Trying to unpickle estimator LogisticRegression from version 0.21.0 when using version 0.21.1. This might lead to breaking code or invalid results. Use at your own risk.\n",
      "  UserWarning)\n",
      "/home/lowkahhou/.local/lib/python3.5/site-packages/sklearn/base.py:306: UserWarning: Trying to unpickle estimator Pipeline from version 0.21.0 when using version 0.21.1. This might lead to breaking code or invalid results. Use at your own risk.\n",
      "  UserWarning)\n",
      "/home/lowkahhou/.local/lib/python3.5/site-packages/sklearn/base.py:306: UserWarning: Trying to unpickle estimator MultinomialNB from version 0.21.0 when using version 0.21.1. This might lead to breaking code or invalid results. Use at your own risk.\n",
      "  UserWarning)\n",
      "/home/lowkahhou/.local/lib/python3.5/site-packages/sklearn/base.py:306: UserWarning: Trying to unpickle estimator SVC from version 0.21.0 when using version 0.21.1. This might lead to breaking code or invalid results. Use at your own risk.\n",
      "  UserWarning)\n",
      "/home/lowkahhou/.local/lib/python3.5/site-packages/sklearn/base.py:306: UserWarning: Trying to unpickle estimator DecisionTreeClassifier from version 0.21.0 when using version 0.21.1. This might lead to breaking code or invalid results. Use at your own risk.\n",
      "  UserWarning)\n",
      "/home/lowkahhou/.local/lib/python3.5/site-packages/sklearn/base.py:306: UserWarning: Trying to unpickle estimator RandomForestClassifier from version 0.21.0 when using version 0.21.1. This might lead to breaking code or invalid results. Use at your own risk.\n",
      "  UserWarning)\n",
      "/home/lowkahhou/.local/lib/python3.5/site-packages/sklearn/base.py:306: UserWarning: Trying to unpickle estimator LabelEncoder from version 0.21.0 when using version 0.21.1. This might lead to breaking code or invalid results. Use at your own risk.\n",
      "  UserWarning)\n"
     ]
    }
   ],
   "source": [
    "## Load models and results with pickle\n",
    "\n",
    "topics_models = []\n",
    "with open(\"topics_ml_models.pckl\", \"rb\") as f:\n",
    "    while True:\n",
    "        try:\n",
    "            topics_models.append(pickle.load(f))\n",
    "        except EOFError:\n",
    "            break\n",
    "\n",
    "topics_models_results = []\n",
    "with open(\"topics_ml_models_results.pckl\", \"rb\") as f:\n",
    "    while True:\n",
    "        try:\n",
    "            topics_models_results.append(pickle.load(f))\n",
    "        except EOFError:\n",
    "            break"
   ]
  },
  {
   "cell_type": "code",
   "execution_count": 23,
   "metadata": {},
   "outputs": [
    {
     "name": "stdout",
     "output_type": "stream",
     "text": [
      "LogR_tfidf\n",
      "              precision    recall  f1-score   support\n",
      "\n",
      "    business       0.89      0.98      0.94      1500\n",
      "courts-crime       0.92      0.95      0.94       648\n",
      "   education       0.89      0.81      0.85       164\n",
      " environment       0.94      0.58      0.72        79\n",
      "      health       0.85      0.85      0.85       192\n",
      "     housing       0.88      0.45      0.60        33\n",
      "    manpower       0.79      0.31      0.45        48\n",
      "    politics       0.88      0.68      0.77       286\n",
      "   transport       0.85      0.80      0.82       310\n",
      "\n",
      "    accuracy                           0.89      3260\n",
      "   macro avg       0.88      0.71      0.77      3260\n",
      "weighted avg       0.89      0.89      0.88      3260\n",
      "\n",
      "LogR_cvec\n",
      "              precision    recall  f1-score   support\n",
      "\n",
      "    business       0.95      0.97      0.96      1500\n",
      "courts-crime       0.96      0.95      0.95       648\n",
      "   education       0.88      0.87      0.88       164\n",
      " environment       0.93      0.87      0.90        79\n",
      "      health       0.86      0.91      0.88       192\n",
      "     housing       0.93      0.76      0.83        33\n",
      "    manpower       0.85      0.69      0.76        48\n",
      "    politics       0.88      0.77      0.82       286\n",
      "   transport       0.87      0.92      0.89       310\n",
      "\n",
      "    accuracy                           0.93      3260\n",
      "   macro avg       0.90      0.86      0.88      3260\n",
      "weighted avg       0.93      0.93      0.93      3260\n",
      "\n",
      "NBayes_tfidf\n",
      "              precision    recall  f1-score   support\n",
      "\n",
      "    business       0.78      1.00      0.87      1500\n",
      "courts-crime       0.79      0.96      0.87       648\n",
      "   education       0.92      0.49      0.64       164\n",
      " environment       1.00      0.13      0.22        79\n",
      "      health       0.90      0.48      0.63       192\n",
      "     housing       0.00      0.00      0.00        33\n",
      "    manpower       0.00      0.00      0.00        48\n",
      "    politics       0.82      0.44      0.57       286\n",
      "   transport       0.90      0.54      0.68       310\n",
      "\n",
      "    accuracy                           0.80      3260\n",
      "   macro avg       0.68      0.45      0.50      3260\n",
      "weighted avg       0.80      0.80      0.76      3260\n",
      "\n",
      "NBayes_cvec\n",
      "              precision    recall  f1-score   support\n",
      "\n",
      "    business       0.98      0.93      0.95      1500\n",
      "courts-crime       0.94      0.94      0.94       648\n",
      "   education       0.84      0.90      0.87       164\n",
      " environment       0.88      0.85      0.86        79\n",
      "      health       0.80      0.92      0.86       192\n",
      "     housing       0.75      0.73      0.74        33\n",
      "    manpower       0.67      0.69      0.68        48\n",
      "    politics       0.77      0.75      0.76       286\n",
      "   transport       0.76      0.89      0.82       310\n",
      "\n",
      "    accuracy                           0.90      3260\n",
      "   macro avg       0.82      0.84      0.83      3260\n",
      "weighted avg       0.91      0.90      0.90      3260\n",
      "\n",
      "LinearSVM_tfidf\n",
      "              precision    recall  f1-score   support\n",
      "\n",
      "    business       0.95      0.98      0.96      1500\n",
      "courts-crime       0.97      0.95      0.96       648\n",
      "   education       0.91      0.88      0.89       164\n",
      " environment       0.92      0.89      0.90        79\n",
      "      health       0.87      0.94      0.90       192\n",
      "     housing       0.93      0.76      0.83        33\n",
      "    manpower       0.78      0.60      0.68        48\n",
      "    politics       0.89      0.74      0.81       286\n",
      "   transport       0.85      0.91      0.88       310\n",
      "\n",
      "    accuracy                           0.93      3260\n",
      "   macro avg       0.90      0.85      0.87      3260\n",
      "weighted avg       0.93      0.93      0.93      3260\n",
      "\n",
      "LinearSVM_cvec\n",
      "              precision    recall  f1-score   support\n",
      "\n",
      "    business       0.95      0.97      0.96      1500\n",
      "courts-crime       0.96      0.94      0.95       648\n",
      "   education       0.85      0.87      0.86       164\n",
      " environment       0.92      0.84      0.87        79\n",
      "      health       0.83      0.87      0.85       192\n",
      "     housing       0.93      0.76      0.83        33\n",
      "    manpower       0.80      0.69      0.74        48\n",
      "    politics       0.86      0.77      0.81       286\n",
      "   transport       0.86      0.91      0.88       310\n",
      "\n",
      "    accuracy                           0.92      3260\n",
      "   macro avg       0.88      0.84      0.86      3260\n",
      "weighted avg       0.92      0.92      0.92      3260\n",
      "\n",
      "RForest_tfidf\n",
      "              precision    recall  f1-score   support\n",
      "\n",
      "    business       0.82      0.99      0.90      1500\n",
      "courts-crime       0.90      0.94      0.92       648\n",
      "   education       0.90      0.74      0.82       164\n",
      " environment       1.00      0.38      0.55        79\n",
      "      health       0.86      0.77      0.81       192\n",
      "     housing       1.00      0.21      0.35        33\n",
      "    manpower       1.00      0.23      0.37        48\n",
      "    politics       0.87      0.57      0.69       286\n",
      "   transport       0.86      0.62      0.72       310\n",
      "\n",
      "    accuracy                           0.85      3260\n",
      "   macro avg       0.91      0.60      0.68      3260\n",
      "weighted avg       0.86      0.85      0.84      3260\n",
      "\n",
      "RForest_cvec\n",
      "              precision    recall  f1-score   support\n",
      "\n",
      "    business       0.82      1.00      0.90      1500\n",
      "courts-crime       0.89      0.93      0.91       648\n",
      "   education       0.89      0.74      0.81       164\n",
      " environment       1.00      0.38      0.55        79\n",
      "      health       0.88      0.77      0.82       192\n",
      "     housing       1.00      0.21      0.35        33\n",
      "    manpower       1.00      0.23      0.37        48\n",
      "    politics       0.88      0.57      0.69       286\n",
      "   transport       0.86      0.63      0.73       310\n",
      "\n",
      "    accuracy                           0.85      3260\n",
      "   macro avg       0.91      0.61      0.68      3260\n",
      "weighted avg       0.86      0.85      0.84      3260\n",
      "\n",
      "XGBoost_tfidf\n",
      "              precision    recall  f1-score   support\n",
      "\n",
      "    business       0.93      0.97      0.95      1500\n",
      "courts-crime       0.94      0.93      0.93       648\n",
      "   education       0.88      0.83      0.85       164\n",
      " environment       0.93      0.78      0.85        79\n",
      "      health       0.83      0.84      0.83       192\n",
      "     housing       0.90      0.79      0.84        33\n",
      "    manpower       0.76      0.58      0.66        48\n",
      "    politics       0.84      0.77      0.80       286\n",
      "   transport       0.84      0.85      0.84       310\n",
      "\n",
      "    accuracy                           0.91      3260\n",
      "   macro avg       0.87      0.82      0.84      3260\n",
      "weighted avg       0.90      0.91      0.90      3260\n",
      "\n",
      "XGBoost_cvec\n",
      "              precision    recall  f1-score   support\n",
      "\n",
      "    business       0.93      0.97      0.95      1500\n",
      "courts-crime       0.95      0.93      0.94       648\n",
      "   education       0.85      0.85      0.85       164\n",
      " environment       0.90      0.78      0.84        79\n",
      "      health       0.84      0.83      0.84       192\n",
      "     housing       0.86      0.76      0.81        33\n",
      "    manpower       0.67      0.65      0.66        48\n",
      "    politics       0.83      0.74      0.78       286\n",
      "   transport       0.85      0.85      0.85       310\n",
      "\n",
      "    accuracy                           0.91      3260\n",
      "   macro avg       0.86      0.82      0.84      3260\n",
      "weighted avg       0.91      0.91      0.91      3260\n",
      "\n"
     ]
    }
   ],
   "source": [
    "models_list = [\"LogR_tfidf\", \"LogR_cvec\", \"NBayes_tfidf\", \"NBayes_cvec\", \n",
    "               \"LinearSVM_tfidf\", \"LinearSVM_cvec\", \"RForest_tfidf\", \"RForest_cvec\", \"XGBoost_tfidf\", \"XGBoost_cvec\"]\n",
    "\n",
    "for index, model in enumerate(topics_models_results):\n",
    "    print(models_list[index])\n",
    "    print(model['clf_report'])"
   ]
  },
  {
   "cell_type": "markdown",
   "metadata": {},
   "source": [
    "**Logistic Regression with CountVectorizer is preferred, to fit Straits Times Labels and predict the missing categories for TodayOnline**"
   ]
  },
  {
   "cell_type": "code",
   "execution_count": 24,
   "metadata": {},
   "outputs": [
    {
     "data": {
      "text/plain": [
       "2794"
      ]
     },
     "execution_count": 24,
     "metadata": {},
     "output_type": "execute_result"
    }
   ],
   "source": [
    "Xcat = data_st['news']\n",
    "ycat = data_st['category']\n",
    "\n",
    "TodayNews_real = data[(data['source'] == 'TodayOnline') & (data['is_fake'] == 0)]['news']\n",
    "len(TodayNews_real)"
   ]
  },
  {
   "cell_type": "code",
   "execution_count": 25,
   "metadata": {},
   "outputs": [
    {
     "name": "stderr",
     "output_type": "stream",
     "text": [
      "/home/lowkahhou/.local/lib/python3.5/site-packages/sklearn/linear_model/logistic.py:432: FutureWarning: Default solver will be changed to 'lbfgs' in 0.22. Specify a solver to silence this warning.\n",
      "  FutureWarning)\n",
      "/home/lowkahhou/.local/lib/python3.5/site-packages/sklearn/linear_model/logistic.py:469: FutureWarning: Default multi_class will be changed to 'auto' in 0.22. Specify the multi_class option to silence this warning.\n",
      "  \"this warning.\", FutureWarning)\n"
     ]
    },
    {
     "data": {
      "text/plain": [
       "2794"
      ]
     },
     "execution_count": 25,
     "metadata": {},
     "output_type": "execute_result"
    }
   ],
   "source": [
    "topics_models[1].fit(Xcat, ycat)\n",
    "TodayNews_Topics = topics_models[1].predict(TodayNews_real)\n",
    "len(TodayNews_Topics)"
   ]
  },
  {
   "cell_type": "code",
   "execution_count": 26,
   "metadata": {},
   "outputs": [],
   "source": [
    "TodayNews_real_index = list(data[(data['category'].isna()) & (data['is_fake'] == 0)].index)\n",
    "TodayNews_fake_index = list(data[(data['category'].isna()) & (data['is_fake'] == 1)].index)"
   ]
  },
  {
   "cell_type": "code",
   "execution_count": 27,
   "metadata": {},
   "outputs": [],
   "source": [
    "for count, index in enumerate(TodayNews_real_index):\n",
    "    data.loc[index, 'category'] = TodayNews_Topics[count]\n",
    "\n",
    "for count, index in enumerate(TodayNews_fake_index):\n",
    "    data.loc[index, 'category'] = TodayNews_Topics[count]"
   ]
  },
  {
   "cell_type": "code",
   "execution_count": 28,
   "metadata": {},
   "outputs": [],
   "source": [
    "data.to_csv('data_cleaned_50words_fulltopics.csv', encoding='utf-8-sig')"
   ]
  },
  {
   "cell_type": "markdown",
   "metadata": {},
   "source": [
    "# EDA"
   ]
  },
  {
   "cell_type": "code",
   "execution_count": 29,
   "metadata": {},
   "outputs": [
    {
     "data": {
      "text/plain": [
       "1    7733\n",
       "0    7733\n",
       "Name: is_fake, dtype: int64"
      ]
     },
     "execution_count": 29,
     "metadata": {},
     "output_type": "execute_result"
    }
   ],
   "source": [
    "data['is_fake'].value_counts()"
   ]
  },
  {
   "cell_type": "code",
   "execution_count": 30,
   "metadata": {},
   "outputs": [],
   "source": [
    "cat_plot = data.groupby(['category','is_fake']).size().reset_index(drop= False)\n",
    "cat_plot.rename(columns= {0: 'count'}, inplace = True)\n",
    "cat_plot.sort_values('count', ascending= False, inplace= True)"
   ]
  },
  {
   "cell_type": "code",
   "execution_count": 31,
   "metadata": {},
   "outputs": [
    {
     "data": {
      "image/png": "[encoded data removed]",
      "text/plain": [
       "<Figure size 1080x576 with 1 Axes>"
      ]
     },
     "metadata": {
      "needs_background": "light"
     },
     "output_type": "display_data"
    }
   ],
   "source": [
    "plt.figure(figsize= (15,8))\n",
    "sns.set(font_scale=1) \n",
    "sns.barplot(x= 'count', y = 'category', data = cat_plot, hue= 'is_fake')\n",
    "plt.show()"
   ]
  },
  {
   "cell_type": "markdown",
   "metadata": {},
   "source": [
    "# Models Comparison"
   ]
  },
  {
   "cell_type": "code",
   "execution_count": 32,
   "metadata": {},
   "outputs": [
    {
     "name": "stdout",
     "output_type": "stream",
     "text": [
      "(15466,)\n",
      "(15466,)\n"
     ]
    }
   ],
   "source": [
    "X = data['news']\n",
    "y = data['is_fake']\n",
    "\n",
    "print(X.shape)\n",
    "print(y.shape)"
   ]
  },
  {
   "cell_type": "code",
   "execution_count": 33,
   "metadata": {},
   "outputs": [
    {
     "data": {
      "text/plain": [
       "business        1918\n",
       "courts-crime    1090\n",
       "politics         772\n",
       "transport        496\n",
       "health           324\n",
       "education        256\n",
       "environment      148\n",
       "manpower          84\n",
       "housing           62\n",
       "Name: category, dtype: int64"
      ]
     },
     "execution_count": 33,
     "metadata": {},
     "output_type": "execute_result"
    }
   ],
   "source": [
    "# Manually split to train and test dataset with same proportion of real/fake news and news category\n",
    "\n",
    "test_index = []\n",
    "\n",
    "for i in data['is_fake'].unique():\n",
    "    for j in data['category'].unique():\n",
    "        indexes = list(data[(data['is_fake'] == i) & (data['category'] == j)].index)\n",
    "        random.seed(42)\n",
    "        test_index += random.sample(indexes, int(len(indexes)/3))\n",
    "\n",
    "train_index = [i for i in data.index if i not in test_index]\n",
    "\n",
    "data.loc[test_index, :]['category'].value_counts()"
   ]
  },
  {
   "cell_type": "code",
   "execution_count": 34,
   "metadata": {},
   "outputs": [
    {
     "data": {
      "text/plain": [
       "10316"
      ]
     },
     "execution_count": 34,
     "metadata": {},
     "output_type": "execute_result"
    }
   ],
   "source": [
    "len(X[train_index])"
   ]
  },
  {
   "cell_type": "code",
   "execution_count": 35,
   "metadata": {},
   "outputs": [
    {
     "data": {
      "text/plain": [
       "5150"
      ]
     },
     "execution_count": 35,
     "metadata": {},
     "output_type": "execute_result"
    }
   ],
   "source": [
    "len(X[test_index])"
   ]
  },
  {
   "cell_type": "code",
   "execution_count": 36,
   "metadata": {},
   "outputs": [
    {
     "name": "stdout",
     "output_type": "stream",
     "text": [
      "(10316,) (10316,)\n",
      "(5150,) (5150,)\n"
     ]
    }
   ],
   "source": [
    "X_train = X[train_index]\n",
    "y_train = y[train_index]\n",
    "X_test = X[test_index]\n",
    "y_test = y[test_index]\n",
    "\n",
    "# X_train, X_test, y_train, y_test = train_test_split(X, y, test_size=0.33, random_state=42, stratify = y)\n",
    "print(X_train.shape, y_train.shape)\n",
    "print(X_test.shape, y_test.shape)"
   ]
  },
  {
   "cell_type": "code",
   "execution_count": 37,
   "metadata": {},
   "outputs": [],
   "source": [
    "class ToDenseTransformer(BaseEstimator,TransformerMixin):\n",
    "\n",
    "    def transform(self, X, y=None, **fit_params):\n",
    "        return X.todense()\n",
    "\n",
    "    def fit(self, X, y=None, **fit_params):\n",
    "        return self\n",
    "\n",
    "def fit_score_print(model_name, model, X_train = X_train, y_train = y_train, X_test = X_test, y_test = y_test, n_jobs = -1):\n",
    "\n",
    "    model_name['train_scores'] = cross_val_score(model, X_train, y_train, verbose = 1, cv = 10, n_jobs= n_jobs)\n",
    "    model_name['train_score_mean'] = np.mean(model_name['train_scores'])\n",
    "    model_name['train_score_sd'] = np.std(model_name['train_scores'])\n",
    "    model.fit(X_train, y_train)\n",
    "    model_name['predict'] = model.predict(X_test)\n",
    "    model_name['accuracy_score'] = accuracy_score(y_test, model_name['predict'])\n",
    "    model_name['precision_recall_f1_suppport'] = precision_recall_fscore_support(y_test, model_name['predict'])\n",
    "    \n",
    "    try:\n",
    "        model_name['predict_proba'] = model.predict_proba(X_test)\n",
    "        model_name['auc_score'] = roc_auc_score(y_test, model_name['predict_proba'][:,1])\n",
    "    \n",
    "    except:\n",
    "        model_name['predict_proba'] = np.nan\n",
    "        model_name['auc_score'] = np.nan\n",
    "    \n",
    "    bold = \"\\033[1m\"\n",
    "    reset = \"\\033[0;0m\"\n",
    "\n",
    "    for key in ['train_scores', 'train_score_sd', 'train_score_mean', 'accuracy_score', 'auc_score']:\n",
    "        print(bold + key + reset, '\\n',  + model_name[key], '\\n')"
   ]
  },
  {
   "cell_type": "markdown",
   "metadata": {},
   "source": [
    "**Models have been trained and saved as pickle**"
   ]
  },
  {
   "cell_type": "code",
   "execution_count": 38,
   "metadata": {},
   "outputs": [],
   "source": [
    "# logr_tf = Pipeline([('cvec', CountVectorizer(encoding= 'utf-8', stop_words= 'english', strip_accents= 'unicode', \n",
    "#                                                lowercase= True, ngram_range= (1,2), min_df = 0.001, max_df = 0.8)), \n",
    "#                       ('tf', TfidfTransformer()), \n",
    "#                       ('logr', LogisticRegression(penalty = 'l2', random_state = 42))])\n",
    "\n",
    "# LogisticRegression_tfidf = {}\n",
    "# fit_score_print(model_name= LogisticRegression_tfidf, model= logr_tf)"
   ]
  },
  {
   "cell_type": "code",
   "execution_count": 39,
   "metadata": {},
   "outputs": [],
   "source": [
    "# logr_cvec = Pipeline([('cvec', CountVectorizer(encoding= 'utf-8', stop_words= 'english', strip_accents= 'unicode', \n",
    "#                                                lowercase= True, ngram_range= (1,2), min_df = 0.001, max_df = 0.8)),\n",
    "#                       ('logr', LogisticRegression(penalty = 'l2', random_state = 42))])\n",
    "\n",
    "# LogisticRegression_cvec = {}\n",
    "# fit_score_print(model_name= LogisticRegression_cvec, model= logr_cvec)"
   ]
  },
  {
   "cell_type": "code",
   "execution_count": 40,
   "metadata": {},
   "outputs": [],
   "source": [
    "# nb_tf = Pipeline([('cvec', CountVectorizer(encoding= 'utf-8', stop_words= 'english', strip_accents= 'unicode', \n",
    "#                                                lowercase= True, ngram_range= (1,2), min_df = 0.001, max_df = 0.8)), \n",
    "#                     ('tf', TfidfTransformer()), \n",
    "#                     ('nb', MultinomialNB())])\n",
    "\n",
    "# NaiveBayes_tfidf = {}\n",
    "# fit_score_print(model_name= NaiveBayes_tfidf, model= nb_tf)"
   ]
  },
  {
   "cell_type": "code",
   "execution_count": 41,
   "metadata": {},
   "outputs": [],
   "source": [
    "# nb_cvec = Pipeline([('cvec', CountVectorizer(encoding= 'utf-8', stop_words= 'english', strip_accents= 'unicode', \n",
    "#                                                lowercase= True, ngram_range= (1,2), min_df = 0.001, max_df = 0.8)), \n",
    "#                     ('nb', MultinomialNB())])\n",
    "\n",
    "# NaiveBayes_cvec = {}\n",
    "# fit_score_print(model_name= NaiveBayes_cvec, model= nb_cvec)"
   ]
  },
  {
   "cell_type": "code",
   "execution_count": 42,
   "metadata": {},
   "outputs": [],
   "source": [
    "# svm_tf = Pipeline([('cvec', CountVectorizer(encoding= 'utf-8', stop_words= 'english', strip_accents= 'unicode', \n",
    "#                                                lowercase= True, ngram_range= (1,2), min_df = 0.001, max_df = 0.8)), \n",
    "#                       ('tf', TfidfTransformer()), \n",
    "#                       ('svm', SVC(kernel = 'linear', probability= True, random_state = 42))])\n",
    "\n",
    "# LinearSVM_tfidf = {}\n",
    "# fit_score_print(model_name= LinearSVM_tfidf, model= svm_tf)"
   ]
  },
  {
   "cell_type": "code",
   "execution_count": 43,
   "metadata": {},
   "outputs": [],
   "source": [
    "# svm_cvec = Pipeline([('cvec', CountVectorizer(encoding= 'utf-8', stop_words= 'english', strip_accents= 'unicode', \n",
    "#                                                lowercase= True, ngram_range= (1,2), min_df = 0.001, max_df = 0.8)),\n",
    "#                       ('svm', SVC(kernel= 'linear', probability= True, random_state = 42))])\n",
    "\n",
    "# LinearSVM_cvec = {}\n",
    "# fit_score_print(model_name= LinearSVM_cvec, model= svm_cvec)"
   ]
  },
  {
   "cell_type": "code",
   "execution_count": 44,
   "metadata": {},
   "outputs": [],
   "source": [
    "# rf_tf = Pipeline([('cvec', CountVectorizer(encoding= 'utf-8', stop_words= 'english', strip_accents= 'unicode', \n",
    "#                                                lowercase= True, ngram_range= (1,2), min_df = 0.001, max_df = 0.8)), \n",
    "#                       ('tf', TfidfTransformer()), \n",
    "#                       ('rf', RandomForestClassifier(n_estimators = 800, criterion = 'entropy', \n",
    "#                                                     max_depth = None, random_state = 42))])\n",
    "\n",
    "# RandomForest_tfidf = {}\n",
    "# fit_score_print(model_name= RandomForest_tfidf, model= rf_tf)"
   ]
  },
  {
   "cell_type": "code",
   "execution_count": 45,
   "metadata": {},
   "outputs": [],
   "source": [
    "# rf_cvec = Pipeline([('cvec', CountVectorizer(encoding= 'utf-8', stop_words= 'english', strip_accents= 'unicode', \n",
    "#                                                lowercase= True, ngram_range= (1,2), min_df = 0.001, max_df = 0.8)),\n",
    "#                       ('rf', RandomForestClassifier(n_estimators = 800, criterion = 'entropy', max_depth = None))])\n",
    "\n",
    "# RandomForest_cvec = {}\n",
    "# fit_score_print(model_name= RandomForest_cvec, model= rf_cvec)"
   ]
  },
  {
   "cell_type": "code",
   "execution_count": 46,
   "metadata": {},
   "outputs": [],
   "source": [
    "# xgb_tf = Pipeline([('cvec', CountVectorizer(encoding= 'utf-8', stop_words= 'english', strip_accents= 'unicode', \n",
    "#                                                lowercase= True, ngram_range= (1,2), min_df = 0.001, max_df = 0.8)), \n",
    "#                       ('tf', TfidfTransformer()), \n",
    "#                       ('xgb', XGBClassifier(max_depth= 1, learning_rate= 0.5, n_estimators= 1000, \n",
    "#                                             early_stopping_rounds = 5, random_state= 42))])\n",
    "\n",
    "# XGBoost_tfidf = {}\n",
    "# fit_score_print(model_name= XGBoost_tfidf, model= xgb_tf)"
   ]
  },
  {
   "cell_type": "code",
   "execution_count": 47,
   "metadata": {},
   "outputs": [],
   "source": [
    "# xgb_cvec = Pipeline([('cvec', CountVectorizer(encoding= 'utf-8', stop_words= 'english', strip_accents= 'unicode', \n",
    "#                                                lowercase= True, ngram_range= (1,2), min_df = 0.001, max_df = 0.8)),\n",
    "#                       ('xgb', XGBClassifier(max_depth= 1, learning_rate= 0.5, n_estimators= 1000, \n",
    "#                                             early_stopping_rounds = 5, random_state= 42))])\n",
    "\n",
    "# XGBoost_cvec = {}\n",
    "# fit_score_print(model_name= XGBoost_cvec, model= xgb_cvec)"
   ]
  },
  {
   "cell_type": "code",
   "execution_count": 48,
   "metadata": {},
   "outputs": [],
   "source": [
    "# # Save models and results with pickle\n",
    "\n",
    "# with open(\"ml_models.pckl\", \"wb\") as f:\n",
    "#     for model in [logr_tf, logr_cvec, nb_tf, nb_cvec, svm_tf, svm_cvec, rf_tf, rf_cvec, xgb_tf, xgb_cvec]:\n",
    "#          pickle.dump(model, f)\n",
    "\n",
    "# with open(\"ml_models_results.pckl\", \"wb\") as f:\n",
    "#     for dictionary in [LogisticRegression_tfidf, LogisticRegression_cvec, NaiveBayes_tfidf, NaiveBayes_cvec, \n",
    "#                        LinearSVM_tfidf, LinearSVM_cvec, RandomForest_tfidf, RandomForest_cvec, XGBoost_tfidf, XGBoost_cvec]:\n",
    "#          pickle.dump(dictionary, f)"
   ]
  },
  {
   "cell_type": "code",
   "execution_count": 49,
   "metadata": {},
   "outputs": [],
   "source": [
    "## Load models and results with pickle\n",
    "\n",
    "models = []\n",
    "with open(\"ml_models.pckl\", \"rb\") as f:\n",
    "    while True:\n",
    "        try:\n",
    "            models.append(pickle.load(f))\n",
    "        except EOFError:\n",
    "            break\n",
    "\n",
    "models_results = []\n",
    "with open(\"ml_models_results.pckl\", \"rb\") as f:\n",
    "    while True:\n",
    "        try:\n",
    "            models_results.append(pickle.load(f))\n",
    "        except EOFError:\n",
    "            break"
   ]
  },
  {
   "cell_type": "code",
   "execution_count": 50,
   "metadata": {},
   "outputs": [
    {
     "data": {
      "image/png": "[encoded data removed]",
      "text/plain": [
       "<Figure size 1152x432 with 1 Axes>"
      ]
     },
     "metadata": {},
     "output_type": "display_data"
    }
   ],
   "source": [
    "cross_val_scores = []\n",
    "for model in models_results:\n",
    "    cross_val_scores.append(model['train_scores'])\n",
    "\n",
    "models_list = [\"LogR_tfidf\", \"LogR_cvec\", \"NBayes_tfidf\", \"NBayes_cvec\", \n",
    "               \"LinearSVM_tfidf\", \"LinearSVM_cvec\", \"RForest_tfidf\", \"RForest_cvec\", \"XGBoost_tfidf\", \"XGBoost_cvec\"]\n",
    "\n",
    "fig = plt.figure(figsize=(16,6))\n",
    "fig.suptitle('ML Models Cross Validation Scores Comparison')\n",
    "\n",
    "ax = fig.add_subplot(111)\n",
    "# plt.scatter(x = models_list, y = test_scores)\n",
    "plt.boxplot(cross_val_scores)\n",
    "ax.set_xticklabels(models_list, fontsize = 12)\n",
    "\n",
    "plt.ylabel('Scores', fontsize= 14)\n",
    "\n",
    "plt.show()"
   ]
  },
  {
   "cell_type": "code",
   "execution_count": 51,
   "metadata": {},
   "outputs": [
    {
     "name": "stdout",
     "output_type": "stream",
     "text": [
      "LogR_tfidf\n",
      "train score 0.9056816813426657\n",
      "accuracy test score 0.92\n",
      "roc_auc test score 0.975411669337355\n",
      "\n",
      "LogR_cvec\n",
      "train score 0.9102397079852487\n",
      "accuracy test score 0.9306796116504854\n",
      "roc_auc test score 0.9809678574794986\n",
      "\n",
      "NBayes_tfidf\n",
      "train score 0.8644718521863476\n",
      "accuracy test score 0.876116504854369\n",
      "roc_auc test score 0.9451047224055047\n",
      "\n",
      "NBayes_cvec\n",
      "train score 0.8674870173854143\n",
      "accuracy test score 0.8840776699029126\n",
      "roc_auc test score 0.9424699029126213\n",
      "\n",
      "LinearSVM_tfidf\n",
      "train score 0.9223545570858734\n",
      "accuracy test score 0.9442718446601942\n",
      "roc_auc test score 0.9861562824017344\n",
      "\n",
      "LinearSVM_cvec\n",
      "train score 0.9000619026115751\n",
      "accuracy test score 0.9192233009708738\n",
      "roc_auc test score 0.9753576020360073\n",
      "\n",
      "RForest_tfidf\n",
      "train score 0.8886232783924136\n",
      "accuracy test score 0.914368932038835\n",
      "roc_auc test score 0.9747101517579413\n",
      "\n",
      "RForest_cvec\n",
      "train score 0.8894983818770225\n",
      "accuracy test score 0.9234951456310679\n",
      "roc_auc test score 0.9712484871335659\n",
      "\n",
      "XGBoost_tfidf\n",
      "train score 0.9068487995785354\n",
      "accuracy test score 0.9242718446601942\n",
      "roc_auc test score 0.9796458101611839\n",
      "\n",
      "XGBoost_cvec\n",
      "train score 0.9117949875818467\n",
      "accuracy test score 0.9318446601941748\n",
      "roc_auc test score 0.981374003204826\n",
      "\n"
     ]
    }
   ],
   "source": [
    "for index, model in enumerate(models_results):\n",
    "    print(models_list[index])\n",
    "    print('train score', model['train_score_mean'])\n",
    "    print('accuracy test score', model['accuracy_score'])\n",
    "    print('roc_auc test score', model['auc_score'])\n",
    "    print('')"
   ]
  },
  {
   "cell_type": "code",
   "execution_count": 53,
   "metadata": {},
   "outputs": [
    {
     "data": {
      "image/png": "[encoded data removed]",
      "text/plain": [
       "<Figure size 1008x288 with 1 Axes>"
      ]
     },
     "metadata": {},
     "output_type": "display_data"
    }
   ],
   "source": [
    "models_results_df = pd.DataFrame()\n",
    "for index, model in enumerate(models_results):\n",
    "    temp_df = pd.DataFrame(model['train_scores'], columns=['train_scores'])\n",
    "    temp_df['model_name'] = models_list[index]\n",
    "    temp_df['train_score_mean'] = model['train_score_mean']\n",
    "    temp_df['accuracy_score'] = model['accuracy_score']\n",
    "    temp_df['auc_score'] = model['auc_score']\n",
    "    models_results_df = pd.concat([models_results_df, temp_df], axis= 0)\n",
    "\n",
    "fig = plt.figure(figsize=(14,4))\n",
    "\n",
    "plt.plot('model_name', 'train_score_mean', data= models_results_df, marker='o', markerfacecolor='blue', \n",
    "         markersize=8, color='skyblue', linewidth=2, label = 'train accuracy score')\n",
    "# plt.plot('model_name', 'accuracy_score', data= models_results_df, marker= 'o', color='olive', \n",
    "#          linewidth=2, label = 'test accuracy score')\n",
    "# plt.plot('model_name', 'auc_score', data= models_results_df, marker='o', color='orange', linewidth=2, \n",
    "#          label=\"test roc_auc score\")\n",
    "\n",
    "plt.title('ML Models Scores Comparison', fontsize = 18)\n",
    "\n",
    "plt.ylabel('Scores', fontsize= 14)\n",
    "\n",
    "plt.legend(fontsize = 12)\n",
    "\n",
    "plt.show()"
   ]
  },
  {
   "cell_type": "code",
   "execution_count": 52,
   "metadata": {},
   "outputs": [
    {
     "data": {
      "image/png": "[encoded data removed]",
      "text/plain": [
       "<Figure size 1008x288 with 1 Axes>"
      ]
     },
     "metadata": {},
     "output_type": "display_data"
    }
   ],
   "source": [
    "models_results_df = pd.DataFrame()\n",
    "for index, model in enumerate(models_results):\n",
    "    temp_df = pd.DataFrame(model['train_scores'], columns=['train_scores'])\n",
    "    temp_df['model_name'] = models_list[index]\n",
    "    temp_df['train_score_mean'] = model['train_score_mean']\n",
    "    temp_df['accuracy_score'] = model['accuracy_score']\n",
    "    temp_df['auc_score'] = model['auc_score']\n",
    "    models_results_df = pd.concat([models_results_df, temp_df], axis= 0)\n",
    "\n",
    "fig = plt.figure(figsize=(14,4))\n",
    "\n",
    "plt.plot('model_name', 'train_score_mean', data= models_results_df, marker='o', markerfacecolor='blue', \n",
    "         markersize=8, color='skyblue', linewidth=2, label = 'train accuracy score')\n",
    "plt.plot('model_name', 'accuracy_score', data= models_results_df, marker= 'o', color='olive', \n",
    "         linewidth=2, label = 'test accuracy score')\n",
    "plt.plot('model_name', 'auc_score', data= models_results_df, marker='o', color='orange', linewidth=2, \n",
    "         label=\"test roc_auc score\")\n",
    "\n",
    "plt.title('ML Models Scores Comparison', fontsize = 18)\n",
    "\n",
    "plt.ylabel('Scores', fontsize= 14)\n",
    "\n",
    "plt.legend(fontsize = 12)\n",
    "\n",
    "plt.show()"
   ]
  },
  {
   "cell_type": "markdown",
   "metadata": {},
   "source": [
    "**CountVectorizer - Linear SVM Model has the best train score.**\n",
    "\n",
    "**Test score and ROC_AUC score above 90%**\n",
    "\n",
    "**But is it really that good in reality?**\n",
    "\n",
    "**To look at feature importance**"
   ]
  },
  {
   "cell_type": "code",
   "execution_count": 53,
   "metadata": {},
   "outputs": [
    {
     "data": {
      "text/html": [
       "<div>\n",
       "<style scoped>\n",
       "    .dataframe tbody tr th:only-of-type {\n",
       "        vertical-align: middle;\n",
       "    }\n",
       "\n",
       "    .dataframe tbody tr th {\n",
       "        vertical-align: top;\n",
       "    }\n",
       "\n",
       "    .dataframe thead th {\n",
       "        text-align: right;\n",
       "    }\n",
       "</style>\n",
       "<table border=\"1\" class=\"dataframe\">\n",
       "  <thead>\n",
       "    <tr style=\"text-align: right;\">\n",
       "      <th></th>\n",
       "      <th>features</th>\n",
       "      <th>coef</th>\n",
       "      <th>is_fake_odds_ratio</th>\n",
       "      <th>is_real_odds_ratio</th>\n",
       "    </tr>\n",
       "  </thead>\n",
       "  <tbody>\n",
       "    <tr>\n",
       "      <th>1895</th>\n",
       "      <td>advertisement</td>\n",
       "      <td>4.29</td>\n",
       "      <td>3.83</td>\n",
       "      <td>0.26</td>\n",
       "    </tr>\n",
       "    <tr>\n",
       "      <th>21941</th>\n",
       "      <td>says</td>\n",
       "      <td>3.41</td>\n",
       "      <td>1.90</td>\n",
       "      <td>0.53</td>\n",
       "    </tr>\n",
       "    <tr>\n",
       "      <th>19918</th>\n",
       "      <td>read</td>\n",
       "      <td>3.39</td>\n",
       "      <td>3.27</td>\n",
       "      <td>0.31</td>\n",
       "    </tr>\n",
       "    <tr>\n",
       "      <th>19207</th>\n",
       "      <td>program</td>\n",
       "      <td>2.82</td>\n",
       "      <td>2.31</td>\n",
       "      <td>0.43</td>\n",
       "    </tr>\n",
       "    <tr>\n",
       "      <th>10664</th>\n",
       "      <td>government</td>\n",
       "      <td>2.72</td>\n",
       "      <td>1.53</td>\n",
       "      <td>0.65</td>\n",
       "    </tr>\n",
       "    <tr>\n",
       "      <th>6461</th>\n",
       "      <td>country</td>\n",
       "      <td>2.69</td>\n",
       "      <td>2.24</td>\n",
       "      <td>0.45</td>\n",
       "    </tr>\n",
       "    <tr>\n",
       "      <th>18163</th>\n",
       "      <td>percent</td>\n",
       "      <td>2.65</td>\n",
       "      <td>2.42</td>\n",
       "      <td>0.41</td>\n",
       "    </tr>\n",
       "    <tr>\n",
       "      <th>7312</th>\n",
       "      <td>department</td>\n",
       "      <td>2.28</td>\n",
       "      <td>2.07</td>\n",
       "      <td>0.48</td>\n",
       "    </tr>\n",
       "    <tr>\n",
       "      <th>12127</th>\n",
       "      <td>including</td>\n",
       "      <td>2.26</td>\n",
       "      <td>1.62</td>\n",
       "      <td>0.62</td>\n",
       "    </tr>\n",
       "    <tr>\n",
       "      <th>17013</th>\n",
       "      <td>number</td>\n",
       "      <td>1.99</td>\n",
       "      <td>1.48</td>\n",
       "      <td>0.68</td>\n",
       "    </tr>\n",
       "    <tr>\n",
       "      <th>5707</th>\n",
       "      <td>company</td>\n",
       "      <td>1.98</td>\n",
       "      <td>1.35</td>\n",
       "      <td>0.74</td>\n",
       "    </tr>\n",
       "    <tr>\n",
       "      <th>1573</th>\n",
       "      <td>according</td>\n",
       "      <td>1.97</td>\n",
       "      <td>1.37</td>\n",
       "      <td>0.73</td>\n",
       "    </tr>\n",
       "    <tr>\n",
       "      <th>7708</th>\n",
       "      <td>director general</td>\n",
       "      <td>1.95</td>\n",
       "      <td>1.93</td>\n",
       "      <td>0.52</td>\n",
       "    </tr>\n",
       "    <tr>\n",
       "      <th>12766</th>\n",
       "      <td>investigation</td>\n",
       "      <td>1.88</td>\n",
       "      <td>1.58</td>\n",
       "      <td>0.63</td>\n",
       "    </tr>\n",
       "    <tr>\n",
       "      <th>11340</th>\n",
       "      <td>hearing</td>\n",
       "      <td>1.86</td>\n",
       "      <td>1.87</td>\n",
       "      <td>0.53</td>\n",
       "    </tr>\n",
       "    <tr>\n",
       "      <th>8756</th>\n",
       "      <td>ensure</td>\n",
       "      <td>1.84</td>\n",
       "      <td>1.74</td>\n",
       "      <td>0.58</td>\n",
       "    </tr>\n",
       "    <tr>\n",
       "      <th>557</th>\n",
       "      <td>2012</td>\n",
       "      <td>1.82</td>\n",
       "      <td>1.68</td>\n",
       "      <td>0.59</td>\n",
       "    </tr>\n",
       "    <tr>\n",
       "      <th>14673</th>\n",
       "      <td>major</td>\n",
       "      <td>1.79</td>\n",
       "      <td>1.74</td>\n",
       "      <td>0.57</td>\n",
       "    </tr>\n",
       "    <tr>\n",
       "      <th>6914</th>\n",
       "      <td>david</td>\n",
       "      <td>1.76</td>\n",
       "      <td>1.71</td>\n",
       "      <td>0.59</td>\n",
       "    </tr>\n",
       "    <tr>\n",
       "      <th>1803</th>\n",
       "      <td>addition</td>\n",
       "      <td>1.70</td>\n",
       "      <td>1.93</td>\n",
       "      <td>0.52</td>\n",
       "    </tr>\n",
       "    <tr>\n",
       "      <th>2472</th>\n",
       "      <td>apartment</td>\n",
       "      <td>1.67</td>\n",
       "      <td>1.66</td>\n",
       "      <td>0.60</td>\n",
       "    </tr>\n",
       "    <tr>\n",
       "      <th>18411</th>\n",
       "      <td>planning</td>\n",
       "      <td>1.64</td>\n",
       "      <td>1.63</td>\n",
       "      <td>0.62</td>\n",
       "    </tr>\n",
       "    <tr>\n",
       "      <th>12060</th>\n",
       "      <td>improve</td>\n",
       "      <td>1.64</td>\n",
       "      <td>1.62</td>\n",
       "      <td>0.62</td>\n",
       "    </tr>\n",
       "    <tr>\n",
       "      <th>17000</th>\n",
       "      <td>nt</td>\n",
       "      <td>1.63</td>\n",
       "      <td>1.52</td>\n",
       "      <td>0.66</td>\n",
       "    </tr>\n",
       "    <tr>\n",
       "      <th>4718</th>\n",
       "      <td>center</td>\n",
       "      <td>1.63</td>\n",
       "      <td>1.59</td>\n",
       "      <td>0.63</td>\n",
       "    </tr>\n",
       "    <tr>\n",
       "      <th>21688</th>\n",
       "      <td>said said</td>\n",
       "      <td>1.62</td>\n",
       "      <td>1.51</td>\n",
       "      <td>0.66</td>\n",
       "    </tr>\n",
       "    <tr>\n",
       "      <th>24392</th>\n",
       "      <td>stock</td>\n",
       "      <td>1.58</td>\n",
       "      <td>1.45</td>\n",
       "      <td>0.69</td>\n",
       "    </tr>\n",
       "    <tr>\n",
       "      <th>17249</th>\n",
       "      <td>official</td>\n",
       "      <td>1.58</td>\n",
       "      <td>1.68</td>\n",
       "      <td>0.60</td>\n",
       "    </tr>\n",
       "    <tr>\n",
       "      <th>563</th>\n",
       "      <td>2013</td>\n",
       "      <td>1.56</td>\n",
       "      <td>1.61</td>\n",
       "      <td>0.62</td>\n",
       "    </tr>\n",
       "    <tr>\n",
       "      <th>23168</th>\n",
       "      <td>singapore dollars</td>\n",
       "      <td>1.55</td>\n",
       "      <td>1.63</td>\n",
       "      <td>0.61</td>\n",
       "    </tr>\n",
       "    <tr>\n",
       "      <th>17259</th>\n",
       "      <td>officials</td>\n",
       "      <td>1.52</td>\n",
       "      <td>1.56</td>\n",
       "      <td>0.64</td>\n",
       "    </tr>\n",
       "    <tr>\n",
       "      <th>11256</th>\n",
       "      <td>health</td>\n",
       "      <td>1.49</td>\n",
       "      <td>1.21</td>\n",
       "      <td>0.82</td>\n",
       "    </tr>\n",
       "    <tr>\n",
       "      <th>26371</th>\n",
       "      <td>uk</td>\n",
       "      <td>1.47</td>\n",
       "      <td>1.43</td>\n",
       "      <td>0.70</td>\n",
       "    </tr>\n",
       "    <tr>\n",
       "      <th>3105</th>\n",
       "      <td>aware</td>\n",
       "      <td>1.47</td>\n",
       "      <td>1.67</td>\n",
       "      <td>0.60</td>\n",
       "    </tr>\n",
       "    <tr>\n",
       "      <th>22517</th>\n",
       "      <td>services</td>\n",
       "      <td>1.46</td>\n",
       "      <td>1.33</td>\n",
       "      <td>0.75</td>\n",
       "    </tr>\n",
       "    <tr>\n",
       "      <th>20926</th>\n",
       "      <td>richard</td>\n",
       "      <td>1.44</td>\n",
       "      <td>1.54</td>\n",
       "      <td>0.65</td>\n",
       "    </tr>\n",
       "    <tr>\n",
       "      <th>20782</th>\n",
       "      <td>result</td>\n",
       "      <td>1.44</td>\n",
       "      <td>1.55</td>\n",
       "      <td>0.65</td>\n",
       "    </tr>\n",
       "    <tr>\n",
       "      <th>23067</th>\n",
       "      <td>singapore based</td>\n",
       "      <td>1.40</td>\n",
       "      <td>1.73</td>\n",
       "      <td>0.58</td>\n",
       "    </tr>\n",
       "    <tr>\n",
       "      <th>5243</th>\n",
       "      <td>city</td>\n",
       "      <td>1.37</td>\n",
       "      <td>1.36</td>\n",
       "      <td>0.74</td>\n",
       "    </tr>\n",
       "    <tr>\n",
       "      <th>542</th>\n",
       "      <td>2009</td>\n",
       "      <td>1.37</td>\n",
       "      <td>1.50</td>\n",
       "      <td>0.67</td>\n",
       "    </tr>\n",
       "    <tr>\n",
       "      <th>581</th>\n",
       "      <td>2015</td>\n",
       "      <td>1.36</td>\n",
       "      <td>1.39</td>\n",
       "      <td>0.72</td>\n",
       "    </tr>\n",
       "    <tr>\n",
       "      <th>8121</th>\n",
       "      <td>driver</td>\n",
       "      <td>1.36</td>\n",
       "      <td>1.61</td>\n",
       "      <td>0.62</td>\n",
       "    </tr>\n",
       "    <tr>\n",
       "      <th>23872</th>\n",
       "      <td>sold</td>\n",
       "      <td>1.36</td>\n",
       "      <td>1.50</td>\n",
       "      <td>0.67</td>\n",
       "    </tr>\n",
       "    <tr>\n",
       "      <th>23513</th>\n",
       "      <td>singapore stock</td>\n",
       "      <td>1.35</td>\n",
       "      <td>1.61</td>\n",
       "      <td>0.62</td>\n",
       "    </tr>\n",
       "    <tr>\n",
       "      <th>19106</th>\n",
       "      <td>problems</td>\n",
       "      <td>1.34</td>\n",
       "      <td>1.62</td>\n",
       "      <td>0.62</td>\n",
       "    </tr>\n",
       "    <tr>\n",
       "      <th>1805</th>\n",
       "      <td>additional</td>\n",
       "      <td>1.34</td>\n",
       "      <td>1.30</td>\n",
       "      <td>0.77</td>\n",
       "    </tr>\n",
       "    <tr>\n",
       "      <th>6905</th>\n",
       "      <td>datuk</td>\n",
       "      <td>1.33</td>\n",
       "      <td>1.48</td>\n",
       "      <td>0.68</td>\n",
       "    </tr>\n",
       "    <tr>\n",
       "      <th>5907</th>\n",
       "      <td>computer</td>\n",
       "      <td>1.33</td>\n",
       "      <td>1.35</td>\n",
       "      <td>0.74</td>\n",
       "    </tr>\n",
       "    <tr>\n",
       "      <th>13724</th>\n",
       "      <td>large</td>\n",
       "      <td>1.32</td>\n",
       "      <td>1.32</td>\n",
       "      <td>0.76</td>\n",
       "    </tr>\n",
       "    <tr>\n",
       "      <th>8352</th>\n",
       "      <td>economy</td>\n",
       "      <td>1.32</td>\n",
       "      <td>1.38</td>\n",
       "      <td>0.73</td>\n",
       "    </tr>\n",
       "  </tbody>\n",
       "</table>\n",
       "</div>"
      ],
      "text/plain": [
       "                features  coef  is_fake_odds_ratio  is_real_odds_ratio\n",
       "1895       advertisement  4.29                3.83                0.26\n",
       "21941               says  3.41                1.90                0.53\n",
       "19918               read  3.39                3.27                0.31\n",
       "19207            program  2.82                2.31                0.43\n",
       "10664         government  2.72                1.53                0.65\n",
       "6461             country  2.69                2.24                0.45\n",
       "18163            percent  2.65                2.42                0.41\n",
       "7312          department  2.28                2.07                0.48\n",
       "12127          including  2.26                1.62                0.62\n",
       "17013             number  1.99                1.48                0.68\n",
       "5707             company  1.98                1.35                0.74\n",
       "1573           according  1.97                1.37                0.73\n",
       "7708    director general  1.95                1.93                0.52\n",
       "12766      investigation  1.88                1.58                0.63\n",
       "11340            hearing  1.86                1.87                0.53\n",
       "8756              ensure  1.84                1.74                0.58\n",
       "557                 2012  1.82                1.68                0.59\n",
       "14673              major  1.79                1.74                0.57\n",
       "6914               david  1.76                1.71                0.59\n",
       "1803            addition  1.70                1.93                0.52\n",
       "2472           apartment  1.67                1.66                0.60\n",
       "18411           planning  1.64                1.63                0.62\n",
       "12060            improve  1.64                1.62                0.62\n",
       "17000                 nt  1.63                1.52                0.66\n",
       "4718              center  1.63                1.59                0.63\n",
       "21688          said said  1.62                1.51                0.66\n",
       "24392              stock  1.58                1.45                0.69\n",
       "17249           official  1.58                1.68                0.60\n",
       "563                 2013  1.56                1.61                0.62\n",
       "23168  singapore dollars  1.55                1.63                0.61\n",
       "17259          officials  1.52                1.56                0.64\n",
       "11256             health  1.49                1.21                0.82\n",
       "26371                 uk  1.47                1.43                0.70\n",
       "3105               aware  1.47                1.67                0.60\n",
       "22517           services  1.46                1.33                0.75\n",
       "20926            richard  1.44                1.54                0.65\n",
       "20782             result  1.44                1.55                0.65\n",
       "23067    singapore based  1.40                1.73                0.58\n",
       "5243                city  1.37                1.36                0.74\n",
       "542                 2009  1.37                1.50                0.67\n",
       "581                 2015  1.36                1.39                0.72\n",
       "8121              driver  1.36                1.61                0.62\n",
       "23872               sold  1.36                1.50                0.67\n",
       "23513    singapore stock  1.35                1.61                0.62\n",
       "19106           problems  1.34                1.62                0.62\n",
       "1805          additional  1.34                1.30                0.77\n",
       "6905               datuk  1.33                1.48                0.68\n",
       "5907            computer  1.33                1.35                0.74\n",
       "13724              large  1.32                1.32                0.76\n",
       "8352             economy  1.32                1.38                0.73"
      ]
     },
     "execution_count": 53,
     "metadata": {},
     "output_type": "execute_result"
    }
   ],
   "source": [
    "feature_importance = pd.DataFrame(models[4].named_steps.cvec.get_feature_names(), columns= ['features'])\n",
    "feature_importance['coef'] = np.round(models[4].named_steps.svm.coef_.todense().reshape(-1,1), 2)\n",
    "feature_importance['is_fake_odds_ratio'] = np.round(np.exp(models[1].named_steps.logr.coef_[0]), 2)\n",
    "feature_importance['is_real_odds_ratio'] = np.round(1/np.exp(models[1].named_steps.logr.coef_[0]), 2)\n",
    "feature_importance.sort_values('coef', ascending= False)[:50]"
   ]
  },
  {
   "cell_type": "code",
   "execution_count": 54,
   "metadata": {},
   "outputs": [
    {
     "data": {
      "text/html": [
       "<div>\n",
       "<style scoped>\n",
       "    .dataframe tbody tr th:only-of-type {\n",
       "        vertical-align: middle;\n",
       "    }\n",
       "\n",
       "    .dataframe tbody tr th {\n",
       "        vertical-align: top;\n",
       "    }\n",
       "\n",
       "    .dataframe thead th {\n",
       "        text-align: right;\n",
       "    }\n",
       "</style>\n",
       "<table border=\"1\" class=\"dataframe\">\n",
       "  <thead>\n",
       "    <tr style=\"text-align: right;\">\n",
       "      <th></th>\n",
       "      <th>features</th>\n",
       "      <th>coef</th>\n",
       "      <th>is_fake_odds_ratio</th>\n",
       "      <th>is_real_odds_ratio</th>\n",
       "    </tr>\n",
       "  </thead>\n",
       "  <tbody>\n",
       "    <tr>\n",
       "      <th>1751</th>\n",
       "      <td>added</td>\n",
       "      <td>-5.80</td>\n",
       "      <td>0.35</td>\n",
       "      <td>2.86</td>\n",
       "    </tr>\n",
       "    <tr>\n",
       "      <th>16927</th>\n",
       "      <td>noted</td>\n",
       "      <td>-3.94</td>\n",
       "      <td>0.35</td>\n",
       "      <td>2.83</td>\n",
       "    </tr>\n",
       "    <tr>\n",
       "      <th>632</th>\n",
       "      <td>2018</td>\n",
       "      <td>-3.73</td>\n",
       "      <td>0.44</td>\n",
       "      <td>2.29</td>\n",
       "    </tr>\n",
       "    <tr>\n",
       "      <th>648</th>\n",
       "      <td>2019</td>\n",
       "      <td>-3.62</td>\n",
       "      <td>0.37</td>\n",
       "      <td>2.69</td>\n",
       "    </tr>\n",
       "    <tr>\n",
       "      <th>3661</th>\n",
       "      <td>bloomberg</td>\n",
       "      <td>-3.37</td>\n",
       "      <td>0.25</td>\n",
       "      <td>3.96</td>\n",
       "    </tr>\n",
       "    <tr>\n",
       "      <th>12776</th>\n",
       "      <td>investigations</td>\n",
       "      <td>-3.01</td>\n",
       "      <td>0.35</td>\n",
       "      <td>2.87</td>\n",
       "    </tr>\n",
       "    <tr>\n",
       "      <th>27690</th>\n",
       "      <td>year</td>\n",
       "      <td>-2.62</td>\n",
       "      <td>0.74</td>\n",
       "      <td>1.35</td>\n",
       "    </tr>\n",
       "    <tr>\n",
       "      <th>4508</th>\n",
       "      <td>cent</td>\n",
       "      <td>-2.62</td>\n",
       "      <td>0.77</td>\n",
       "      <td>1.30</td>\n",
       "    </tr>\n",
       "    <tr>\n",
       "      <th>19208</th>\n",
       "      <td>programme</td>\n",
       "      <td>-2.53</td>\n",
       "      <td>0.48</td>\n",
       "      <td>2.09</td>\n",
       "    </tr>\n",
       "    <tr>\n",
       "      <th>19161</th>\n",
       "      <td>prof</td>\n",
       "      <td>-2.49</td>\n",
       "      <td>0.51</td>\n",
       "      <td>1.95</td>\n",
       "    </tr>\n",
       "    <tr>\n",
       "      <th>20859</th>\n",
       "      <td>reuters</td>\n",
       "      <td>-2.44</td>\n",
       "      <td>0.37</td>\n",
       "      <td>2.70</td>\n",
       "    </tr>\n",
       "    <tr>\n",
       "      <th>12992</th>\n",
       "      <td>jailed</td>\n",
       "      <td>-2.30</td>\n",
       "      <td>0.47</td>\n",
       "      <td>2.14</td>\n",
       "    </tr>\n",
       "    <tr>\n",
       "      <th>26437</th>\n",
       "      <td>understands</td>\n",
       "      <td>-2.29</td>\n",
       "      <td>0.44</td>\n",
       "      <td>2.29</td>\n",
       "    </tr>\n",
       "    <tr>\n",
       "      <th>20584</th>\n",
       "      <td>republic</td>\n",
       "      <td>-2.19</td>\n",
       "      <td>0.51</td>\n",
       "      <td>1.96</td>\n",
       "    </tr>\n",
       "    <tr>\n",
       "      <th>7050</th>\n",
       "      <td>dec</td>\n",
       "      <td>-2.18</td>\n",
       "      <td>0.58</td>\n",
       "      <td>1.71</td>\n",
       "    </tr>\n",
       "    <tr>\n",
       "      <th>16150</th>\n",
       "      <td>mr</td>\n",
       "      <td>-2.15</td>\n",
       "      <td>0.82</td>\n",
       "      <td>1.22</td>\n",
       "    </tr>\n",
       "    <tr>\n",
       "      <th>12520</th>\n",
       "      <td>instance</td>\n",
       "      <td>-2.14</td>\n",
       "      <td>0.59</td>\n",
       "      <td>1.71</td>\n",
       "    </tr>\n",
       "    <tr>\n",
       "      <th>7364</th>\n",
       "      <td>deputy public</td>\n",
       "      <td>-2.10</td>\n",
       "      <td>0.50</td>\n",
       "      <td>1.99</td>\n",
       "    </tr>\n",
       "    <tr>\n",
       "      <th>13428</th>\n",
       "      <td>key</td>\n",
       "      <td>-2.04</td>\n",
       "      <td>0.60</td>\n",
       "      <td>1.68</td>\n",
       "    </tr>\n",
       "    <tr>\n",
       "      <th>8053</th>\n",
       "      <td>dpp</td>\n",
       "      <td>-2.01</td>\n",
       "      <td>0.55</td>\n",
       "      <td>1.81</td>\n",
       "    </tr>\n",
       "    <tr>\n",
       "      <th>25803</th>\n",
       "      <td>told today</td>\n",
       "      <td>-2.01</td>\n",
       "      <td>0.61</td>\n",
       "      <td>1.63</td>\n",
       "    </tr>\n",
       "    <tr>\n",
       "      <th>27559</th>\n",
       "      <td>works</td>\n",
       "      <td>-2.00</td>\n",
       "      <td>0.55</td>\n",
       "      <td>1.80</td>\n",
       "    </tr>\n",
       "    <tr>\n",
       "      <th>21569</th>\n",
       "      <td>said mr</td>\n",
       "      <td>-1.98</td>\n",
       "      <td>0.66</td>\n",
       "      <td>1.52</td>\n",
       "    </tr>\n",
       "    <tr>\n",
       "      <th>18586</th>\n",
       "      <td>police report</td>\n",
       "      <td>-1.97</td>\n",
       "      <td>0.53</td>\n",
       "      <td>1.88</td>\n",
       "    </tr>\n",
       "    <tr>\n",
       "      <th>15349</th>\n",
       "      <td>members public</td>\n",
       "      <td>-1.96</td>\n",
       "      <td>0.53</td>\n",
       "      <td>1.88</td>\n",
       "    </tr>\n",
       "    <tr>\n",
       "      <th>7872</th>\n",
       "      <td>district judge</td>\n",
       "      <td>-1.95</td>\n",
       "      <td>0.56</td>\n",
       "      <td>1.79</td>\n",
       "    </tr>\n",
       "    <tr>\n",
       "      <th>19715</th>\n",
       "      <td>queries</td>\n",
       "      <td>-1.95</td>\n",
       "      <td>0.49</td>\n",
       "      <td>2.03</td>\n",
       "    </tr>\n",
       "    <tr>\n",
       "      <th>13782</th>\n",
       "      <td>later</td>\n",
       "      <td>-1.94</td>\n",
       "      <td>0.60</td>\n",
       "      <td>1.65</td>\n",
       "    </tr>\n",
       "    <tr>\n",
       "      <th>13011</th>\n",
       "      <td>jan</td>\n",
       "      <td>-1.92</td>\n",
       "      <td>0.55</td>\n",
       "      <td>1.82</td>\n",
       "    </tr>\n",
       "    <tr>\n",
       "      <th>23891</th>\n",
       "      <td>solutions</td>\n",
       "      <td>-1.91</td>\n",
       "      <td>0.55</td>\n",
       "      <td>1.82</td>\n",
       "    </tr>\n",
       "    <tr>\n",
       "      <th>22428</th>\n",
       "      <td>separately</td>\n",
       "      <td>-1.88</td>\n",
       "      <td>0.59</td>\n",
       "      <td>1.70</td>\n",
       "    </tr>\n",
       "    <tr>\n",
       "      <th>12526</th>\n",
       "      <td>instead</td>\n",
       "      <td>-1.81</td>\n",
       "      <td>0.65</td>\n",
       "      <td>1.55</td>\n",
       "    </tr>\n",
       "    <tr>\n",
       "      <th>19219</th>\n",
       "      <td>programmes</td>\n",
       "      <td>-1.81</td>\n",
       "      <td>0.59</td>\n",
       "      <td>1.69</td>\n",
       "    </tr>\n",
       "    <tr>\n",
       "      <th>9770</th>\n",
       "      <td>fined</td>\n",
       "      <td>-1.80</td>\n",
       "      <td>0.59</td>\n",
       "      <td>1.70</td>\n",
       "    </tr>\n",
       "    <tr>\n",
       "      <th>2739</th>\n",
       "      <td>asia</td>\n",
       "      <td>-1.79</td>\n",
       "      <td>0.71</td>\n",
       "      <td>1.41</td>\n",
       "    </tr>\n",
       "    <tr>\n",
       "      <th>9107</th>\n",
       "      <td>exercise</td>\n",
       "      <td>-1.79</td>\n",
       "      <td>0.66</td>\n",
       "      <td>1.51</td>\n",
       "    </tr>\n",
       "    <tr>\n",
       "      <th>4746</th>\n",
       "      <td>cents</td>\n",
       "      <td>-1.79</td>\n",
       "      <td>0.56</td>\n",
       "      <td>1.78</td>\n",
       "    </tr>\n",
       "    <tr>\n",
       "      <th>9846</th>\n",
       "      <td>flat</td>\n",
       "      <td>-1.76</td>\n",
       "      <td>0.57</td>\n",
       "      <td>1.76</td>\n",
       "    </tr>\n",
       "    <tr>\n",
       "      <th>27953</th>\n",
       "      <td>years fined</td>\n",
       "      <td>-1.73</td>\n",
       "      <td>0.57</td>\n",
       "      <td>1.75</td>\n",
       "    </tr>\n",
       "    <tr>\n",
       "      <th>16109</th>\n",
       "      <td>motorists</td>\n",
       "      <td>-1.70</td>\n",
       "      <td>0.60</td>\n",
       "      <td>1.68</td>\n",
       "    </tr>\n",
       "    <tr>\n",
       "      <th>15760</th>\n",
       "      <td>minute</td>\n",
       "      <td>-1.68</td>\n",
       "      <td>0.67</td>\n",
       "      <td>1.49</td>\n",
       "    </tr>\n",
       "    <tr>\n",
       "      <th>15903</th>\n",
       "      <td>monday</td>\n",
       "      <td>-1.67</td>\n",
       "      <td>0.60</td>\n",
       "      <td>1.67</td>\n",
       "    </tr>\n",
       "    <tr>\n",
       "      <th>19117</th>\n",
       "      <td>proceeds</td>\n",
       "      <td>-1.66</td>\n",
       "      <td>0.54</td>\n",
       "      <td>1.84</td>\n",
       "    </tr>\n",
       "    <tr>\n",
       "      <th>17134</th>\n",
       "      <td>oct</td>\n",
       "      <td>-1.65</td>\n",
       "      <td>0.59</td>\n",
       "      <td>1.68</td>\n",
       "    </tr>\n",
       "    <tr>\n",
       "      <th>26360</th>\n",
       "      <td>typically</td>\n",
       "      <td>-1.64</td>\n",
       "      <td>0.60</td>\n",
       "      <td>1.67</td>\n",
       "    </tr>\n",
       "    <tr>\n",
       "      <th>4862</th>\n",
       "      <td>channel</td>\n",
       "      <td>-1.64</td>\n",
       "      <td>0.47</td>\n",
       "      <td>2.15</td>\n",
       "    </tr>\n",
       "    <tr>\n",
       "      <th>23950</th>\n",
       "      <td>south east</td>\n",
       "      <td>-1.64</td>\n",
       "      <td>0.61</td>\n",
       "      <td>1.63</td>\n",
       "    </tr>\n",
       "    <tr>\n",
       "      <th>2471</th>\n",
       "      <td>apart</td>\n",
       "      <td>-1.61</td>\n",
       "      <td>0.57</td>\n",
       "      <td>1.75</td>\n",
       "    </tr>\n",
       "    <tr>\n",
       "      <th>13001</th>\n",
       "      <td>jailed years</td>\n",
       "      <td>-1.60</td>\n",
       "      <td>0.56</td>\n",
       "      <td>1.79</td>\n",
       "    </tr>\n",
       "    <tr>\n",
       "      <th>21571</th>\n",
       "      <td>said ms</td>\n",
       "      <td>-1.59</td>\n",
       "      <td>0.79</td>\n",
       "      <td>1.26</td>\n",
       "    </tr>\n",
       "  </tbody>\n",
       "</table>\n",
       "</div>"
      ],
      "text/plain": [
       "             features  coef  is_fake_odds_ratio  is_real_odds_ratio\n",
       "1751            added -5.80                0.35                2.86\n",
       "16927           noted -3.94                0.35                2.83\n",
       "632              2018 -3.73                0.44                2.29\n",
       "648              2019 -3.62                0.37                2.69\n",
       "3661        bloomberg -3.37                0.25                3.96\n",
       "12776  investigations -3.01                0.35                2.87\n",
       "27690            year -2.62                0.74                1.35\n",
       "4508             cent -2.62                0.77                1.30\n",
       "19208       programme -2.53                0.48                2.09\n",
       "19161            prof -2.49                0.51                1.95\n",
       "20859         reuters -2.44                0.37                2.70\n",
       "12992          jailed -2.30                0.47                2.14\n",
       "26437     understands -2.29                0.44                2.29\n",
       "20584        republic -2.19                0.51                1.96\n",
       "7050              dec -2.18                0.58                1.71\n",
       "16150              mr -2.15                0.82                1.22\n",
       "12520        instance -2.14                0.59                1.71\n",
       "7364    deputy public -2.10                0.50                1.99\n",
       "13428             key -2.04                0.60                1.68\n",
       "8053              dpp -2.01                0.55                1.81\n",
       "25803      told today -2.01                0.61                1.63\n",
       "27559           works -2.00                0.55                1.80\n",
       "21569         said mr -1.98                0.66                1.52\n",
       "18586   police report -1.97                0.53                1.88\n",
       "15349  members public -1.96                0.53                1.88\n",
       "7872   district judge -1.95                0.56                1.79\n",
       "19715         queries -1.95                0.49                2.03\n",
       "13782           later -1.94                0.60                1.65\n",
       "13011             jan -1.92                0.55                1.82\n",
       "23891       solutions -1.91                0.55                1.82\n",
       "22428      separately -1.88                0.59                1.70\n",
       "12526         instead -1.81                0.65                1.55\n",
       "19219      programmes -1.81                0.59                1.69\n",
       "9770            fined -1.80                0.59                1.70\n",
       "2739             asia -1.79                0.71                1.41\n",
       "9107         exercise -1.79                0.66                1.51\n",
       "4746            cents -1.79                0.56                1.78\n",
       "9846             flat -1.76                0.57                1.76\n",
       "27953     years fined -1.73                0.57                1.75\n",
       "16109       motorists -1.70                0.60                1.68\n",
       "15760          minute -1.68                0.67                1.49\n",
       "15903          monday -1.67                0.60                1.67\n",
       "19117        proceeds -1.66                0.54                1.84\n",
       "17134             oct -1.65                0.59                1.68\n",
       "26360       typically -1.64                0.60                1.67\n",
       "4862          channel -1.64                0.47                2.15\n",
       "23950      south east -1.64                0.61                1.63\n",
       "2471            apart -1.61                0.57                1.75\n",
       "13001    jailed years -1.60                0.56                1.79\n",
       "21571         said ms -1.59                0.79                1.26"
      ]
     },
     "execution_count": 54,
     "metadata": {},
     "output_type": "execute_result"
    }
   ],
   "source": [
    "feature_importance.sort_values('coef', ascending= True)[:50]"
   ]
  },
  {
   "cell_type": "code",
   "execution_count": 55,
   "metadata": {},
   "outputs": [
    {
     "data": {
      "text/plain": [
       "array([0.76226169])"
      ]
     },
     "execution_count": 55,
     "metadata": {},
     "output_type": "execute_result"
    }
   ],
   "source": [
    "sentence = \"North korea is testing out missiles on americans living overseas.\"\n",
    "\n",
    "models[4].predict_proba([sentence])[:,1]"
   ]
  },
  {
   "cell_type": "code",
   "execution_count": 56,
   "metadata": {},
   "outputs": [
    {
     "data": {
      "text/plain": [
       "array([0.52180388])"
      ]
     },
     "execution_count": 56,
     "metadata": {},
     "output_type": "execute_result"
    }
   ],
   "source": [
    "sentence = \"The chemicals in the water is turning the freaking frogs gay.\"\n",
    "\n",
    "models[4].predict_proba([sentence])[:,1]"
   ]
  },
  {
   "cell_type": "code",
   "execution_count": 57,
   "metadata": {},
   "outputs": [
    {
     "data": {
      "text/plain": [
       "array([0.99998518])"
      ]
     },
     "execution_count": 57,
     "metadata": {},
     "output_type": "execute_result"
    }
   ],
   "source": [
    "sentence = \"Lee Hsien Loong is the greatest Prime Minister of all time period.\"\n",
    "\n",
    "models[4].predict_proba([sentence])[:,1]"
   ]
  },
  {
   "cell_type": "code",
   "execution_count": 58,
   "metadata": {},
   "outputs": [
    {
     "data": {
      "text/plain": [
       "array([1.0000001e-07])"
      ]
     },
     "execution_count": 58,
     "metadata": {},
     "output_type": "execute_result"
    }
   ],
   "source": [
    "sentence = \"added noted 2018 2019 bloomberg investigations year\"\n",
    "\n",
    "models[4].predict_proba([sentence])[:,1]"
   ]
  },
  {
   "cell_type": "code",
   "execution_count": 59,
   "metadata": {},
   "outputs": [
    {
     "data": {
      "text/plain": [
       "array([1.])"
      ]
     },
     "execution_count": 59,
     "metadata": {},
     "output_type": "execute_result"
    }
   ],
   "source": [
    "sentence = \"advertisment says read program government country percent\"\n",
    "\n",
    "models[4].predict_proba([sentence])[:,1]"
   ]
  },
  {
   "cell_type": "code",
   "execution_count": 60,
   "metadata": {},
   "outputs": [
    {
     "data": {
      "text/plain": [
       "array([0.96250626])"
      ]
     },
     "execution_count": 60,
     "metadata": {},
     "output_type": "execute_result"
    }
   ],
   "source": [
    "sentence = \"In 2017, Lee Hsien Loong said he would be stepping down as Prime Minister as he wanted to focus his time \\\n",
    "            to be the best Pokemon Master, like no one ever was.\"\n",
    "\n",
    "models[4].predict_proba([sentence])[:,1]"
   ]
  },
  {
   "cell_type": "code",
   "execution_count": 61,
   "metadata": {},
   "outputs": [
    {
     "data": {
      "text/plain": [
       "array([0.0173257])"
      ]
     },
     "execution_count": 61,
     "metadata": {},
     "output_type": "execute_result"
    }
   ],
   "source": [
    "sentence = \"In 2018, Lee Hsien Loong added that he would be stepping down as Prime Minister as he wanted to focus his time \\\n",
    "            to be the best Pokemon Master, like no one ever was.\"\n",
    "\n",
    "models[4].predict_proba([sentence])[:,1]"
   ]
  },
  {
   "cell_type": "markdown",
   "metadata": {},
   "source": [
    "# Visualisation on Class Prediction Error"
   ]
  },
  {
   "cell_type": "code",
   "execution_count": 62,
   "metadata": {},
   "outputs": [
    {
     "data": {
      "image/png": "[encoded data removed]",
      "text/plain": [
       "<Figure size 800x350 with 1 Axes>"
      ]
     },
     "metadata": {},
     "output_type": "display_data"
    }
   ],
   "source": [
    "from yellowbrick.classifier import ClassPredictionError\n",
    "\n",
    "# Instantiate the classification model and visualizer\n",
    "visualizer = ClassPredictionError(\\\n",
    "    Pipeline([('cvec', CountVectorizer(encoding= 'utf-8', stop_words= 'english', strip_accents= 'unicode', \n",
    "                                       lowercase= True, ngram_range= (1,2), min_df = 0.001, max_df = 0.8)), \n",
    "              ('tf', TfidfTransformer()), \n",
    "              ('svm', SVC(kernel = 'linear', probability= True, random_state = 42))]),\n",
    "             classes= [\"Real News\", \"Fake News\"], size = (800, 350))\n",
    "              \n",
    "              \n",
    "#               ('logr', LogisticRegression(penalty = 'l2', random_state = 42))]), \n",
    "#                                   classes= [\"Real News\", \"Fake News\"], size = (800, 350)    \n",
    "\n",
    "\n",
    "# Fit the training data to the visualizer\n",
    "visualizer.fit(X_train, y_train)\n",
    "                               \n",
    "# Evaluate the model on the test data\n",
    "visualizer.score(X_test, y_test)\n",
    "\n",
    "# Draw visualization\n",
    "g = visualizer.poof()"
   ]
  },
  {
   "cell_type": "markdown",
   "metadata": {},
   "source": [
    "# Visualise Misclass Category"
   ]
  },
  {
   "cell_type": "code",
   "execution_count": 63,
   "metadata": {},
   "outputs": [],
   "source": [
    "index_test = list(X_test.index)\n",
    "test_df = data.loc[index_test, :]\n",
    "test_df['predict'] = list(models_results[4]['predict'])"
   ]
  },
  {
   "cell_type": "code",
   "execution_count": 64,
   "metadata": {},
   "outputs": [],
   "source": [
    "predict_correct = []\n",
    "for index in list(test_df.index):\n",
    "    if test_df.loc[index, 'is_fake'] == test_df.loc[index, 'predict']:\n",
    "        predict_correct.append(1)\n",
    "    else:\n",
    "        predict_correct.append(0)\n",
    "\n",
    "test_df['predict_correct'] = predict_correct\n",
    "test_df['predict_wrong'] = [1 if i == 0 else 0 for i in test_df['predict_correct']]"
   ]
  },
  {
   "cell_type": "code",
   "execution_count": 65,
   "metadata": {},
   "outputs": [],
   "source": [
    "category_misclass = test_df.groupby(['category']).sum().reset_index()[['category', 'predict_correct', 'predict_wrong']]\n",
    "category_misclass['total_count'] = category_misclass['predict_correct'] + category_misclass['predict_wrong']\n",
    "category_misclass['predict_correct'] = category_misclass['predict_correct'] / category_misclass['total_count']\n",
    "category_misclass['predict_wrong'] = category_misclass['predict_wrong'] / category_misclass['total_count']"
   ]
  },
  {
   "cell_type": "code",
   "execution_count": 66,
   "metadata": {},
   "outputs": [
    {
     "data": {
      "text/html": [
       "<div>\n",
       "<style scoped>\n",
       "    .dataframe tbody tr th:only-of-type {\n",
       "        vertical-align: middle;\n",
       "    }\n",
       "\n",
       "    .dataframe tbody tr th {\n",
       "        vertical-align: top;\n",
       "    }\n",
       "\n",
       "    .dataframe thead th {\n",
       "        text-align: right;\n",
       "    }\n",
       "</style>\n",
       "<table border=\"1\" class=\"dataframe\">\n",
       "  <thead>\n",
       "    <tr style=\"text-align: right;\">\n",
       "      <th></th>\n",
       "      <th>category</th>\n",
       "      <th>predict_correct</th>\n",
       "      <th>predict_wrong</th>\n",
       "      <th>total_count</th>\n",
       "    </tr>\n",
       "  </thead>\n",
       "  <tbody>\n",
       "    <tr>\n",
       "      <th>0</th>\n",
       "      <td>business</td>\n",
       "      <td>0.931700</td>\n",
       "      <td>0.068300</td>\n",
       "      <td>1918</td>\n",
       "    </tr>\n",
       "    <tr>\n",
       "      <th>1</th>\n",
       "      <td>courts-crime</td>\n",
       "      <td>0.955963</td>\n",
       "      <td>0.044037</td>\n",
       "      <td>1090</td>\n",
       "    </tr>\n",
       "    <tr>\n",
       "      <th>2</th>\n",
       "      <td>education</td>\n",
       "      <td>0.933594</td>\n",
       "      <td>0.066406</td>\n",
       "      <td>256</td>\n",
       "    </tr>\n",
       "    <tr>\n",
       "      <th>3</th>\n",
       "      <td>environment</td>\n",
       "      <td>0.979730</td>\n",
       "      <td>0.020270</td>\n",
       "      <td>148</td>\n",
       "    </tr>\n",
       "    <tr>\n",
       "      <th>4</th>\n",
       "      <td>health</td>\n",
       "      <td>0.956790</td>\n",
       "      <td>0.043210</td>\n",
       "      <td>324</td>\n",
       "    </tr>\n",
       "  </tbody>\n",
       "</table>\n",
       "</div>"
      ],
      "text/plain": [
       "       category  predict_correct  predict_wrong  total_count\n",
       "0      business         0.931700       0.068300         1918\n",
       "1  courts-crime         0.955963       0.044037         1090\n",
       "2     education         0.933594       0.066406          256\n",
       "3   environment         0.979730       0.020270          148\n",
       "4        health         0.956790       0.043210          324"
      ]
     },
     "execution_count": 66,
     "metadata": {},
     "output_type": "execute_result"
    }
   ],
   "source": [
    "category_misclass.head()"
   ]
  },
  {
   "cell_type": "code",
   "execution_count": 67,
   "metadata": {},
   "outputs": [],
   "source": [
    "category_misclass = category_misclass[['category', 'predict_correct', 'predict_wrong']]"
   ]
  },
  {
   "cell_type": "code",
   "execution_count": 68,
   "metadata": {},
   "outputs": [
    {
     "data": {
      "text/plain": [
       "<Figure size 1080x720 with 0 Axes>"
      ]
     },
     "metadata": {},
     "output_type": "display_data"
    },
    {
     "data": {
      "image/png": "[encoded data removed]",
      "text/plain": [
       "<Figure size 1080x288 with 1 Axes>"
      ]
     },
     "metadata": {},
     "output_type": "display_data"
    }
   ],
   "source": [
    "colors_list = ['#5cb85c','#d9534f']\n",
    "\n",
    "plt.figure(figsize= (15,10))\n",
    "\n",
    "# Change this line to plot percentages instead of absolute values\n",
    "ax = category_misclass.plot(kind='bar',figsize=(15,4), width = 0.8, color = colors_list, edgecolor=None)\n",
    "\n",
    "plt.legend(labels= ['predict_correct', 'predict_wrong'], fontsize= 14, bbox_to_anchor=(1,1), loc=\"lower right\")\n",
    "plt.title(\"Misclassification Rate Among Different News Categories\", fontsize= 16)\n",
    "\n",
    "plt.xticks(np.arange(len(category_misclass['category'])), category_misclass['category'], fontsize=14, \n",
    "           rotation='horizontal')\n",
    "\n",
    "for spine in plt.gca().spines.values():\n",
    "    spine.set_visible(False)\n",
    "plt.yticks([])\n",
    "\n",
    "# Add this loop to add the annotations\n",
    "for p in ax.patches:\n",
    "    width, height = p.get_width(), p.get_height()\n",
    "    x, y = p.get_xy() \n",
    "    ax.annotate('{:.0%}'.format(height), (x, y + height + 0.01))\n",
    "    \n",
    "plt.show()"
   ]
  },
  {
   "cell_type": "markdown",
   "metadata": {},
   "source": [
    "# Visualisation with Scattertext (too long to load)"
   ]
  },
  {
   "cell_type": "code",
   "execution_count": 69,
   "metadata": {},
   "outputs": [],
   "source": [
    "# import scattertext as st\n",
    "# import spacy\n",
    "# from pprint import pprint"
   ]
  },
  {
   "cell_type": "code",
   "execution_count": 70,
   "metadata": {},
   "outputs": [],
   "source": [
    "# data['is_fake_news'] = ['Fake' if i == 1 else 'Real' for i in data['is_fake']]"
   ]
  },
  {
   "cell_type": "code",
   "execution_count": 71,
   "metadata": {
    "code_folding": []
   },
   "outputs": [],
   "source": [
    "# nlp = spacy.load(\"en_core_web_sm\")\n",
    "# corpus = st.CorpusFromPandas(data, category_col='is_fake_news', text_col='news', nlp=nlp).build()"
   ]
  },
  {
   "cell_type": "code",
   "execution_count": 72,
   "metadata": {},
   "outputs": [],
   "source": [
    "# # Save processed corpus with pickle\n",
    "\n",
    "# with open(\"corpus.pckl\", \"wb\") as f:\n",
    "#     pickle.dump(corpus, f)"
   ]
  },
  {
   "cell_type": "code",
   "execution_count": 73,
   "metadata": {},
   "outputs": [],
   "source": [
    "# ## Load corpus with pickle\n",
    "\n",
    "# with open(\"corpus.pckl\", \"rb\") as f:\n",
    "#     corpus = pickle.load(f)"
   ]
  },
  {
   "cell_type": "code",
   "execution_count": 74,
   "metadata": {},
   "outputs": [],
   "source": [
    "#  print(list(corpus.get_scaled_f_scores_vs_background().index[:10]))"
   ]
  },
  {
   "cell_type": "code",
   "execution_count": 75,
   "metadata": {},
   "outputs": [],
   "source": [
    "# term_freq_df = corpus.get_term_freq_df()\n",
    "# term_freq_df['fake_news'] = corpus.get_scaled_f_scores('Fake')\n",
    "# pprint(list(term_freq_df.sort_values(by='fake_news', ascending=False).index[:10]))"
   ]
  },
  {
   "cell_type": "code",
   "execution_count": 76,
   "metadata": {},
   "outputs": [],
   "source": [
    "# term_freq_df['real_news'] = corpus.get_scaled_f_scores('Real')\n",
    "# pprint(list(term_freq_df.sort_values(by='real_news', ascending=False).index[:10]))"
   ]
  },
  {
   "cell_type": "code",
   "execution_count": 77,
   "metadata": {},
   "outputs": [],
   "source": [
    "# html = st.produce_scattertext_explorer(corpus, category='Real', category_name='Real News', \n",
    "#                                        not_category_name='Fake News', width_in_pixels=1000)\n",
    "# open(\"Fake News Text Visualisation.html\", 'wb').write(html.encode('utf-8'))"
   ]
  },
  {
   "cell_type": "markdown",
   "metadata": {},
   "source": [
    "# Word2Vec + SVM Classifier (ignore)"
   ]
  },
  {
   "cell_type": "code",
   "execution_count": 78,
   "metadata": {},
   "outputs": [],
   "source": [
    "# import gensim\n",
    "# import nltk\n",
    "# from nltk.corpus import stopwords\n",
    "# from gensim.models import Word2Vec"
   ]
  },
  {
   "cell_type": "code",
   "execution_count": 79,
   "metadata": {},
   "outputs": [],
   "source": [
    "# print(X_train.shape, y_train.shape)\n",
    "# print(X_test.shape, y_test.shape)"
   ]
  },
  {
   "cell_type": "code",
   "execution_count": 80,
   "metadata": {},
   "outputs": [],
   "source": [
    "# # Number of words\n",
    "\n",
    "# X.apply(lambda x: len(x.split(' '))).sum()"
   ]
  },
  {
   "cell_type": "code",
   "execution_count": 81,
   "metadata": {},
   "outputs": [],
   "source": [
    "# wv = gensim.models.KeyedVectors.load_word2vec_format(\"GoogleNews-vectors-negative300.bin.gz\", binary=True)"
   ]
  },
  {
   "cell_type": "code",
   "execution_count": 82,
   "metadata": {},
   "outputs": [],
   "source": [
    "# # Save word2vec model with pickle\n",
    "\n",
    "# with open(\"word2vec.pckl\", \"wb\") as f:\n",
    "#     pickle.dump(wv, f)"
   ]
  },
  {
   "cell_type": "code",
   "execution_count": 83,
   "metadata": {},
   "outputs": [],
   "source": [
    "# ## Load models and results with pickle\n",
    "\n",
    "# with open(\"word2vec.pckl\", \"rb\") as f:\n",
    "#     wv = pickle.load(f) "
   ]
  },
  {
   "cell_type": "code",
   "execution_count": 84,
   "metadata": {},
   "outputs": [],
   "source": [
    "# wv.init_sims(replace=True)"
   ]
  },
  {
   "cell_type": "code",
   "execution_count": 85,
   "metadata": {},
   "outputs": [],
   "source": [
    "# from itertools import islice\n",
    "# list(islice(wv.vocab, 13030, 13050))"
   ]
  },
  {
   "cell_type": "code",
   "execution_count": 86,
   "metadata": {},
   "outputs": [],
   "source": [
    "# def word_averaging(wv, words):\n",
    "#     all_words, mean = set(), []\n",
    "    \n",
    "#     for word in words:\n",
    "#         if isinstance(word, np.ndarray):\n",
    "#             mean.append(word)\n",
    "#         elif word in wv.vocab:\n",
    "#             mean.append(wv.syn0norm[wv.vocab[word].index])\n",
    "#             all_words.add(wv.vocab[word].index)\n",
    "\n",
    "#     if not mean:\n",
    "#         logging.warning(\"cannot compute similarity with no input %s\", words)\n",
    "#         # FIXME: remove these examples in pre-processing\n",
    "#         return np.zeros(wv.vector_size,)\n",
    "\n",
    "#     mean = gensim.matutils.unitvec(np.array(mean).mean(axis=0)).astype(np.float32)\n",
    "#     return mean\n",
    "\n",
    "# def  word_averaging_list(wv, text_list):\n",
    "#     return np.vstack([word_averaging(wv, post) for post in text_list ])"
   ]
  },
  {
   "cell_type": "code",
   "execution_count": 87,
   "metadata": {},
   "outputs": [],
   "source": [
    "# def w2v_tokenize_text(text):\n",
    "#     tokens = []\n",
    "#     for sent in nltk.sent_tokenize(text, language='english'):\n",
    "#         for word in nltk.word_tokenize(sent, language='english'):\n",
    "#             if len(word) < 2:\n",
    "#                 continue\n",
    "#             tokens.append(word)\n",
    "#     return tokens"
   ]
  },
  {
   "cell_type": "code",
   "execution_count": 88,
   "metadata": {},
   "outputs": [],
   "source": [
    "# data.head()"
   ]
  },
  {
   "cell_type": "code",
   "execution_count": 89,
   "metadata": {},
   "outputs": [],
   "source": [
    "# nltk.download('punkt')"
   ]
  },
  {
   "cell_type": "code",
   "execution_count": 90,
   "metadata": {},
   "outputs": [],
   "source": [
    "# train, test = train_test_split(data, test_size=0.33, random_state = 42)\n",
    "\n",
    "# test_tokenized = test.apply(lambda r: w2v_tokenize_text(r['news']), axis=1).values\n",
    "# train_tokenized = train.apply(lambda r: w2v_tokenize_text(r['news']), axis=1).values"
   ]
  },
  {
   "cell_type": "code",
   "execution_count": 91,
   "metadata": {},
   "outputs": [],
   "source": [
    "# X_train_word_average = word_averaging_list(wv, train_tokenized)\n",
    "# X_test_word_average = word_averaging_list(wv, test_tokenized)"
   ]
  },
  {
   "cell_type": "code",
   "execution_count": 92,
   "metadata": {},
   "outputs": [],
   "source": [
    "# svm = SVC(kernel = 'linear', probability= True, random_state= 42)\n",
    "# svm.fit(X_train_word_average, train['is_fake'])"
   ]
  },
  {
   "cell_type": "code",
   "execution_count": 93,
   "metadata": {},
   "outputs": [],
   "source": [
    "# predict = svm.predict(X_test_word_average)"
   ]
  },
  {
   "cell_type": "code",
   "execution_count": 94,
   "metadata": {},
   "outputs": [],
   "source": [
    "# print('accuracy %s' % accuracy_score(test.is_fake, predict))\n",
    "# print(classification_report(test.is_fake, predict))"
   ]
  },
  {
   "cell_type": "code",
   "execution_count": null,
   "metadata": {},
   "outputs": [],
   "source": []
  },
  {
   "cell_type": "markdown",
   "metadata": {},
   "source": [
    "# CountVectorizer + MLP (ignore)"
   ]
  },
  {
   "cell_type": "code",
   "execution_count": 95,
   "metadata": {},
   "outputs": [],
   "source": [
    "# print(X.shape)\n",
    "# print(y.shape)\n",
    "# print(X_train.shape, y_train.shape)\n",
    "# print(X_test.shape, y_test.shape)"
   ]
  },
  {
   "cell_type": "code",
   "execution_count": 96,
   "metadata": {},
   "outputs": [],
   "source": [
    "# cvec = CountVectorizer(encoding= 'utf-8', stop_words= 'english', strip_accents= 'unicode', lowercase= True, \n",
    "#                        ngram_range= (1,2), min_df = 0.001, max_df = 0.8)\n",
    "# cvec.fit(X)\n",
    "\n",
    "# X_train_cvec = cvec.transform(X_train)\n",
    "# X_test_cvec  = cvec.transform(X_test)"
   ]
  },
  {
   "cell_type": "code",
   "execution_count": 97,
   "metadata": {},
   "outputs": [],
   "source": [
    "# from keras.models import Sequential\n",
    "# from keras import layers\n",
    "# from keras.layers import Dropout\n",
    "# from keras.layers import LSTM"
   ]
  },
  {
   "cell_type": "code",
   "execution_count": 98,
   "metadata": {},
   "outputs": [],
   "source": [
    "# X_train_cvec_reshape.shape[2]"
   ]
  },
  {
   "cell_type": "code",
   "execution_count": 99,
   "metadata": {},
   "outputs": [],
   "source": [
    "# input_dim = X_train_cvec.shape[1]\n",
    "# model = Sequential()\n",
    "# model.add(LSTM(32, batch_input_shape=(1, 1, X_train_cvec.shape[1])))\n",
    "# # model.add(layers.Dense(10, input_dim=input_dim, activation='relu'))\n",
    "# model.add(layers.Dense(1, activation='sigmoid'))\n",
    "\n",
    "# model.compile(loss='binary_crossentropy', optimizer='adam', metrics=['accuracy'])\n",
    "# model.summary()"
   ]
  },
  {
   "cell_type": "code",
   "execution_count": 100,
   "metadata": {},
   "outputs": [],
   "source": [
    "# X_train_cvec_reshape = np.reshape(X_train_cvec, (X_train_cvec.shape[0], 1, X_train_cvec.shape[1]))\n",
    "# X_test_cvec_reshape = np.reshape(X_test_cvec, (X_test_cvec.shape[0], 1, X_test_cvec.shape[1]))"
   ]
  },
  {
   "cell_type": "code",
   "execution_count": 101,
   "metadata": {},
   "outputs": [],
   "source": [
    "# history = model.fit(X_train_cvec_reshape, y_train, epochs=100, validation_data=(X_test_cvec_reshape, y_test), \n",
    "#                     batch_size=10, verbose= 1)"
   ]
  },
  {
   "cell_type": "code",
   "execution_count": 102,
   "metadata": {},
   "outputs": [],
   "source": [
    "# loss, accuracy = model.evaluate(X_train_cvec, y_train, verbose=False)\n",
    "# print(\"Training Accuracy: {:.4f}\".format(accuracy))\n",
    "\n",
    "# loss, accuracy = model.evaluate(X_test_cvec, y_test, verbose=False)\n",
    "# print(\"Testing Accuracy:  {:.4f}\".format(accuracy))"
   ]
  },
  {
   "cell_type": "code",
   "execution_count": 103,
   "metadata": {},
   "outputs": [],
   "source": [
    "# print('Accuracy Score', accuracy_score(y_test, model.predict_classes(X_test_cvec)))\n",
    "# print('roc_auc Score', roc_auc_score(y_test, model.predict(X_test_cvec)))"
   ]
  },
  {
   "cell_type": "code",
   "execution_count": 104,
   "metadata": {},
   "outputs": [],
   "source": [
    "# plt.style.use('ggplot')\n",
    "\n",
    "# def plot_history(history):\n",
    "#     acc = history.history['acc']\n",
    "#     val_acc = history.history['val_acc']\n",
    "#     loss = history.history['loss']\n",
    "#     val_loss = history.history['val_loss']\n",
    "#     x = range(1, len(acc) + 1)\n",
    "\n",
    "#     plt.figure(figsize=(12, 5))\n",
    "#     plt.subplot(1, 2, 1)\n",
    "#     plt.plot(x, acc, 'b', label='Training acc')\n",
    "#     plt.plot(x, val_acc, 'r', label='Validation acc')\n",
    "#     plt.title('Training and validation accuracy')\n",
    "#     plt.legend()\n",
    "#     plt.subplot(1, 2, 2)\n",
    "#     plt.plot(x, loss, 'b', label='Training loss')\n",
    "#     plt.plot(x, val_loss, 'r', label='Validation loss')\n",
    "#     plt.title('Training and validation loss')\n",
    "#     plt.legend()"
   ]
  },
  {
   "cell_type": "code",
   "execution_count": 105,
   "metadata": {},
   "outputs": [],
   "source": [
    "# plot_history(history)"
   ]
  },
  {
   "cell_type": "code",
   "execution_count": null,
   "metadata": {},
   "outputs": [],
   "source": []
  },
  {
   "cell_type": "markdown",
   "metadata": {},
   "source": [
    "# GloVe + LSTM"
   ]
  },
  {
   "cell_type": "code",
   "execution_count": 106,
   "metadata": {},
   "outputs": [
    {
     "name": "stderr",
     "output_type": "stream",
     "text": [
      "Using TensorFlow backend.\n"
     ]
    }
   ],
   "source": [
    "import pandas as pd\n",
    "import numpy as np\n",
    "import matplotlib.pyplot as plt\n",
    "\n",
    "import re\n",
    "\n",
    "from keras.models import Sequential\n",
    "from keras.layers import Activation, Dropout, Flatten, Dense, BatchNormalization, LSTM, Embedding, Reshape\n",
    "from keras.models import load_model, model_from_json\n",
    "\n",
    "from sklearn.model_selection import train_test_split\n",
    "\n",
    "import os\n",
    "import urllib\n",
    "\n",
    "from urllib.request import urlretrieve\n",
    "\n",
    "from os import mkdir, makedirs, remove, listdir\n",
    "\n",
    "from collections import Counter\n",
    "\n",
    "# from utilities import *"
   ]
  },
  {
   "cell_type": "code",
   "execution_count": 107,
   "metadata": {},
   "outputs": [],
   "source": [
    "# file = './data/glove.6B.zip'\n",
    "# url = 'http://nlp.stanford.edu/data/glove.6B.zip'\n",
    "# downloadData(file, url)\n",
    "\n",
    "with open('./glove.6B.50d.txt','rb') as f:\n",
    "    lines = f.readlines()\n",
    "    \n",
    "glove_weights = np.zeros((len(lines), 50))\n",
    "words = []\n",
    "for i, line in enumerate(lines):\n",
    "    word_weights = line.split()\n",
    "    words.append(word_weights[0])\n",
    "    weight = word_weights[1:]\n",
    "    glove_weights[i] = np.array([float(w) for w in weight])\n",
    "word_vocab = [w.decode(\"utf-8\") for w in words]\n",
    "\n",
    "word2glove = dict(zip(word_vocab, glove_weights))"
   ]
  },
  {
   "cell_type": "code",
   "execution_count": 108,
   "metadata": {},
   "outputs": [],
   "source": [
    "# !pip install tqdm\n",
    "# # !conda install -y Pillow"
   ]
  },
  {
   "cell_type": "code",
   "execution_count": 109,
   "metadata": {},
   "outputs": [
    {
     "data": {
      "text/plain": [
       "array([ 0.18102 , -0.025347, -0.20911 ,  1.2698  ,  0.39942 , -0.99438 ,\n",
       "        0.13409 , -0.72971 ,  0.4287  ,  0.076042,  0.75905 ,  0.22376 ,\n",
       "        0.2026  ,  0.12141 ,  0.19414 ,  0.64833 , -0.6344  ,  0.18096 ,\n",
       "       -0.65794 ,  0.84872 ,  1.4894  ,  0.47705 , -0.15498 , -0.33887 ,\n",
       "        0.086858, -1.2096  ,  1.0729  , -0.43666 , -1.17    ,  0.39485 ,\n",
       "        2.6697  ,  0.74892 ,  0.86961 ,  0.60402 ,  0.070814, -0.86101 ,\n",
       "       -0.12432 , -0.15498 , -0.54342 , -0.35908 , -0.68323 , -0.11932 ,\n",
       "        1.2339  , -0.28552 ,  0.39198 , -0.18383 , -0.59499 , -0.12132 ,\n",
       "        1.1343  , -0.43181 ])"
      ]
     },
     "execution_count": 109,
     "metadata": {},
     "output_type": "execute_result"
    }
   ],
   "source": [
    "word2glove['singapore']"
   ]
  },
  {
   "cell_type": "markdown",
   "metadata": {},
   "source": [
    "Preprocessing steps: lower case, remove urls, some punctuations etc."
   ]
  },
  {
   "cell_type": "code",
   "execution_count": 110,
   "metadata": {},
   "outputs": [],
   "source": [
    "from keras.engine.topology import Layer\n",
    "import keras.backend as K\n",
    "from keras import initializers\n",
    "import numpy as np\n",
    "\n",
    "class Embedding2(Layer):\n",
    "\n",
    "    def __init__(self, input_dim, output_dim, fixed_weights, embeddings_initializer='uniform', \n",
    "                 input_length=None, **kwargs):\n",
    "        kwargs['dtype'] = 'int32'\n",
    "        if 'input_shape' not in kwargs:\n",
    "            if input_length:\n",
    "                kwargs['input_shape'] = (input_length,)\n",
    "            else:\n",
    "                kwargs['input_shape'] = (None,)\n",
    "        super(Embedding2, self).__init__(**kwargs)\n",
    "    \n",
    "        self.input_dim = input_dim\n",
    "        self.output_dim = output_dim\n",
    "        self.embeddings_initializer = embeddings_initializer\n",
    "        self.fixed_weights = fixed_weights\n",
    "        self.num_trainable = input_dim - len(fixed_weights)\n",
    "        self.input_length = input_length\n",
    "        \n",
    "        w_mean = fixed_weights.mean(axis=0)\n",
    "        w_std = fixed_weights.std(axis=0)\n",
    "        self.variable_weights = w_mean + w_std*np.random.randn(self.num_trainable, output_dim)\n",
    "\n",
    "    def build(self, input_shape, name='embeddings'):        \n",
    "        fixed_weight = K.variable(self.fixed_weights, name=name+'_fixed')\n",
    "        variable_weight = K.variable(self.variable_weights, name=name+'_var')\n",
    "        \n",
    "        self._trainable_weights.append(variable_weight)\n",
    "        self._non_trainable_weights.append(fixed_weight)\n",
    "        \n",
    "        self.embeddings = K.concatenate([fixed_weight, variable_weight], axis=0)\n",
    "        \n",
    "        self.built = True\n",
    "\n",
    "    def call(self, inputs):\n",
    "        if K.dtype(inputs) != 'int32':\n",
    "            inputs = K.cast(inputs, 'int32')\n",
    "        out = K.gather(self.embeddings, inputs)\n",
    "        return out\n",
    "\n",
    "    def compute_output_shape(self, input_shape):\n",
    "        if not self.input_length:\n",
    "            input_length = input_shape[1]\n",
    "        else:\n",
    "            input_length = self.input_length\n",
    "        return (input_shape[0], input_length, self.output_dim)\n"
   ]
  },
  {
   "cell_type": "code",
   "execution_count": 111,
   "metadata": {
    "scrolled": true
   },
   "outputs": [
    {
     "name": "stdout",
     "output_type": "stream",
     "text": [
      "(15466, 9)\n"
     ]
    },
    {
     "data": {
      "text/plain": [
       "0    singapore two men were taken to court on tuesd...\n",
       "1    two nigerian nationals are expected to be char...\n",
       "2    a data centre operator that could not maintain...\n",
       "3    a primary 2 girl who asked her father for help...\n",
       "4    a volunteer at a church studentcare centre lur...\n",
       "Name: news, dtype: object"
      ]
     },
     "execution_count": 111,
     "metadata": {},
     "output_type": "execute_result"
    }
   ],
   "source": [
    "data.news = data.news.str.lower()\n",
    "\n",
    "data.news = data.news.str.replace(r'http[\\w:/\\.]+','<URL>') # remove urls\n",
    "data.news = data.news.str.replace(r'[^\\.\\w\\s]','') #remove everything but characters and punctuation\n",
    "data.news = data.news.str.replace(r'\\.\\.+','.') #replace multple periods with a single one\n",
    "data.news = data.news.str.replace(r'\\.',' . ') #replace multple periods with a single one\n",
    "data.news = data.news.str.replace(r'\\s\\s+',' ') #replace multple white space with a single one\n",
    "data.news = data.news.str.strip() \n",
    "\n",
    "print(data.shape)\n",
    "data.news.head()"
   ]
  },
  {
   "cell_type": "markdown",
   "metadata": {},
   "source": [
    "Get all the unique words. We will only consider words that have been used more than 5 times. Finally from this we create a dictionary mapping words to integers.\n",
    "\n",
    "Once this is done we will create a list of reviews where the words are converted to ints."
   ]
  },
  {
   "cell_type": "code",
   "execution_count": 112,
   "metadata": {},
   "outputs": [
    {
     "name": "stdout",
     "output_type": "stream",
     "text": [
      "Fraction of unique words in glove vectors:  0.5335940464645613\n",
      "The number of unique words are:  94868\n",
      "The first review looks like this: \n",
      "[15, 60, 567, 43, 271, 2, 87, 9, 202, 70, 466, 74, 33, 764, 2232, 6, 6928, 965, 2236, 2120]\n",
      "And once this is converted back to words, it looks like: \n",
      "singapore two men were taken to court on tuesday may 14 over their alleged roles in transnational internet love scams\n"
     ]
    }
   ],
   "source": [
    "all_text = ' '.join(data.news.values)\n",
    "words = all_text.split()\n",
    "u_words = Counter(words).most_common()\n",
    "u_words_counter = u_words\n",
    "u_words_frequent = [word[0] for word in u_words if word[1]>5] # we will only consider words that have been used more than 5 times\n",
    "\n",
    "u_words_total = [k for k,v in u_words_counter]\n",
    "word_vocab = dict(zip(word_vocab, range(len(word_vocab))))\n",
    "word_in_glove = np.array([w in word_vocab for w in u_words_total])\n",
    "\n",
    "words_in_glove = [w for w,is_true in zip(u_words_total,word_in_glove) if is_true]\n",
    "words_not_in_glove = [w for w,is_true in zip(u_words_total,word_in_glove) if not is_true]\n",
    "\n",
    "print('Fraction of unique words in glove vectors: ', sum(word_in_glove)/len(word_in_glove))\n",
    "\n",
    "# # create the dictionary\n",
    "word2num = dict(zip(words_in_glove,range(len(words_in_glove))))\n",
    "len_glove_words = len(word2num)\n",
    "freq_words_not_glove = [w for w in words_not_in_glove if w in u_words_frequent]\n",
    "b = dict(zip(freq_words_not_glove,range(len(word2num), len(word2num)+len(freq_words_not_glove))))\n",
    "word2num = dict(**word2num, **b)\n",
    "word2num['<Other>'] = len(word2num)\n",
    "num2word = dict(zip(word2num.values(), word2num.keys()))\n",
    "\n",
    "int_text = [[word2num[word] if word in word2num else word2num['<Other>'] \n",
    "             for word in content.split()] for content in data.news.values]\n",
    "\n",
    "print('The number of unique words are: ', len(u_words))\n",
    "print('The first review looks like this: ')\n",
    "print(int_text[0][:20])\n",
    "print('And once this is converted back to words, it looks like: ')\n",
    "print(' '.join([num2word[i] for i in int_text[0][:20]]))"
   ]
  },
  {
   "cell_type": "code",
   "execution_count": 113,
   "metadata": {
    "scrolled": true
   },
   "outputs": [
    {
     "data": {
      "image/png": "[encoded data removed]",
      "text/plain": [
       "<Figure size 576x396 with 1 Axes>"
      ]
     },
     "metadata": {},
     "output_type": "display_data"
    }
   ],
   "source": [
    "plt.hist([len(t) for t in int_text],50)\n",
    "plt.show()"
   ]
  },
  {
   "cell_type": "code",
   "execution_count": 114,
   "metadata": {},
   "outputs": [
    {
     "name": "stdout",
     "output_type": "stream",
     "text": [
      "The number of articles greater than 800 in length is:  1109\n",
      "The number of articles less than 50 in length is:  0\n"
     ]
    }
   ],
   "source": [
    "print('The number of articles greater than 800 in length is: ', np.sum(np.array([len(t)>800 for t in int_text])))\n",
    "print('The number of articles less than 50 in length is: ', np.sum(np.array([len(t)<50 for t in int_text])))"
   ]
  },
  {
   "cell_type": "markdown",
   "metadata": {},
   "source": [
    "You cannot pass differing lengths of sentences to the algorithm. Hence we shall prepad the sentence with `<PAD>`. Sequences less than 800 in length will be prepadded and sequences that are longer than 800 will be truncated. It is assumed that the detection of fake news can be asserted from the first 800 words."
   ]
  },
  {
   "cell_type": "code",
   "execution_count": 115,
   "metadata": {},
   "outputs": [],
   "source": [
    "num2word[len(word2num)] = '<PAD>'\n",
    "word2num['<PAD>'] = len(word2num)\n",
    "\n",
    "for i, t in enumerate(int_text):\n",
    "    if len(t)<800:\n",
    "        int_text[i] = [word2num['<PAD>']]*(800-len(t)) + t\n",
    "    elif len(t)>800:\n",
    "        int_text[i] = t[:800]\n",
    "    else:\n",
    "        continue"
   ]
  },
  {
   "cell_type": "code",
   "execution_count": 116,
   "metadata": {},
   "outputs": [],
   "source": [
    "X = np.array(int_text)\n",
    "y = data['is_fake']\n",
    "\n",
    "# X_train, X_test, y_train, y_test = train_test_split(x, y, test_size=0.1, random_state=42)"
   ]
  },
  {
   "cell_type": "code",
   "execution_count": 117,
   "metadata": {},
   "outputs": [
    {
     "name": "stdout",
     "output_type": "stream",
     "text": [
      "(10316, 800) (10316,)\n",
      "(5150, 800) (5150,)\n"
     ]
    }
   ],
   "source": [
    "X_train = X[train_index]\n",
    "y_train = y[train_index]\n",
    "X_test = X[test_index]\n",
    "y_test = y[test_index]\n",
    "\n",
    "# X_train, X_test, y_train, y_test = train_test_split(X, y, test_size=0.33, random_state=42, stratify = y)\n",
    "print(X_train.shape, y_train.shape)\n",
    "print(X_test.shape, y_test.shape)"
   ]
  },
  {
   "cell_type": "markdown",
   "metadata": {
    "collapsed": true
   },
   "source": [
    "## Many to One LSTM"
   ]
  },
  {
   "cell_type": "markdown",
   "metadata": {},
   "source": [
    "### Basic Method:"
   ]
  },
  {
   "cell_type": "code",
   "execution_count": 118,
   "metadata": {},
   "outputs": [
    {
     "name": "stdout",
     "output_type": "stream",
     "text": [
      "WARNING:tensorflow:From /usr/local/lib/python3.5/dist-packages/tensorflow/python/framework/op_def_library.py:263: colocate_with (from tensorflow.python.framework.ops) is deprecated and will be removed in a future version.\n",
      "Instructions for updating:\n",
      "Colocations handled automatically by placer.\n",
      "_________________________________________________________________\n",
      "Layer (type)                 Output Shape              Param #   \n",
      "=================================================================\n",
      "embedding_1 (Embedding)      (None, None, 50)          2718700   \n",
      "_________________________________________________________________\n",
      "lstm_1 (LSTM)                (None, 64)                29440     \n",
      "_________________________________________________________________\n",
      "dense_1 (Dense)              (None, 1)                 65        \n",
      "=================================================================\n",
      "Total params: 2,748,205\n",
      "Trainable params: 2,748,205\n",
      "Non-trainable params: 0\n",
      "_________________________________________________________________\n"
     ]
    }
   ],
   "source": [
    "embed_lstm = Sequential()\n",
    "embed_lstm.add(Embedding(len(word2num), 50)) # , batch_size=batch_size\n",
    "embed_lstm.add(LSTM(64))\n",
    "embed_lstm.add(Dense(1, activation='sigmoid'))\n",
    "\n",
    "embed_lstm.compile(loss='binary_crossentropy', optimizer='adam', metrics=['accuracy'])\n",
    "embed_lstm.summary()"
   ]
  },
  {
   "cell_type": "code",
   "execution_count": 119,
   "metadata": {},
   "outputs": [],
   "source": [
    "# batch_size = 128\n",
    "# epochs = 5\n",
    "\n",
    "# history_embed_lstm = embed_lstm.fit(X_train, y_train, batch_size=batch_size, epochs=5, validation_data=(X_test, y_test), \n",
    "#                                     verbose= 1)"
   ]
  },
  {
   "cell_type": "code",
   "execution_count": 120,
   "metadata": {},
   "outputs": [],
   "source": [
    "# # Save model and history with pickle\n",
    "\n",
    "# with open(\"embed_lstm_model.pckl\", \"wb\") as f:\n",
    "#     pickle.dump(embed_lstm, f)\n",
    "\n",
    "# with open(\"embed_lstm_history.pckl\", \"wb\") as f:\n",
    "#     pickle.dump(history_embed_lstm, f)"
   ]
  },
  {
   "cell_type": "code",
   "execution_count": 121,
   "metadata": {},
   "outputs": [
    {
     "name": "stdout",
     "output_type": "stream",
     "text": [
      "WARNING:tensorflow:From /usr/local/lib/python3.5/dist-packages/tensorflow/python/ops/math_ops.py:3066: to_int32 (from tensorflow.python.ops.math_ops) is deprecated and will be removed in a future version.\n",
      "Instructions for updating:\n",
      "Use tf.cast instead.\n"
     ]
    }
   ],
   "source": [
    "## Load models and results with pickle\n",
    "\n",
    "with open(\"embed_lstm_model.pckl\", \"rb\") as f:\n",
    "    embed_lstm = pickle.load(f)\n",
    "\n",
    "with open(\"embed_lstm_history.pckl\", \"rb\") as f:\n",
    "    history_embed_lstm = pickle.load(f)"
   ]
  },
  {
   "cell_type": "code",
   "execution_count": 122,
   "metadata": {},
   "outputs": [
    {
     "name": "stdout",
     "output_type": "stream",
     "text": [
      "Training Accuracy: 0.8421\n"
     ]
    }
   ],
   "source": [
    "loss, accuracy = embed_lstm.evaluate(X_train, y_train, verbose=False)\n",
    "print(\"Training Accuracy: {:.4f}\".format(accuracy))"
   ]
  },
  {
   "cell_type": "code",
   "execution_count": 123,
   "metadata": {},
   "outputs": [
    {
     "name": "stdout",
     "output_type": "stream",
     "text": [
      "Accuracy Score 0.8170873786407767\n",
      "roc_auc Score 0.8932789895371854\n"
     ]
    }
   ],
   "source": [
    "print('Accuracy Score', accuracy_score(y_test, embed_lstm.predict_classes(X_test)))\n",
    "print('roc_auc Score', roc_auc_score(y_test, embed_lstm.predict(X_test)))"
   ]
  },
  {
   "cell_type": "code",
   "execution_count": 124,
   "metadata": {},
   "outputs": [],
   "source": [
    "plt.style.use('ggplot')\n",
    "\n",
    "def plot_history(history):\n",
    "    acc = history.history['acc']\n",
    "    val_acc = history.history['val_acc']\n",
    "    loss = history.history['loss']\n",
    "    val_loss = history.history['val_loss']\n",
    "    x = range(1, len(acc) + 1)\n",
    "\n",
    "    plt.figure(figsize=(12, 5))\n",
    "    plt.subplot(1, 2, 1)\n",
    "    plt.plot(x, acc, 'b', label='Training acc')\n",
    "    plt.plot(x, val_acc, 'r', label='Validation acc')\n",
    "    plt.title('Training and validation accuracy')\n",
    "    plt.legend()\n",
    "    plt.subplot(1, 2, 2)\n",
    "    plt.plot(x, loss, 'b', label='Training loss')\n",
    "    plt.plot(x, val_loss, 'r', label='Validation loss')\n",
    "    plt.title('Training and validation loss')\n",
    "    plt.legend()"
   ]
  },
  {
   "cell_type": "code",
   "execution_count": 125,
   "metadata": {},
   "outputs": [
    {
     "data": {
      "image/png": "[encoded data removed]",
      "text/plain": [
       "<Figure size 864x360 with 2 Axes>"
      ]
     },
     "metadata": {},
     "output_type": "display_data"
    }
   ],
   "source": [
    "plot_history(history_embed_lstm)"
   ]
  },
  {
   "cell_type": "code",
   "execution_count": 226,
   "metadata": {},
   "outputs": [
    {
     "data": {
      "text/plain": [
       "array([[0.00131672]], dtype=float32)"
      ]
     },
     "execution_count": 226,
     "metadata": {},
     "output_type": "execute_result"
    }
   ],
   "source": [
    "sentence = \"North korea is testing out missiles on americans living overseas .\".lower()\n",
    "sentence_num = [word2num[w] if w in word2num else word2num['<Other>'] for w in sentence.split()]\n",
    "sentence_num = [word2num['<PAD>']]*(800-len(sentence_num)) + sentence_num\n",
    "sentence_num = np.array(sentence_num)\n",
    "embed_lstm.predict(sentence_num[None,:])"
   ]
  },
  {
   "cell_type": "code",
   "execution_count": 227,
   "metadata": {},
   "outputs": [
    {
     "data": {
      "text/plain": [
       "array([[0.00490881]], dtype=float32)"
      ]
     },
     "execution_count": 227,
     "metadata": {},
     "output_type": "execute_result"
    }
   ],
   "source": [
    "sentence = \"The chemicals in the water is turning the freaking frogs gay says cnn . \".lower()\n",
    "sentence_num = [word2num[w] if w in word2num else word2num['<Other>'] for w in sentence.split()]\n",
    "sentence_num = [word2num['<PAD>']]*(800-len(sentence_num)) + sentence_num\n",
    "sentence_num = np.array(sentence_num)\n",
    "embed_lstm.predict(sentence_num[None,:])"
   ]
  },
  {
   "cell_type": "code",
   "execution_count": 228,
   "metadata": {},
   "outputs": [
    {
     "data": {
      "text/plain": [
       "array([[0.05520804]], dtype=float32)"
      ]
     },
     "execution_count": 228,
     "metadata": {},
     "output_type": "execute_result"
    }
   ],
   "source": [
    "sentence = \"Lee Hsien Loong is the greatest Prime Minister of all time period.\".lower()\n",
    "sentence_num = [word2num[w] if w in word2num else word2num['<Other>'] for w in sentence.split()]\n",
    "sentence_num = [word2num['<PAD>']]*(800-len(sentence_num)) + sentence_num\n",
    "sentence_num = np.array(sentence_num)\n",
    "embed_lstm.predict(sentence_num[None,:])"
   ]
  },
  {
   "cell_type": "code",
   "execution_count": 229,
   "metadata": {},
   "outputs": [
    {
     "data": {
      "text/plain": [
       "array([[0.04810721]], dtype=float32)"
      ]
     },
     "execution_count": 229,
     "metadata": {},
     "output_type": "execute_result"
    }
   ],
   "source": [
    "sentence = \"President Trump is the greatest president of all time period .\".lower()\n",
    "sentence_num = [word2num[w] if w in word2num else word2num['<Other>'] for w in sentence.split()]\n",
    "sentence_num = [word2num['<PAD>']]*(800-len(sentence_num)) + sentence_num\n",
    "sentence_num = np.array(sentence_num)\n",
    "embed_lstm.predict(sentence_num[None,:])"
   ]
  },
  {
   "cell_type": "code",
   "execution_count": 230,
   "metadata": {},
   "outputs": [
    {
     "data": {
      "text/plain": [
       "array([[0.00032336]], dtype=float32)"
      ]
     },
     "execution_count": 230,
     "metadata": {},
     "output_type": "execute_result"
    }
   ],
   "source": [
    "sentence = \"added noted 2018 2019 bloomberg investigations year\".lower()\n",
    "sentence_num = [word2num[w] if w in word2num else word2num['<Other>'] for w in sentence.split()]\n",
    "sentence_num = [word2num['<PAD>']]*(800-len(sentence_num)) + sentence_num\n",
    "sentence_num = np.array(sentence_num)\n",
    "embed_lstm.predict(sentence_num[None,:])"
   ]
  },
  {
   "cell_type": "code",
   "execution_count": 231,
   "metadata": {},
   "outputs": [
    {
     "data": {
      "text/plain": [
       "array([[0.9935788]], dtype=float32)"
      ]
     },
     "execution_count": 231,
     "metadata": {},
     "output_type": "execute_result"
    }
   ],
   "source": [
    "sentence = \"advertisement says read program government country percent\".lower()\n",
    "sentence_num = [word2num[w] if w in word2num else word2num['<Other>'] for w in sentence.split()]\n",
    "sentence_num = [word2num['<PAD>']]*(800-len(sentence_num)) + sentence_num\n",
    "sentence_num = np.array(sentence_num)\n",
    "embed_lstm.predict(sentence_num[None,:])"
   ]
  },
  {
   "cell_type": "code",
   "execution_count": 232,
   "metadata": {},
   "outputs": [
    {
     "data": {
      "text/plain": [
       "array([[0.00407408]], dtype=float32)"
      ]
     },
     "execution_count": 232,
     "metadata": {},
     "output_type": "execute_result"
    }
   ],
   "source": [
    "sentence = \"A news article from Bloomberg added that based on an investigation conducted in year 2018, all prof should be jailed\".lower()\n",
    "sentence_num = [word2num[w] if w in word2num else word2num['<Other>'] for w in sentence.split()]\n",
    "sentence_num = [word2num['<PAD>']]*(800-len(sentence_num)) + sentence_num\n",
    "sentence_num = np.array(sentence_num)\n",
    "embed_lstm.predict(sentence_num[None,:])"
   ]
  },
  {
   "cell_type": "code",
   "execution_count": 233,
   "metadata": {},
   "outputs": [
    {
     "data": {
      "text/plain": [
       "array([[0.08960647]], dtype=float32)"
      ]
     },
     "execution_count": 233,
     "metadata": {},
     "output_type": "execute_result"
    }
   ],
   "source": [
    "sentence = \"Lee Hsien Loong added in 2018 that the reason he was stepping down soon was because he wanted to focus his time \\\n",
    "            to be the best Pokemon Master, like no one ever was.\"\n",
    "sentence_num = [word2num[w] if w in word2num else word2num['<Other>'] for w in sentence.split()]\n",
    "sentence_num = [word2num['<PAD>']]*(800-len(sentence_num)) + sentence_num\n",
    "sentence_num = np.array(sentence_num)\n",
    "embed_lstm.predict(sentence_num[None,:])"
   ]
  },
  {
   "cell_type": "code",
   "execution_count": 234,
   "metadata": {},
   "outputs": [
    {
     "data": {
      "text/plain": [
       "array([[0.00042341]], dtype=float32)"
      ]
     },
     "execution_count": 234,
     "metadata": {},
     "output_type": "execute_result"
    }
   ],
   "source": [
    "sentence = \"added noted 2018 2019 bloomberg investigations year cent programme prof reuters jailed understands republic dec mr\"\n",
    "\n",
    "sentence_num = [word2num[w] if w in word2num else word2num['<Other>'] for w in sentence.split()]\n",
    "sentence_num = [word2num['<PAD>']]*(800-len(sentence_num)) + sentence_num\n",
    "sentence_num = np.array(sentence_num)\n",
    "embed_lstm.predict(sentence_num[None,:])"
   ]
  },
  {
   "cell_type": "code",
   "execution_count": 235,
   "metadata": {},
   "outputs": [
    {
     "data": {
      "text/plain": [
       "array([[0.38209122]], dtype=float32)"
      ]
     },
     "execution_count": 235,
     "metadata": {},
     "output_type": "execute_result"
    }
   ],
   "source": [
    "sentence = \"In 2017, Lee Hsien Loong said he would be stepping down as Prime Minister as he wanted to focus his time \\\n",
    "            to be the best Pokemon Master, like no one ever was.\"\n",
    "\n",
    "sentence_num = [word2num[w] if w in word2num else word2num['<Other>'] for w in sentence.split()]\n",
    "sentence_num = [word2num['<PAD>']]*(800-len(sentence_num)) + sentence_num\n",
    "sentence_num = np.array(sentence_num)\n",
    "embed_lstm.predict(sentence_num[None,:])"
   ]
  },
  {
   "cell_type": "code",
   "execution_count": 236,
   "metadata": {},
   "outputs": [
    {
     "data": {
      "text/plain": [
       "array([[0.12814358]], dtype=float32)"
      ]
     },
     "execution_count": 236,
     "metadata": {},
     "output_type": "execute_result"
    }
   ],
   "source": [
    "sentence = \"In 2018, Lee Hsien Loong added that he would be stepping down as Prime Minister as he wanted to focus his time \\\n",
    "            to be the best Pokemon Master, like no one ever was.\"\n",
    "\n",
    "sentence_num = [word2num[w] if w in word2num else word2num['<Other>'] for w in sentence.split()]\n",
    "sentence_num = [word2num['<PAD>']]*(800-len(sentence_num)) + sentence_num\n",
    "sentence_num = np.array(sentence_num)\n",
    "embed_lstm.predict(sentence_num[None,:])"
   ]
  },
  {
   "cell_type": "markdown",
   "metadata": {},
   "source": [
    "### Method 2: Fixed Embeddings\n",
    "This is where we use the `Embedding2` class to which we give a set of weights which remain the same through training. Note especially the number of trainable parameters in the summary."
   ]
  },
  {
   "cell_type": "code",
   "execution_count": 135,
   "metadata": {},
   "outputs": [
    {
     "name": "stdout",
     "output_type": "stream",
     "text": [
      "_________________________________________________________________\n",
      "Layer (type)                 Output Shape              Param #   \n",
      "=================================================================\n",
      "embedding2_1 (Embedding2)    (None, None, 50)          2718700   \n",
      "_________________________________________________________________\n",
      "lstm_2 (LSTM)                (None, 64)                29440     \n",
      "_________________________________________________________________\n",
      "dense_2 (Dense)              (None, 1)                 65        \n",
      "=================================================================\n",
      "Total params: 2,748,205\n",
      "Trainable params: 217,155\n",
      "Non-trainable params: 2,531,050\n",
      "_________________________________________________________________\n"
     ]
    }
   ],
   "source": [
    "glove_lstm = Sequential()\n",
    "glove_lstm.add(Embedding2(len(word2num), 50,\n",
    "                    fixed_weights=np.array([word2glove[w] for w in words_in_glove]))) # , batch_size=batch_size\n",
    "glove_lstm.add(LSTM(64))\n",
    "glove_lstm.add(Dense(1, activation='sigmoid'))\n",
    "\n",
    "# rmsprop = keras.optimizers.RMSprop(lr=1e-4)\n",
    "\n",
    "glove_lstm.compile(loss='binary_crossentropy', optimizer='adam', metrics=['accuracy'])\n",
    "glove_lstm.summary()"
   ]
  },
  {
   "cell_type": "code",
   "execution_count": 136,
   "metadata": {},
   "outputs": [
    {
     "name": "stdout",
     "output_type": "stream",
     "text": [
      "Train on 10316 samples, validate on 5150 samples\n",
      "Epoch 1/15\n",
      "10316/10316 [==============================] - 105s 10ms/step - loss: 0.6301 - acc: 0.6483 - val_loss: 0.5604 - val_acc: 0.7039\n",
      "Epoch 2/15\n",
      "10316/10316 [==============================] - 105s 10ms/step - loss: 0.5928 - acc: 0.6975 - val_loss: 0.5543 - val_acc: 0.7272\n",
      "Epoch 3/15\n",
      "10316/10316 [==============================] - 104s 10ms/step - loss: 0.4927 - acc: 0.7625 - val_loss: 0.4539 - val_acc: 0.7909\n",
      "Epoch 4/15\n",
      "10316/10316 [==============================] - 105s 10ms/step - loss: 0.5338 - acc: 0.7390 - val_loss: 0.4028 - val_acc: 0.8431\n",
      "Epoch 5/15\n",
      "10316/10316 [==============================] - 104s 10ms/step - loss: 0.3336 - acc: 0.8607 - val_loss: 0.3412 - val_acc: 0.8348\n",
      "Epoch 6/15\n",
      "10316/10316 [==============================] - 105s 10ms/step - loss: 0.2883 - acc: 0.8742 - val_loss: 0.2828 - val_acc: 0.8788\n",
      "Epoch 7/15\n",
      "10316/10316 [==============================] - 105s 10ms/step - loss: 0.2496 - acc: 0.8939 - val_loss: 0.2676 - val_acc: 0.8864\n",
      "Epoch 8/15\n",
      "10316/10316 [==============================] - 105s 10ms/step - loss: 0.2300 - acc: 0.9065 - val_loss: 0.2535 - val_acc: 0.8911\n",
      "Epoch 9/15\n",
      "10316/10316 [==============================] - 108s 10ms/step - loss: 0.2244 - acc: 0.9073 - val_loss: 0.2551 - val_acc: 0.8893\n",
      "Epoch 10/15\n",
      "10316/10316 [==============================] - 105s 10ms/step - loss: 0.2037 - acc: 0.9176 - val_loss: 0.2415 - val_acc: 0.8986\n",
      "Epoch 11/15\n",
      "10316/10316 [==============================] - 107s 10ms/step - loss: 0.2048 - acc: 0.9172 - val_loss: 0.2217 - val_acc: 0.9080\n",
      "Epoch 12/15\n",
      "10316/10316 [==============================] - 108s 10ms/step - loss: 0.1727 - acc: 0.9313 - val_loss: 0.2139 - val_acc: 0.9130\n",
      "Epoch 13/15\n",
      "10316/10316 [==============================] - 106s 10ms/step - loss: 0.1692 - acc: 0.9323 - val_loss: 0.2244 - val_acc: 0.9083\n",
      "Epoch 14/15\n",
      "10316/10316 [==============================] - 107s 10ms/step - loss: 0.1564 - acc: 0.9392 - val_loss: 0.2152 - val_acc: 0.9115\n",
      "Epoch 15/15\n",
      "10316/10316 [==============================] - 107s 10ms/step - loss: 0.1546 - acc: 0.9415 - val_loss: 0.2654 - val_acc: 0.8928\n"
     ]
    }
   ],
   "source": [
    "batch_size = 128\n",
    "\n",
    "history_glove_lstm = glove_lstm.fit(X_train, y_train, batch_size=batch_size, epochs=15, validation_data=(X_test, y_test), \n",
    "                                    verbose= 1)"
   ]
  },
  {
   "cell_type": "code",
   "execution_count": 137,
   "metadata": {},
   "outputs": [],
   "source": [
    "# # Save model and history with pickle\n",
    "\n",
    "# with open(\"glove_lstm_model.pckl\", \"wb\") as f:\n",
    "#     pickle.dump(glove_lstm, f)\n",
    "\n",
    "# with open(\"glove_lstm_history.pckl\", \"wb\") as f:\n",
    "#     pickle.dump(history_glove_lstm, f)"
   ]
  },
  {
   "cell_type": "code",
   "execution_count": 138,
   "metadata": {},
   "outputs": [],
   "source": [
    "# ## Load models and results with pickle\n",
    "\n",
    "# with open(\"glove_lstm_model.pckl\", \"rb\") as f:\n",
    "#     glove_lstm = pickle.load(f)\n",
    "\n",
    "# # with open(\"glove_lstm_history.pckl\", \"rb\") as f:\n",
    "# #     history_glove_lstm = pickle.load(f)"
   ]
  },
  {
   "cell_type": "code",
   "execution_count": 139,
   "metadata": {},
   "outputs": [
    {
     "name": "stdout",
     "output_type": "stream",
     "text": [
      "Saved model to disk\n"
     ]
    }
   ],
   "source": [
    "# # serialize model to JSON\n",
    "# model_json = glove_lstm.to_json()\n",
    "# with open(\"glove_lstm.json\", \"w\") as json_file:\n",
    "#     json_file.write(model_json)\n",
    "# # serialize weights to HDF5\n",
    "# glove_lstm.save_weights(\"glove_lstm_weights.h5\")\n",
    "# print(\"Saved model to disk\")\n",
    " \n",
    "# # later...\n",
    " \n",
    "# # load json and create model\n",
    "# json_file = open('glove_lstm.json', 'r')\n",
    "# loaded_model_json = json_file.read()\n",
    "# json_file.close()\n",
    "# # loaded_model = model_from_json(loaded_model_json)\n",
    "# # # load weights into new model\n",
    "# # loaded_model.load_weights(\"glove_lstm_weights.h5\")\n",
    "# # print(\"Loaded model from disk\")"
   ]
  },
  {
   "cell_type": "code",
   "execution_count": 240,
   "metadata": {},
   "outputs": [
    {
     "name": "stdout",
     "output_type": "stream",
     "text": [
      "Training Accuracy: 0.9185\n"
     ]
    }
   ],
   "source": [
    "loss, accuracy = glove_lstm.evaluate(X_train, y_train, verbose=False)\n",
    "train_score = accuracy\n",
    "print(\"Training Accuracy: {:.4f}\".format(accuracy))"
   ]
  },
  {
   "cell_type": "code",
   "execution_count": 241,
   "metadata": {},
   "outputs": [
    {
     "name": "stdout",
     "output_type": "stream",
     "text": [
      "Accuracy Score 0.8928155339805826\n",
      "roc_auc Score 0.9740295975115468\n"
     ]
    }
   ],
   "source": [
    "accuracy_test_score = accuracy_score(y_test, glove_lstm.predict_classes(X_test))\n",
    "auc_test_score = roc_auc_score(y_test, glove_lstm.predict(X_test))\n",
    "\n",
    "print('Accuracy Score', accuracy_score(y_test, glove_lstm.predict_classes(X_test)))\n",
    "print('roc_auc Score', roc_auc_score(y_test, glove_lstm.predict(X_test)))"
   ]
  },
  {
   "cell_type": "code",
   "execution_count": 142,
   "metadata": {},
   "outputs": [],
   "source": [
    "plt.style.use('ggplot')\n",
    "\n",
    "def plot_history(history):\n",
    "    acc = history.history['acc']\n",
    "    val_acc = history.history['val_acc']\n",
    "    loss = history.history['loss']\n",
    "    val_loss = history.history['val_loss']\n",
    "    x = range(1, len(acc) + 1)\n",
    "\n",
    "    plt.figure(figsize=(12, 5))\n",
    "    plt.subplot(1, 2, 1)\n",
    "    plt.plot(x, acc, 'b', label='Training acc')\n",
    "    plt.plot(x, val_acc, 'r', label='Validation acc')\n",
    "    plt.title('Training and validation accuracy')\n",
    "    plt.legend()\n",
    "    plt.subplot(1, 2, 2)\n",
    "    plt.plot(x, loss, 'b', label='Training loss')\n",
    "    plt.plot(x, val_loss, 'r', label='Validation loss')\n",
    "    plt.title('Training and validation loss')\n",
    "    plt.legend()"
   ]
  },
  {
   "cell_type": "code",
   "execution_count": 143,
   "metadata": {},
   "outputs": [
    {
     "data": {
      "image/png": "[encoded data removed]",
      "text/plain": [
       "<Figure size 864x360 with 2 Axes>"
      ]
     },
     "metadata": {},
     "output_type": "display_data"
    }
   ],
   "source": [
    "plot_history(history_glove_lstm)"
   ]
  },
  {
   "cell_type": "code",
   "execution_count": 277,
   "metadata": {},
   "outputs": [
    {
     "data": {
      "text/html": [
       "<div>\n",
       "<style scoped>\n",
       "    .dataframe tbody tr th:only-of-type {\n",
       "        vertical-align: middle;\n",
       "    }\n",
       "\n",
       "    .dataframe tbody tr th {\n",
       "        vertical-align: top;\n",
       "    }\n",
       "\n",
       "    .dataframe thead th {\n",
       "        text-align: right;\n",
       "    }\n",
       "</style>\n",
       "<table border=\"1\" class=\"dataframe\">\n",
       "  <thead>\n",
       "    <tr style=\"text-align: right;\">\n",
       "      <th></th>\n",
       "      <th>train_scores</th>\n",
       "      <th>model_name</th>\n",
       "      <th>train_score_mean</th>\n",
       "      <th>accuracy_score</th>\n",
       "      <th>auc_score</th>\n",
       "    </tr>\n",
       "  </thead>\n",
       "  <tbody>\n",
       "    <tr>\n",
       "      <th>40</th>\n",
       "      <td>0.943798</td>\n",
       "      <td>LinearSVM_tfidf</td>\n",
       "      <td>0.922355</td>\n",
       "      <td>0.944272</td>\n",
       "      <td>0.986156</td>\n",
       "    </tr>\n",
       "    <tr>\n",
       "      <th>101</th>\n",
       "      <td>0.918476</td>\n",
       "      <td>LSTM_GloVe</td>\n",
       "      <td>0.918476</td>\n",
       "      <td>0.892816</td>\n",
       "      <td>0.97403</td>\n",
       "    </tr>\n",
       "  </tbody>\n",
       "</table>\n",
       "</div>"
      ],
      "text/plain": [
       "    train_scores       model_name train_score_mean accuracy_score auc_score\n",
       "40      0.943798  LinearSVM_tfidf         0.922355       0.944272  0.986156\n",
       "101     0.918476       LSTM_GloVe         0.918476       0.892816   0.97403"
      ]
     },
     "execution_count": 277,
     "metadata": {},
     "output_type": "execute_result"
    }
   ],
   "source": [
    "models_results_df.loc[[40,101], :]"
   ]
  },
  {
   "cell_type": "code",
   "execution_count": 328,
   "metadata": {},
   "outputs": [
    {
     "data": {
      "image/png": "[encoded data removed]",
      "text/plain": [
       "<Figure size 576x396 with 1 Axes>"
      ]
     },
     "metadata": {},
     "output_type": "display_data"
    }
   ],
   "source": [
    "N = 3\n",
    "svm_scores = tuple(models_results_df.loc[40, :])[-3:]\n",
    "\n",
    "fig, ax = plt.subplots()\n",
    "\n",
    "ind = np.arange(N)    # the x locations for the groups\n",
    "width = 0.35         # the width of the bars\n",
    "p1 = ax.bar(ind, svm_scores, width, bottom=0)\n",
    "\n",
    "\n",
    "lstm_scores = tuple(models_results_df.loc[101, :])[-3:]\n",
    "p2 = ax.bar(ind + width, lstm_scores, width, bottom=0)\n",
    "\n",
    "ax.set_xticks(ind + width / 2)\n",
    "ax.set_xticklabels(('Train - Accuracy', 'Test - Accuracy', 'Test - ROC_AUC'), fontsize = 16)\n",
    "plt.ylabel('Scores', fontsize = 16)\n",
    "\n",
    "ax.legend((p1[0], p2[0]), ('Tf-Idf - Linear SVM', 'GloVe - LSTM'), fontsize= 14, bbox_to_anchor=(1.4,0.8), loc=\"lower right\")\n",
    "ax.autoscale_view()\n",
    "\n",
    "plt.show()"
   ]
  },
  {
   "cell_type": "code",
   "execution_count": 275,
   "metadata": {},
   "outputs": [
    {
     "data": {
      "image/png": "[encoded data removed]",
      "text/plain": [
       "<Figure size 1008x288 with 1 Axes>"
      ]
     },
     "metadata": {},
     "output_type": "display_data"
    }
   ],
   "source": [
    "lstm_result_df = pd.DataFrame([train_score, 'LSTM_GloVe', train_score, accuracy_test_score, auc_test_score]).T\n",
    "lstm_result_df.columns = ['train_scores', 'model_name', 'train_score_mean', 'accuracy_score', 'auc_score']\n",
    "models_results_df = pd.concat([models_results_df, lstm_result_df], axis= 0)\n",
    "models_results_df.reset_index(drop= True, inplace= True)\n",
    "\n",
    "fig = plt.figure(figsize=(14,4))\n",
    "\n",
    "plt.plot('model_name', 'train_score_mean', data= models_results_df.loc[[40,101], :], marker='o', markerfacecolor='blue', \n",
    "         markersize=8, color='skyblue', linewidth=2, label = 'train accuracy score')\n",
    "plt.plot('model_name', 'accuracy_score', data= models_results_df.loc[[40,101], :], marker= 'o', color='olive', \n",
    "         linewidth=2, label = 'test accuracy score')\n",
    "plt.plot('model_name', 'auc_score', data= models_results_df.loc[[40,101], :], marker='o', color='orange', linewidth=2, \n",
    "         label=\"test roc_auc score\")\n",
    "\n",
    "plt.title('ML Models Scores Comparison', fontsize = 18)\n",
    "\n",
    "plt.ylabel('Scores', fontsize= 14)\n",
    "\n",
    "plt.legend(fontsize = 12)\n",
    "\n",
    "plt.show()"
   ]
  },
  {
   "cell_type": "code",
   "execution_count": 144,
   "metadata": {},
   "outputs": [
    {
     "data": {
      "text/plain": [
       "array([[0.43506905]], dtype=float32)"
      ]
     },
     "execution_count": 144,
     "metadata": {},
     "output_type": "execute_result"
    }
   ],
   "source": [
    "sentence = \"North korea is testing out missiles on americans living overseas .\".lower()\n",
    "sentence_num = [word2num[w] if w in word2num else word2num['<Other>'] for w in sentence.split()]\n",
    "sentence_num = [word2num['<PAD>']]*(800-len(sentence_num)) + sentence_num\n",
    "sentence_num = np.array(sentence_num)\n",
    "glove_lstm.predict(sentence_num[None,:])"
   ]
  },
  {
   "cell_type": "code",
   "execution_count": 145,
   "metadata": {},
   "outputs": [
    {
     "data": {
      "text/plain": [
       "array([[0.7972448]], dtype=float32)"
      ]
     },
     "execution_count": 145,
     "metadata": {},
     "output_type": "execute_result"
    }
   ],
   "source": [
    "sentence = \"The chemicals in the water is turning the freaking frogs gay says cnn . \".lower()\n",
    "sentence_num = [word2num[w] if w in word2num else word2num['<Other>'] for w in sentence.split()]\n",
    "sentence_num = [word2num['<PAD>']]*(800-len(sentence_num)) + sentence_num\n",
    "sentence_num = np.array(sentence_num)\n",
    "glove_lstm.predict(sentence_num[None,:])"
   ]
  },
  {
   "cell_type": "code",
   "execution_count": 157,
   "metadata": {},
   "outputs": [
    {
     "data": {
      "text/plain": [
       "array([[0.9419358]], dtype=float32)"
      ]
     },
     "execution_count": 157,
     "metadata": {},
     "output_type": "execute_result"
    }
   ],
   "source": [
    "sentence = \"Lee Hsien Loong is the greatest Prime Minister of all time period.\".lower()\n",
    "sentence_num = [word2num[w] if w in word2num else word2num['<Other>'] for w in sentence.split()]\n",
    "sentence_num = [word2num['<PAD>']]*(800-len(sentence_num)) + sentence_num\n",
    "sentence_num = np.array(sentence_num)\n",
    "glove_lstm.predict(sentence_num[None,:])"
   ]
  },
  {
   "cell_type": "code",
   "execution_count": 146,
   "metadata": {},
   "outputs": [
    {
     "data": {
      "text/plain": [
       "array([[0.3988751]], dtype=float32)"
      ]
     },
     "execution_count": 146,
     "metadata": {},
     "output_type": "execute_result"
    }
   ],
   "source": [
    "sentence = \"President Trump is the greatest president of all time period .\".lower()\n",
    "sentence_num = [word2num[w] if w in word2num else word2num['<Other>'] for w in sentence.split()]\n",
    "sentence_num = [word2num['<PAD>']]*(800-len(sentence_num)) + sentence_num\n",
    "sentence_num = np.array(sentence_num)\n",
    "glove_lstm.predict(sentence_num[None,:])"
   ]
  },
  {
   "cell_type": "code",
   "execution_count": 155,
   "metadata": {},
   "outputs": [
    {
     "data": {
      "text/plain": [
       "array([[0.83096194]], dtype=float32)"
      ]
     },
     "execution_count": 155,
     "metadata": {},
     "output_type": "execute_result"
    }
   ],
   "source": [
    "sentence = \"added noted 2018 2019 bloomberg investigations year\".lower()\n",
    "sentence_num = [word2num[w] if w in word2num else word2num['<Other>'] for w in sentence.split()]\n",
    "sentence_num = [word2num['<PAD>']]*(800-len(sentence_num)) + sentence_num\n",
    "sentence_num = np.array(sentence_num)\n",
    "glove_lstm.predict(sentence_num[None,:])"
   ]
  },
  {
   "cell_type": "code",
   "execution_count": 156,
   "metadata": {},
   "outputs": [
    {
     "data": {
      "text/plain": [
       "array([[0.8786677]], dtype=float32)"
      ]
     },
     "execution_count": 156,
     "metadata": {},
     "output_type": "execute_result"
    }
   ],
   "source": [
    "sentence = \"advertisement says read program government country percent\".lower()\n",
    "sentence_num = [word2num[w] if w in word2num else word2num['<Other>'] for w in sentence.split()]\n",
    "sentence_num = [word2num['<PAD>']]*(800-len(sentence_num)) + sentence_num\n",
    "sentence_num = np.array(sentence_num)\n",
    "glove_lstm.predict(sentence_num[None,:])"
   ]
  },
  {
   "cell_type": "code",
   "execution_count": 149,
   "metadata": {},
   "outputs": [
    {
     "data": {
      "text/plain": [
       "array([[0.99907196]], dtype=float32)"
      ]
     },
     "execution_count": 149,
     "metadata": {},
     "output_type": "execute_result"
    }
   ],
   "source": [
    "sentence = \"A news article from Bloomberg added that based on an investigation conducted in year 2018, all prof should be jailed\".lower()\n",
    "sentence_num = [word2num[w] if w in word2num else word2num['<Other>'] for w in sentence.split()]\n",
    "sentence_num = [word2num['<PAD>']]*(800-len(sentence_num)) + sentence_num\n",
    "sentence_num = np.array(sentence_num)\n",
    "glove_lstm.predict(sentence_num[None,:])"
   ]
  },
  {
   "cell_type": "code",
   "execution_count": 150,
   "metadata": {},
   "outputs": [
    {
     "data": {
      "text/plain": [
       "array([[0.9963684]], dtype=float32)"
      ]
     },
     "execution_count": 150,
     "metadata": {},
     "output_type": "execute_result"
    }
   ],
   "source": [
    "sentence = \"Lee Hsien Loong added in 2018 that the reason he was stepping down soon was because he wanted to focus his time \\\n",
    "            to be the best Pokemon Master, like no one ever was.\"\n",
    "sentence_num = [word2num[w] if w in word2num else word2num['<Other>'] for w in sentence.split()]\n",
    "sentence_num = [word2num['<PAD>']]*(800-len(sentence_num)) + sentence_num\n",
    "sentence_num = np.array(sentence_num)\n",
    "glove_lstm.predict(sentence_num[None,:])"
   ]
  },
  {
   "cell_type": "code",
   "execution_count": 151,
   "metadata": {},
   "outputs": [
    {
     "data": {
      "text/plain": [
       "array([[0.7398947]], dtype=float32)"
      ]
     },
     "execution_count": 151,
     "metadata": {},
     "output_type": "execute_result"
    }
   ],
   "source": [
    "sentence = \"added noted 2018 2019 bloomberg investigations year cent programme prof reuters jailed understands republic dec mr\"\n",
    "\n",
    "sentence_num = [word2num[w] if w in word2num else word2num['<Other>'] for w in sentence.split()]\n",
    "sentence_num = [word2num['<PAD>']]*(800-len(sentence_num)) + sentence_num\n",
    "sentence_num = np.array(sentence_num)\n",
    "glove_lstm.predict(sentence_num[None,:])"
   ]
  },
  {
   "cell_type": "code",
   "execution_count": 158,
   "metadata": {},
   "outputs": [
    {
     "data": {
      "text/plain": [
       "array([[0.9970125]], dtype=float32)"
      ]
     },
     "execution_count": 158,
     "metadata": {},
     "output_type": "execute_result"
    }
   ],
   "source": [
    "sentence = \"In 2017, Lee Hsien Loong said he would be stepping down as Prime Minister as he wanted to focus his time \\\n",
    "            to be the best Pokemon Master, like no one ever was.\"\n",
    "\n",
    "sentence_num = [word2num[w] if w in word2num else word2num['<Other>'] for w in sentence.split()]\n",
    "sentence_num = [word2num['<PAD>']]*(800-len(sentence_num)) + sentence_num\n",
    "sentence_num = np.array(sentence_num)\n",
    "glove_lstm.predict(sentence_num[None,:])"
   ]
  },
  {
   "cell_type": "code",
   "execution_count": 159,
   "metadata": {},
   "outputs": [
    {
     "data": {
      "text/plain": [
       "array([[0.9971046]], dtype=float32)"
      ]
     },
     "execution_count": 159,
     "metadata": {},
     "output_type": "execute_result"
    }
   ],
   "source": [
    "sentence = \"In 2018, Lee Hsien Loong added that he would be stepping down as Prime Minister as he wanted to focus his time \\\n",
    "            to be the best Pokemon Master, like no one ever was.\"\n",
    "\n",
    "sentence_num = [word2num[w] if w in word2num else word2num['<Other>'] for w in sentence.split()]\n",
    "sentence_num = [word2num['<PAD>']]*(800-len(sentence_num)) + sentence_num\n",
    "sentence_num = np.array(sentence_num)\n",
    "glove_lstm.predict(sentence_num[None,:])"
   ]
  },
  {
   "cell_type": "code",
   "execution_count": 152,
   "metadata": {},
   "outputs": [
    {
     "data": {
      "text/plain": [
       "array([[0.88647664]], dtype=float32)"
      ]
     },
     "execution_count": 152,
     "metadata": {},
     "output_type": "execute_result"
    }
   ],
   "source": [
    "sentence = \"singapore two men who had sex with a then 13yearold secondary school student after chatting her up on mobile applications like wechat and meow chat were sentenced to jail on monday july 2 . abdul rashid sapuan 26 who was a police national serviceman attached to the special operations command was sentenced to 15 months while rosidi ayop jr flora a 21yearold filipino permanent resident who worked as a bellboy was sentenced to 13 months . rosidi who is currently serving his national service got the lighter sentence as he was under 21 years old when he committed the offence . court documents stated that the girl now a 14yearold who cannot be named due to a gag order has an iq score of 87 which suggested that she was functioning within the low average range of intelligence . the victims mother a 44yearold receptionist lodged a police report on oct 10 2016 after discovering sexuallycharged conversations between her daughter and unknown men on the girls mobile phone . in those conversations naked photographs were exchanged . the girl also asked if she could be the mens girlfriend before arranging to meet them at her house so that they can have sex while her mother was at work . the girl first had sex with rashid after getting acquainted with him sometime in late september 2016 through wechat . the victim asked him via whatsapp on sept 24 2016 if she could be his girlfriend before asking him if he wanted to have sex with her . rashid agreed about the sex but told her to wait until she finished her o level examinations before they talk about getting into a relationship . more than a week later on oct 7 2016 the girl had sex with rosidi an acquaintance he met through meow chat in february that year . among the two men other charges including procuring the commission of an indecent act by a child by asking her to send him a nude photograph as well as touching the minor inappropriately were taken into consideration during their sentencing . for sexually penetrating a minor who is under 14 years old with or without her consent the men could have been sentenced to a jail term of up to 20 years and could also be liable to a fine or to caning . today understands there is a third man who has been charged with having sex with the same victim . his case will be heard in court on july 23 .\"\n",
    "\n",
    "sentence_num = [word2num[w] if w in word2num else word2num['<Other>'] for w in sentence.split()]\n",
    "sentence_num = [word2num['<PAD>']]*(800-len(sentence_num)) + sentence_num\n",
    "sentence_num = np.array(sentence_num)\n",
    "\n",
    "glove_lstm.predict(sentence_num[None,:])"
   ]
  },
  {
   "cell_type": "code",
   "execution_count": 153,
   "metadata": {},
   "outputs": [
    {
     "data": {
      "text/plain": [
       "array([[0.9932807]], dtype=float32)"
      ]
     },
     "execution_count": 153,
     "metadata": {},
     "output_type": "execute_result"
    }
   ],
   "source": [
    "sentence = \"\"\"\n",
    "SINGAPORE - Travel agency Chan Brothers Travel is being investigated by Singapore's privacy watchdog after the personal data of more than 500 of its customers was found to be publicly accessible.\n",
    "Screenshots provided by a tip-off seen by The Straits Times showed that the website exposed data such as names, NRIC numbers, passport numbers and even travel plans of Chan Brothers Travel's customers.\n",
    "The Personal Data Protection Commission (PDPC) said on Friday (May 24) that it has been notified of the incident and is investigating.\n",
    "Responding to ST queries, a spokesman for the travel agency said that it takes full responsibility for the incident and that it was notified of the vulnerabilities on Thursday.\n",
    "It is currently working with its vendor, Aodigy Asia Pacific, to ascertain the cause of the data exposure.\n",
    "\"Upon notification of the vulnerabilities, we immediately took action to address the matter including containing the extent of vulnerabilities, assessing the extent of impact and reporting the incident to PDPC,\" the spokesman said.\n",
    "\"Some of the measures undertaken require continual monitoring, review and action, as it involves information that has been publicly cached. We have shut down the site meanwhile.\"\n",
    "When ST visited the website on Friday, some of the data could still be publicly accessed via cached versions of the site, which are temporarily available versions of websites.\n",
    "When asked if Chan Brothers Travel had informed any of the affected customers, the spokesman said it was progressively contacting affected customers.\n",
    "\"We are currently investigating this matter and ascertaining the extent and nature of information that was revealed. We would like to assure our customers that no sensitive financial and booking information was revealed,\" she said.\n",
    "\"That said, we recognise that no personal data should be exposed at all in any manner and that it is our responsibility and priority to protect our customers' personal data.\"\n",
    "Co-founder of local fintech start-up Factors Platform Andrew Goh informed ST of the insecure data. He had come across it as he was in the midst of gathering datasets for his work.\n",
    "He discovered that he could look up client inquiries and post-tour surveys on the Chan Brothers Travel site, which contained the personal information.\n",
    "Said Mr Goh: \"I have found close to 500 entries in aggregate (inquiries and surveys), close to 450 of them are unique clients.\"\n",
    "He said he had found the data on Wednesday evening and decided to go down to the travel agency's office the next day to notify them about the issue.\n",
    "There, he met its IT director, who, he said, told him that the issue would be sorted out.\n",
    "Later on Thursday, Mr Goh said a Chan Brothers Travel staff member called him to inform him that the problem has been fixed.\n",
    "The staff member also asked him if he wanted to book a tour with them. Mr Goh said no.\n",
    "But when Mr Goh checked again in the evening, the data was still publicly accessible.\n",
    "\"To my horror, all the data could still be found. I find it very appalling that the company does not seem to place customer's privacy at heart and kind of treated it like a joke by trying to sell me tour packages,\" he said.\n",
    "\"\"\"\n",
    "\n",
    "sentence_num = [word2num[w] if w in word2num else word2num['<Other>'] for w in sentence.split()]\n",
    "sentence_num = [word2num['<PAD>']]*(800-len(sentence_num)) + sentence_num\n",
    "sentence_num = np.array(sentence_num)\n",
    "\n",
    "glove_lstm.predict(sentence_num[None,:])"
   ]
  },
  {
   "cell_type": "code",
   "execution_count": 154,
   "metadata": {},
   "outputs": [
    {
     "data": {
      "text/plain": [
       "array([[0.00840222]], dtype=float32)"
      ]
     },
     "execution_count": 154,
     "metadata": {},
     "output_type": "execute_result"
    }
   ],
   "source": [
    "sentence = \"\"\"\n",
    "SINGAPORE - A day before he was scheduled to hang on Friday (May 24), a Malaysian drug mule on death row got a temporary reprieve after the Court of Appeal granted him a stay of execution.\n",
    "\n",
    "Pannir Selvam Pranthaman, 31, applied for his death sentence to be stayed on the basis that he intends to mount a legal challenge against the rejection of his petition for clemency to President Halimah Yacob.\n",
    "\n",
    "On Thursday (May 23), a three-judge Court of Appeal granted his request, noting that Pannir Selvam was told of the rejection and his execution date just one week in advance.\n",
    "\n",
    "This did not leave the prisoner much time to obtain legal advice on what options he has to challenge the rejection of his clemency plea, said Chief Justice Sundaresh Menon.\n",
    "\n",
    "He added that Pannir Selvam's Singapore lawyers, Mr Too Xing Ji and Mr Lee Ji En, who were instructed only on Thursday, could not be expected to mount a fully developed argument in such a time frame.\n",
    "\n",
    "CJ Menon said: \"There are extremely narrow grounds upon which the clemency process may be so impugned. However, in our judgment, the applicant ought to have a reasonable opportunity to take advice on whether he can mount a successful challenge.\"\n",
    "\n",
    "During the hearing, Mr Too raised questions about the \"lack of transparency\" of the clemency process in relation to Pannir Selvam, who was convicted of importing 51.84g of heroin in 2017.\n",
    "\n",
    "The court heard that two letters sent to his family - one from the Istana rejecting the clemency petition and the other from the Singapore Prison Service stating his execution date - were both dated May 17.\n",
    "\n",
    "In an affidavit, Pannir Selvam said his family had courier receipts to show that the letters were posted out on May 16.\n",
    "\n",
    "He took issue with the sequence of events, arguing that he had been deprived of a fair clemency process.\n",
    "\n",
    "In response, the prosecution, represented by Senior Counsel Francis Ng, submitted affidavits from the Istana, the Attorney-General's Chambers and the prisons, to set out the sequence of events.\n",
    "Mr Benny Lee, principal private secretary to the President, said in his affidavit that prior to May 7, Madam Halimah had been advised by the Cabinet that the law should be allowed to take its course in Pannir Selvam's case.\n",
    "\n",
    "On May 7, Mr Lee signed letters informing Pannir Selvam and his family that the death sentence would stand. These letters were sent to the prisons on May 14, to be forwarded to the prisoner and his family.\n",
    "In a statement addressing Malaysian media reports about the case, the Ministry of Home Affairs (MHA) said the petitions were carefully considered.\n",
    "\n",
    "The President acted on the advice of the Cabinet, in accordance with the Constitution, in not exercising the clemency power, said the statement on Thursday.\n",
    "\n",
    "The ministry also clarified reports claiming that Pannir Selvam was unreasonably denied a certificate of substantive assistance, which might have spared him the mandatory death penalty.\n",
    "\n",
    "\"MHA would like to clarify that the decision is taken by the Public Prosecutor in his sole discretion, based on whether the offender had provided the authorities substantive assistance that leads to the disruption of drug trafficking activities in Singapore. The Public Prosecutor determined that he had not,\" it added.\n",
    "\n",
    "This issue was not pursued in court by Mr Too, who focused on the clemency process.\n",
    "\n",
    "He argued that it was still not clear when the decision was made, why the letters were post-dated, and why the decision had not been communicated earlier to his client's family.\n",
    "\n",
    "He said his client was deprived of the time to consult a lawyer to see if there were any grounds to file a judicial review against the rejection of his clemency petition.\n",
    "\"\"\"\n",
    "\n",
    "sentence_num = [word2num[w] if w in word2num else word2num['<Other>'] for w in sentence.split()]\n",
    "sentence_num = [word2num['<PAD>']]*(800-len(sentence_num)) + sentence_num\n",
    "sentence_num = np.array(sentence_num)\n",
    "\n",
    "glove_lstm.predict(sentence_num[None,:])"
   ]
  },
  {
   "cell_type": "markdown",
   "metadata": {},
   "source": [
    "# Visualise Misclass Category"
   ]
  },
  {
   "cell_type": "code",
   "execution_count": 176,
   "metadata": {},
   "outputs": [],
   "source": [
    "# index_test = list(X_test.index)\n",
    "# test_df = data.loc[index_test, :]\n",
    "test_df['predict'] = list(glove_lstm.predict_classes(X_test))"
   ]
  },
  {
   "cell_type": "code",
   "execution_count": 177,
   "metadata": {},
   "outputs": [],
   "source": [
    "predict_correct = []\n",
    "for index in list(test_df.index):\n",
    "    if test_df.loc[index, 'is_fake'] == test_df.loc[index, 'predict']:\n",
    "        predict_correct.append(1)\n",
    "    else:\n",
    "        predict_correct.append(0)\n",
    "\n",
    "test_df['predict_correct'] = predict_correct\n",
    "test_df['predict_wrong'] = [1 if i == 0 else 0 for i in test_df['predict_correct']]"
   ]
  },
  {
   "cell_type": "code",
   "execution_count": 178,
   "metadata": {},
   "outputs": [],
   "source": [
    "category_misclass = test_df.groupby(['category']).sum().reset_index()[['category', 'predict_correct', 'predict_wrong']]\n",
    "category_misclass['total_count'] = category_misclass['predict_correct'] + category_misclass['predict_wrong']\n",
    "category_misclass['predict_correct'] = category_misclass['predict_correct'] / category_misclass['total_count']\n",
    "category_misclass['predict_wrong'] = category_misclass['predict_wrong'] / category_misclass['total_count']"
   ]
  },
  {
   "cell_type": "code",
   "execution_count": 179,
   "metadata": {},
   "outputs": [
    {
     "data": {
      "text/html": [
       "<div>\n",
       "<style scoped>\n",
       "    .dataframe tbody tr th:only-of-type {\n",
       "        vertical-align: middle;\n",
       "    }\n",
       "\n",
       "    .dataframe tbody tr th {\n",
       "        vertical-align: top;\n",
       "    }\n",
       "\n",
       "    .dataframe thead th {\n",
       "        text-align: right;\n",
       "    }\n",
       "</style>\n",
       "<table border=\"1\" class=\"dataframe\">\n",
       "  <thead>\n",
       "    <tr style=\"text-align: right;\">\n",
       "      <th></th>\n",
       "      <th>category</th>\n",
       "      <th>predict_correct</th>\n",
       "      <th>predict_wrong</th>\n",
       "      <th>total_count</th>\n",
       "    </tr>\n",
       "  </thead>\n",
       "  <tbody>\n",
       "    <tr>\n",
       "      <th>0</th>\n",
       "      <td>business</td>\n",
       "      <td>0.881126</td>\n",
       "      <td>0.118874</td>\n",
       "      <td>1918</td>\n",
       "    </tr>\n",
       "    <tr>\n",
       "      <th>1</th>\n",
       "      <td>courts-crime</td>\n",
       "      <td>0.913761</td>\n",
       "      <td>0.086239</td>\n",
       "      <td>1090</td>\n",
       "    </tr>\n",
       "    <tr>\n",
       "      <th>2</th>\n",
       "      <td>education</td>\n",
       "      <td>0.914062</td>\n",
       "      <td>0.085938</td>\n",
       "      <td>256</td>\n",
       "    </tr>\n",
       "    <tr>\n",
       "      <th>3</th>\n",
       "      <td>environment</td>\n",
       "      <td>0.871622</td>\n",
       "      <td>0.128378</td>\n",
       "      <td>148</td>\n",
       "    </tr>\n",
       "    <tr>\n",
       "      <th>4</th>\n",
       "      <td>health</td>\n",
       "      <td>0.895062</td>\n",
       "      <td>0.104938</td>\n",
       "      <td>324</td>\n",
       "    </tr>\n",
       "  </tbody>\n",
       "</table>\n",
       "</div>"
      ],
      "text/plain": [
       "       category  predict_correct  predict_wrong  total_count\n",
       "0      business         0.881126       0.118874         1918\n",
       "1  courts-crime         0.913761       0.086239         1090\n",
       "2     education         0.914062       0.085938          256\n",
       "3   environment         0.871622       0.128378          148\n",
       "4        health         0.895062       0.104938          324"
      ]
     },
     "execution_count": 179,
     "metadata": {},
     "output_type": "execute_result"
    }
   ],
   "source": [
    "category_misclass.head()"
   ]
  },
  {
   "cell_type": "code",
   "execution_count": 202,
   "metadata": {},
   "outputs": [
    {
     "data": {
      "text/html": [
       "<div>\n",
       "<style scoped>\n",
       "    .dataframe tbody tr th:only-of-type {\n",
       "        vertical-align: middle;\n",
       "    }\n",
       "\n",
       "    .dataframe tbody tr th {\n",
       "        vertical-align: top;\n",
       "    }\n",
       "\n",
       "    .dataframe thead th {\n",
       "        text-align: right;\n",
       "    }\n",
       "</style>\n",
       "<table border=\"1\" class=\"dataframe\">\n",
       "  <thead>\n",
       "    <tr style=\"text-align: right;\">\n",
       "      <th></th>\n",
       "      <th>category</th>\n",
       "      <th>predict_correct</th>\n",
       "      <th>predict_wrong</th>\n",
       "    </tr>\n",
       "  </thead>\n",
       "  <tbody>\n",
       "    <tr>\n",
       "      <th>0</th>\n",
       "      <td>business</td>\n",
       "      <td>0.881126</td>\n",
       "      <td>0.118874</td>\n",
       "    </tr>\n",
       "    <tr>\n",
       "      <th>1</th>\n",
       "      <td>courts-crime</td>\n",
       "      <td>0.913761</td>\n",
       "      <td>0.086239</td>\n",
       "    </tr>\n",
       "    <tr>\n",
       "      <th>2</th>\n",
       "      <td>education</td>\n",
       "      <td>0.914062</td>\n",
       "      <td>0.085938</td>\n",
       "    </tr>\n",
       "    <tr>\n",
       "      <th>3</th>\n",
       "      <td>environment</td>\n",
       "      <td>0.871622</td>\n",
       "      <td>0.128378</td>\n",
       "    </tr>\n",
       "    <tr>\n",
       "      <th>4</th>\n",
       "      <td>health</td>\n",
       "      <td>0.895062</td>\n",
       "      <td>0.104938</td>\n",
       "    </tr>\n",
       "    <tr>\n",
       "      <th>5</th>\n",
       "      <td>housing</td>\n",
       "      <td>0.967742</td>\n",
       "      <td>0.032258</td>\n",
       "    </tr>\n",
       "    <tr>\n",
       "      <th>6</th>\n",
       "      <td>manpower</td>\n",
       "      <td>0.892857</td>\n",
       "      <td>0.107143</td>\n",
       "    </tr>\n",
       "    <tr>\n",
       "      <th>7</th>\n",
       "      <td>politics</td>\n",
       "      <td>0.914508</td>\n",
       "      <td>0.085492</td>\n",
       "    </tr>\n",
       "    <tr>\n",
       "      <th>8</th>\n",
       "      <td>transport</td>\n",
       "      <td>0.842742</td>\n",
       "      <td>0.157258</td>\n",
       "    </tr>\n",
       "  </tbody>\n",
       "</table>\n",
       "</div>"
      ],
      "text/plain": [
       "       category  predict_correct  predict_wrong\n",
       "0      business         0.881126       0.118874\n",
       "1  courts-crime         0.913761       0.086239\n",
       "2     education         0.914062       0.085938\n",
       "3   environment         0.871622       0.128378\n",
       "4        health         0.895062       0.104938\n",
       "5       housing         0.967742       0.032258\n",
       "6      manpower         0.892857       0.107143\n",
       "7      politics         0.914508       0.085492\n",
       "8     transport         0.842742       0.157258"
      ]
     },
     "execution_count": 202,
     "metadata": {},
     "output_type": "execute_result"
    }
   ],
   "source": [
    "category_misclass = category_misclass[['category', 'predict_correct', 'predict_wrong']]\n",
    "category_misclass"
   ]
  },
  {
   "cell_type": "code",
   "execution_count": 201,
   "metadata": {},
   "outputs": [
    {
     "data": {
      "text/plain": [
       "<Figure size 1080x720 with 0 Axes>"
      ]
     },
     "metadata": {},
     "output_type": "display_data"
    },
    {
     "data": {
      "image/png": "[encoded data removed]",
      "text/plain": [
       "<Figure size 1080x288 with 1 Axes>"
      ]
     },
     "metadata": {},
     "output_type": "display_data"
    }
   ],
   "source": [
    "colors_list = ['#5cb85c','#d9534f']\n",
    "\n",
    "plt.figure(figsize= (15,10))\n",
    "\n",
    "# Change this line to plot percentages instead of absolute values\n",
    "ax = category_misclass.plot(kind='bar',figsize=(15,4), width = 0.8, color = colors_list, edgecolor=None)\n",
    "\n",
    "plt.legend(labels= ['predict_correct', 'predict_wrong'], fontsize= 14, bbox_to_anchor=(1,1), loc=\"lower right\")\n",
    "plt.title(\"Misclassification Rate Among Different News Categories\", fontsize= 16)\n",
    "\n",
    "plt.xticks(np.arange(len(category_misclass['category'])), category_misclass['category'], fontsize=14, \n",
    "           rotation='horizontal')\n",
    "\n",
    "for spine in plt.gca().spines.values():\n",
    "    spine.set_visible(False)\n",
    "plt.yticks([])\n",
    "\n",
    "# Add this loop to add the annotations\n",
    "for p in ax.patches:\n",
    "    width, height = p.get_width(), p.get_height()\n",
    "    x, y = p.get_xy() \n",
    "    ax.annotate('{:.0%}'.format(height), (x, y + height + 0.01))\n",
    "    \n",
    "plt.show()"
   ]
  },
  {
   "cell_type": "markdown",
   "metadata": {},
   "source": [
    "# Visualisation on Class Prediction Error"
   ]
  },
  {
   "cell_type": "code",
   "execution_count": 190,
   "metadata": {},
   "outputs": [],
   "source": [
    "isfake_misclass = test_df.groupby(['is_fake']).sum().reset_index()[['is_fake', 'predict_correct', 'predict_wrong']]\n",
    "isfake_misclass['total_count'] = isfake_misclass['predict_correct'] + isfake_misclass['predict_wrong']\n",
    "isfake_misclass['predict_correct'] = isfake_misclass['predict_correct'] / isfake_misclass['total_count']\n",
    "isfake_misclass['predict_wrong'] = isfake_misclass['predict_wrong'] / isfake_misclass['total_count']"
   ]
  },
  {
   "cell_type": "code",
   "execution_count": 192,
   "metadata": {},
   "outputs": [
    {
     "data": {
      "text/html": [
       "<div>\n",
       "<style scoped>\n",
       "    .dataframe tbody tr th:only-of-type {\n",
       "        vertical-align: middle;\n",
       "    }\n",
       "\n",
       "    .dataframe tbody tr th {\n",
       "        vertical-align: top;\n",
       "    }\n",
       "\n",
       "    .dataframe thead th {\n",
       "        text-align: right;\n",
       "    }\n",
       "</style>\n",
       "<table border=\"1\" class=\"dataframe\">\n",
       "  <thead>\n",
       "    <tr style=\"text-align: right;\">\n",
       "      <th></th>\n",
       "      <th>is_fake</th>\n",
       "      <th>predict_correct</th>\n",
       "      <th>predict_wrong</th>\n",
       "      <th>total_count</th>\n",
       "    </tr>\n",
       "  </thead>\n",
       "  <tbody>\n",
       "    <tr>\n",
       "      <th>0</th>\n",
       "      <td>0</td>\n",
       "      <td>0.810874</td>\n",
       "      <td>0.189126</td>\n",
       "      <td>2575</td>\n",
       "    </tr>\n",
       "    <tr>\n",
       "      <th>1</th>\n",
       "      <td>1</td>\n",
       "      <td>0.974757</td>\n",
       "      <td>0.025243</td>\n",
       "      <td>2575</td>\n",
       "    </tr>\n",
       "  </tbody>\n",
       "</table>\n",
       "</div>"
      ],
      "text/plain": [
       "   is_fake  predict_correct  predict_wrong  total_count\n",
       "0        0         0.810874       0.189126         2575\n",
       "1        1         0.974757       0.025243         2575"
      ]
     },
     "execution_count": 192,
     "metadata": {},
     "output_type": "execute_result"
    }
   ],
   "source": [
    "isfake_misclass.head()"
   ]
  },
  {
   "cell_type": "code",
   "execution_count": 217,
   "metadata": {},
   "outputs": [
    {
     "data": {
      "text/html": [
       "<div>\n",
       "<style scoped>\n",
       "    .dataframe tbody tr th:only-of-type {\n",
       "        vertical-align: middle;\n",
       "    }\n",
       "\n",
       "    .dataframe tbody tr th {\n",
       "        vertical-align: top;\n",
       "    }\n",
       "\n",
       "    .dataframe thead th {\n",
       "        text-align: right;\n",
       "    }\n",
       "</style>\n",
       "<table border=\"1\" class=\"dataframe\">\n",
       "  <thead>\n",
       "    <tr style=\"text-align: right;\">\n",
       "      <th></th>\n",
       "      <th>is_fake</th>\n",
       "      <th>predict_correct</th>\n",
       "      <th>predict_wrong</th>\n",
       "    </tr>\n",
       "  </thead>\n",
       "  <tbody>\n",
       "    <tr>\n",
       "      <th>0</th>\n",
       "      <td>Real News</td>\n",
       "      <td>0.810874</td>\n",
       "      <td>0.189126</td>\n",
       "    </tr>\n",
       "    <tr>\n",
       "      <th>1</th>\n",
       "      <td>Fake News</td>\n",
       "      <td>0.974757</td>\n",
       "      <td>0.025243</td>\n",
       "    </tr>\n",
       "  </tbody>\n",
       "</table>\n",
       "</div>"
      ],
      "text/plain": [
       "     is_fake  predict_correct  predict_wrong\n",
       "0  Real News         0.810874       0.189126\n",
       "1  Fake News         0.974757       0.025243"
      ]
     },
     "execution_count": 217,
     "metadata": {},
     "output_type": "execute_result"
    }
   ],
   "source": [
    "isfake_misclass = isfake_misclass[['is_fake', 'predict_correct', 'predict_wrong']]\n",
    "isfake_misclass['is_fake'] = ['Real News', 'Fake News']\n",
    "isfake_misclass"
   ]
  },
  {
   "cell_type": "code",
   "execution_count": 225,
   "metadata": {},
   "outputs": [
    {
     "data": {
      "text/plain": [
       "<Figure size 576x396 with 0 Axes>"
      ]
     },
     "metadata": {},
     "output_type": "display_data"
    },
    {
     "data": {
      "image/png": "[encoded data removed]",
      "text/plain": [
       "<Figure size 1080x360 with 1 Axes>"
      ]
     },
     "metadata": {},
     "output_type": "display_data"
    }
   ],
   "source": [
    "colors_list = ['#5cb85c','#d9534f']\n",
    "\n",
    "plt.figure()\n",
    "\n",
    "# Change this line to plot percentages instead of absolute values\n",
    "ax = isfake_misclass.plot(kind='bar',figsize=(15,5), width = 0.8, color = colors_list, edgecolor=None)\n",
    "\n",
    "plt.legend(labels= ['predict_correct', 'predict_wrong'], fontsize= 14, bbox_to_anchor=(1,1), loc=\"lower right\")\n",
    "plt.title(\"Misclassification Rate on Test Dateset\", fontsize= 20)\n",
    "\n",
    "plt.xticks(np.arange(len(isfake_misclass['is_fake'])), isfake_misclass['is_fake'], fontsize=14, \n",
    "           rotation='horizontal')\n",
    "\n",
    "for spine in plt.gca().spines.values():\n",
    "    spine.set_visible(False)\n",
    "plt.yticks([])\n",
    "\n",
    "# Add this loop to add the annotations\n",
    "for p in ax.patches:\n",
    "    width, height = p.get_width(), p.get_height()\n",
    "    x, y = p.get_xy() \n",
    "    ax.annotate('{:.0%}'.format(height), (x, y + height + 0.01))\n",
    "    \n",
    "plt.show()"
   ]
  }
 ],
 "metadata": {
  "kernelspec": {
   "display_name": "Python 3",
   "language": "python",
   "name": "python3"
  },
  "language_info": {
   "codemirror_mode": {
    "name": "ipython",
    "version": 3
   },
   "file_extension": ".py",
   "mimetype": "text/x-python",
   "name": "python",
   "nbconvert_exporter": "python",
   "pygments_lexer": "ipython3",
   "version": "3.5.3"
  }
 },
 "nbformat": 4,
 "nbformat_minor": 2
}
